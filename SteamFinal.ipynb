{
  "nbformat": 4,
  "nbformat_minor": 0,
  "metadata": {
    "colab": {
      "name": "SteamV2.ipynb",
      "provenance": [],
      "collapsed_sections": [],
      "toc_visible": true
    },
    "kernelspec": {
      "display_name": "Python 3",
      "language": "python",
      "name": "python3"
    },
    "language_info": {
      "codemirror_mode": {
        "name": "ipython",
        "version": 3
      },
      "file_extension": ".py",
      "mimetype": "text/x-python",
      "name": "python",
      "nbconvert_exporter": "python",
      "pygments_lexer": "ipython3",
      "version": "3.7.4"
    },
    "toc": {
      "base_numbering": 1,
      "nav_menu": {},
      "number_sections": true,
      "sideBar": true,
      "skip_h1_title": false,
      "title_cell": "Table of Contents",
      "title_sidebar": "Contents",
      "toc_cell": false,
      "toc_position": {
        "height": "calc(100% - 180px)",
        "left": "10px",
        "top": "150px",
        "width": "165px"
      },
      "toc_section_display": true,
      "toc_window_display": true
    },
    "varInspector": {
      "cols": {
        "lenName": 16,
        "lenType": 16,
        "lenVar": 40
      },
      "kernels_config": {
        "python": {
          "delete_cmd_postfix": "",
          "delete_cmd_prefix": "del ",
          "library": "var_list.py",
          "varRefreshCmd": "print(var_dic_list())"
        },
        "r": {
          "delete_cmd_postfix": ") ",
          "delete_cmd_prefix": "rm(",
          "library": "var_list.r",
          "varRefreshCmd": "cat(var_dic_list()) "
        }
      },
      "types_to_exclude": [
        "module",
        "function",
        "builtin_function_or_method",
        "instance",
        "_Feature"
      ],
      "window_display": false
    }
  },
  "cells": [
    {
      "cell_type": "markdown",
      "metadata": {
        "id": "4Jlx4Eenpr5d",
        "colab_type": "text"
      },
      "source": [
        "# BAX 423 Big Data Final Project - Steam Game Platform Recommendation System"
      ]
    },
    {
      "cell_type": "markdown",
      "metadata": {
        "id": "UrNgzgqNp0Op",
        "colab_type": "text"
      },
      "source": [
        "## Colab pyspark environment set up"
      ]
    },
    {
      "cell_type": "code",
      "metadata": {
        "colab_type": "code",
        "id": "NOqjN-q93F0S",
        "colab": {}
      },
      "source": [
        "!apt-get install openjdk-8-jdk-headless -qq > /dev/null\n",
        "!wget https://downloads.apache.org/spark/spark-3.0.0-preview2/spark-3.0.0-preview2-bin-hadoop3.2.tgz\n",
        "!tar -xvf spark-3.0.0-preview2-bin-hadoop3.2.tgz\n",
        "!pip install -q findspark"
      ],
      "execution_count": 0,
      "outputs": []
    },
    {
      "cell_type": "code",
      "metadata": {
        "colab_type": "code",
        "id": "DyAQJGDo3K-t",
        "colab": {}
      },
      "source": [
        "import os\n",
        "os.environ[\"JAVA_HOME\"] = \"/usr/lib/jvm/java-8-openjdk-amd64\"\n",
        "os.environ[\"SPARK_HOME\"] = \"/content/spark-3.0.0-preview2-bin-hadoop3.2\""
      ],
      "execution_count": 0,
      "outputs": []
    },
    {
      "cell_type": "code",
      "metadata": {
        "colab_type": "code",
        "id": "9Yy05iP93LKg",
        "outputId": "eac8ff50-514b-468a-d072-867b6a2f140b",
        "scrolled": true,
        "colab": {
          "base_uri": "https://localhost:8080/",
          "height": 118
        }
      },
      "source": [
        "from google.colab import drive\n",
        "drive.mount('/content/drive', force_remount=True)"
      ],
      "execution_count": 3,
      "outputs": [
        {
          "output_type": "stream",
          "text": [
            "Go to this URL in a browser: https://accounts.google.com/o/oauth2/auth?client_id=947318989803-6bn6qk8qdgf4n4g3pfee6491hc0brc4i.apps.googleusercontent.com&redirect_uri=urn%3aietf%3awg%3aoauth%3a2.0%3aoob&response_type=code&scope=email%20https%3a%2f%2fwww.googleapis.com%2fauth%2fdocs.test%20https%3a%2f%2fwww.googleapis.com%2fauth%2fdrive%20https%3a%2f%2fwww.googleapis.com%2fauth%2fdrive.photos.readonly%20https%3a%2f%2fwww.googleapis.com%2fauth%2fpeopleapi.readonly\n",
            "\n",
            "Enter your authorization code:\n",
            "··········\n",
            "Mounted at /content/drive\n"
          ],
          "name": "stdout"
        }
      ]
    },
    {
      "cell_type": "code",
      "metadata": {
        "ExecuteTime": {
          "end_time": "2020-06-04T18:21:49.323256Z",
          "start_time": "2020-06-04T18:21:46.490479Z"
        },
        "colab_type": "code",
        "id": "LJluwM6r3LQ7",
        "colab": {}
      },
      "source": [
        "import pandas as pd\n",
        "import numpy as np\n",
        "import matplotlib.pyplot as plt\n",
        "\n",
        "# spark\n",
        "import findspark\n",
        "findspark.init()\n",
        "from pyspark.sql import SparkSession\n",
        "from pyspark.sql import SQLContext\n",
        "from pyspark.sql.functions import monotonically_increasing_id\n",
        "import pyspark.sql.functions as F\n",
        "from pyspark.sql.functions import concat, col, lit, when, max, lower\n",
        "from pyspark.sql.window import Window\n",
        "from pyspark.sql.types import StructType, StructField\n",
        "from pyspark.sql.types import *\n",
        "\n",
        "# nlp \n",
        "from pyspark.sql.functions import explode,regexp_extract,regexp_replace\n",
        "from pyspark.ml.feature import Tokenizer\n",
        "from pyspark.ml.feature import StopWordsRemover\n",
        "from nltk.stem.snowball import SnowballStemmer\n",
        "from pyspark.ml.feature import Word2Vec\n",
        "from pyspark.ml.feature import HashingTF, IDF\n",
        "from pyspark.ml.feature import CountVectorizer\n",
        "from pyspark.mllib.linalg import Vector, Vectors\n",
        "from pyspark.ml.feature import NGram\n",
        "\n",
        "# topics modeling\n",
        "from pyspark.ml.clustering import LDA\n",
        "\n",
        "from pyspark.ml.feature import StandardScaler\n",
        "from pyspark.ml.feature import VectorAssembler\n",
        "from pyspark.ml import Pipeline"
      ],
      "execution_count": 0,
      "outputs": []
    },
    {
      "cell_type": "code",
      "metadata": {
        "ExecuteTime": {
          "end_time": "2020-06-04T18:22:03.118580Z",
          "start_time": "2020-06-04T18:21:53.598822Z"
        },
        "colab_type": "code",
        "id": "O0SlEG4R3LZg",
        "colab": {}
      },
      "source": [
        "# initialise sparkContext\n",
        "spark = SparkSession.builder \\\n",
        "                    .master('local[*]') \\\n",
        "                    .appName('steam') \\\n",
        "                    .config('spark.executor.memory', '10gb') \\\n",
        "                    .config(\"spark.cores.max\", \"6\") \\\n",
        "                    .getOrCreate()"
      ],
      "execution_count": 0,
      "outputs": []
    },
    {
      "cell_type": "markdown",
      "metadata": {
        "colab_type": "text",
        "id": "J_KMDvExwUSx"
      },
      "source": [
        "## Load dataset "
      ]
    },
    {
      "cell_type": "code",
      "metadata": {
        "ExecuteTime": {
          "end_time": "2020-06-02T05:31:39.928850Z",
          "start_time": "2020-06-02T05:31:04.458876Z"
        },
        "colab_type": "code",
        "id": "lBCSQy555q-q",
        "outputId": "e39e5adb-6b78-4cb8-b136-4f6994d04056",
        "colab": {
          "base_uri": "https://localhost:8080/",
          "height": 232
        }
      },
      "source": [
        "# user-review data\n",
        "Reviews = spark.read.csv(\"/content/drive/My Drive/steam/final dataset/raw_reviews.csv\", \n",
        "                         inferSchema = True, header = True, sep=';')    #mode=\"DROPMALFORMED\"\n",
        "print(Reviews.count())\n",
        "Reviews.show(5)"
      ],
      "execution_count": 0,
      "outputs": [
        {
          "output_type": "stream",
          "text": [
            "1817436\n",
            "+------+-----------------+--------+-------------+---------------+--------+--------------------+-------------------+--------+--------------------+-------------------+-----------+-------+---------+------------------+------------+-------------+----------+\n",
            "|GameID|          SteamID|ReviewID|NumGamesOwned|NumReviewsGiven|PlayTime|PlayTimeLastTwoWeeks|       LastPlayTime|Language|              Review|        TimeCreated|Recommended|VotesUp|VoteFunny| WeightedVoteScore|CommentCount|SteamPurchase|WriteEarly|\n",
            "+------+-----------------+--------+-------------+---------------+--------+--------------------+-------------------+--------+--------------------+-------------------+-----------+-------+---------+------------------+------------+-------------+----------+\n",
            "|925340|76561198200016459|62850082|          307|             13|     192|                   0|2020-02-02 03:00:43| english|Yuu is a student ...|2020-02-02 03:03:18|          1|      7|        0|0.6070303916931151|           0|        False|     False|\n",
            "|925340|76561198080360383|60947171|          346|             27|     151|                   0|2019-12-30 14:48:34| english|A short, but (bit...|2019-12-30 14:48:24|          1|      2|        0|0.5468277931213379|           0|         True|     False|\n",
            "|925340|76561198412449978|54724410|          293|            288|      73|                   0|2019-08-20 16:12:03| english|Welll this VN was...|2019-08-20 16:28:09|          1|      5|        1|0.5878975987434387|           0|         True|     False|\n",
            "|925340|76561198130402546|54220873|          322|             38|     162|                   1|2020-05-21 18:52:57| english|A VN with a short...|2019-07-21 18:43:37|          1|      1|        0| 0.523809552192688|           0|         True|     False|\n",
            "|925340|76561198136886006|50769360|          453|             28|     170|                   0|2019-05-22 11:04:59| english|A young man from ...|2019-05-22 11:10:55|          1|      0|        0|               0.0|           0|         True|     False|\n",
            "+------+-----------------+--------+-------------+---------------+--------+--------------------+-------------------+--------+--------------------+-------------------+-----------+-------+---------+------------------+------------+-------------+----------+\n",
            "only showing top 5 rows\n",
            "\n"
          ],
          "name": "stdout"
        }
      ]
    },
    {
      "cell_type": "code",
      "metadata": {
        "ExecuteTime": {
          "end_time": "2020-06-02T05:32:01.743610Z",
          "start_time": "2020-06-02T05:32:00.481789Z"
        },
        "colab_type": "code",
        "id": "u-6ZgcuQwUS9",
        "outputId": "b93fb631-94bc-4632-c58e-0cdc44747968",
        "scrolled": true,
        "colab": {
          "base_uri": "https://localhost:8080/",
          "height": 232
        }
      },
      "source": [
        "# game data\n",
        "Games = spark.read.csv(\"/content/drive/My Drive/steam/final dataset/df_games.csv\", \n",
        "                       inferSchema = True, header = True, sep=';')\n",
        "print(Games.count())\n",
        "Games.show(5)"
      ],
      "execution_count": 0,
      "outputs": [
        {
          "output_type": "stream",
          "text": [
            "7808\n",
            "+------+--------------------------+-----+--------------------+--------------------+--------------------+--------------------+------------+------------+------+--------------------+-----+----+---------------+----------------+\n",
            "| AppID|                   AppName|Genre|                Tags|           Developer|           Publisher|         ReviewInfor|ReviewStatus| ReleaseDate|IsFree|               Price|month|year|ReviewSentiment|        NewGenre|\n",
            "+------+--------------------------+-----+--------------------+--------------------+--------------------+--------------------+------------+------------+------+--------------------+-----+----+---------------+----------------+\n",
            "|925340|       A Winter's Daydream|Indie|['Indie', 'Simula...|            ebi-hime|            ebi-hime|Positive(19)- 100...|        true|Oct 15, 2018| false|{'currency': 'USD...|  Oct|2018|       Positive|      Simulation|\n",
            "|925440|神社的百合香 ~ Floral A...|Indie|['Indie', 'RPG', ...|            凝冰剑斩|            凝冰剑斩|Very Positive(341...|        true|Sep 30, 2018| false|{'currency': 'USD...|  Sep|2018|  Very Positive|             RPG|\n",
            "|925520|      Welcome To Bummer...|Indie|['Indie', 'Advent...|Think Inside The Box|Think Inside The Box|Very Positive(55)...|        true|Sep 11, 2018| false|{'currency': 'USD...|  Sep|2018|  Very Positive|Action-Adventure|\n",
            "|922520|                Blood City|Indie|['Indie', 'Action...|            WJLEGAME|            WJLEGAME|Positive(12)- 100...|        true|Aug 30, 2018| false|{'currency': 'USD...|  Aug|2018|       Positive|Action-Adventure|\n",
            "|921770|                     HANZ!|Indie|['Indie', 'Action...|           DimleTeam|           DimleTeam|Mixed(27)- 62% of...|        true|Oct 16, 2018| false|{'currency': 'USD...|  Oct|2018|          Mixed|Action-Adventure|\n",
            "+------+--------------------------+-----+--------------------+--------------------+--------------------+--------------------+------------+------------+------+--------------------+-----+----+---------------+----------------+\n",
            "only showing top 5 rows\n",
            "\n"
          ],
          "name": "stdout"
        }
      ]
    },
    {
      "cell_type": "code",
      "metadata": {
        "ExecuteTime": {
          "end_time": "2020-06-02T05:32:05.537378Z",
          "start_time": "2020-06-02T05:32:04.521620Z"
        },
        "colab_type": "code",
        "id": "iS5wjJgtwUTD",
        "outputId": "2782f722-e6ed-4245-c87d-4303629bc750",
        "colab": {
          "base_uri": "https://localhost:8080/",
          "height": 216
        }
      },
      "source": [
        "# join review and game data in one table\n",
        "t1 = Reviews.alias('t1')\n",
        "t2 = Games.alias('t2')\n",
        "\n",
        "steam = t1.join(Games, t1.GameID==t2.AppID, 'inner') \\\n",
        "        .select(t1[\"*\"],t2[\"AppName\"],t2[\"NewGenre\"],t2[\"Developer\"],t2[\"ReviewSentiment\"])\n",
        "\n",
        "steam.show(5)"
      ],
      "execution_count": 0,
      "outputs": [
        {
          "output_type": "stream",
          "text": [
            "+------+-----------------+--------+-------------+---------------+--------+--------------------+-------------------+--------+--------------------+-------------------+-----------+-------+---------+------------------+------------+-------------+----------+-------------------+----------+---------+---------------+\n",
            "|GameID|          SteamID|ReviewID|NumGamesOwned|NumReviewsGiven|PlayTime|PlayTimeLastTwoWeeks|       LastPlayTime|Language|              Review|        TimeCreated|Recommended|VotesUp|VoteFunny| WeightedVoteScore|CommentCount|SteamPurchase|WriteEarly|            AppName|  NewGenre|Developer|ReviewSentiment|\n",
            "+------+-----------------+--------+-------------+---------------+--------+--------------------+-------------------+--------+--------------------+-------------------+-----------+-------+---------+------------------+------------+-------------+----------+-------------------+----------+---------+---------------+\n",
            "|925340|76561198200016459|62850082|          307|             13|     192|                   0|2020-02-02 03:00:43| english|Yuu is a student ...|2020-02-02 03:03:18|          1|      7|        0|0.6070303916931151|           0|        False|     False|A Winter's Daydream|Simulation| ebi-hime|       Positive|\n",
            "|925340|76561198080360383|60947171|          346|             27|     151|                   0|2019-12-30 14:48:34| english|A short, but (bit...|2019-12-30 14:48:24|          1|      2|        0|0.5468277931213379|           0|         True|     False|A Winter's Daydream|Simulation| ebi-hime|       Positive|\n",
            "|925340|76561198412449978|54724410|          293|            288|      73|                   0|2019-08-20 16:12:03| english|Welll this VN was...|2019-08-20 16:28:09|          1|      5|        1|0.5878975987434387|           0|         True|     False|A Winter's Daydream|Simulation| ebi-hime|       Positive|\n",
            "|925340|76561198130402546|54220873|          322|             38|     162|                   1|2020-05-21 18:52:57| english|A VN with a short...|2019-07-21 18:43:37|          1|      1|        0| 0.523809552192688|           0|         True|     False|A Winter's Daydream|Simulation| ebi-hime|       Positive|\n",
            "|925340|76561198136886006|50769360|          453|             28|     170|                   0|2019-05-22 11:04:59| english|A young man from ...|2019-05-22 11:10:55|          1|      0|        0|               0.0|           0|         True|     False|A Winter's Daydream|Simulation| ebi-hime|       Positive|\n",
            "+------+-----------------+--------+-------------+---------------+--------+--------------------+-------------------+--------+--------------------+-------------------+-----------+-------+---------+------------------+------------+-------------+----------+-------------------+----------+---------+---------------+\n",
            "only showing top 5 rows\n",
            "\n"
          ],
          "name": "stdout"
        }
      ]
    },
    {
      "cell_type": "code",
      "metadata": {
        "ExecuteTime": {
          "end_time": "2020-06-01T20:03:35.924249Z",
          "start_time": "2020-06-01T20:03:35.916045Z"
        },
        "colab_type": "code",
        "id": "Df6gIjL2wUTK",
        "outputId": "00273ec0-1fa6-476d-e086-dd5b10672958",
        "colab": {}
      },
      "source": [
        "Games.printSchema()"
      ],
      "execution_count": 0,
      "outputs": [
        {
          "output_type": "stream",
          "text": [
            "root\n",
            " |-- AppID: integer (nullable = true)\n",
            " |-- AppName: string (nullable = true)\n",
            " |-- Genre: string (nullable = true)\n",
            " |-- Tags: string (nullable = true)\n",
            " |-- Developer: string (nullable = true)\n",
            " |-- Publisher: string (nullable = true)\n",
            " |-- ReviewInfor: string (nullable = true)\n",
            " |-- ReviewStatus: string (nullable = true)\n",
            " |-- ReleaseDate: string (nullable = true)\n",
            " |-- IsFree: string (nullable = true)\n",
            " |-- Price: string (nullable = true)\n",
            " |-- month: string (nullable = true)\n",
            " |-- year: string (nullable = true)\n",
            " |-- ReviewSentiment: string (nullable = true)\n",
            " |-- NewGenre: string (nullable = true)\n",
            "\n"
          ],
          "name": "stdout"
        }
      ]
    },
    {
      "cell_type": "code",
      "metadata": {
        "ExecuteTime": {
          "end_time": "2020-06-02T05:32:18.199179Z",
          "start_time": "2020-06-02T05:32:18.192238Z"
        },
        "colab_type": "code",
        "id": "qb7Ul0nem4nA",
        "outputId": "a0afe72c-c2ba-44cc-a7e3-989ca139def8",
        "scrolled": false,
        "colab": {
          "base_uri": "https://localhost:8080/",
          "height": 329
        }
      },
      "source": [
        "steam.printSchema()"
      ],
      "execution_count": 0,
      "outputs": [
        {
          "output_type": "stream",
          "text": [
            "root\n",
            " |-- GameID: integer (nullable = true)\n",
            " |-- SteamID: long (nullable = true)\n",
            " |-- ReviewID: integer (nullable = true)\n",
            " |-- NumGamesOwned: integer (nullable = true)\n",
            " |-- NumReviewsGiven: integer (nullable = true)\n",
            " |-- PlayTime: integer (nullable = true)\n",
            " |-- PlayTimeLastTwoWeeks: integer (nullable = true)\n",
            " |-- LastPlayTime: timestamp (nullable = true)\n",
            " |-- Language: string (nullable = true)\n",
            " |-- Review: string (nullable = true)\n",
            " |-- TimeCreated: string (nullable = true)\n",
            " |-- Recommended: string (nullable = true)\n",
            " |-- VotesUp: string (nullable = true)\n",
            " |-- VoteFunny: string (nullable = true)\n",
            " |-- WeightedVoteScore: string (nullable = true)\n",
            " |-- CommentCount: string (nullable = true)\n",
            " |-- SteamPurchase: string (nullable = true)\n",
            " |-- WriteEarly: string (nullable = true)\n",
            " |-- AppName: string (nullable = true)\n",
            " |-- NewGenre: string (nullable = true)\n",
            " |-- Developer: string (nullable = true)\n",
            " |-- ReviewSentiment: string (nullable = true)\n",
            "\n"
          ],
          "name": "stdout"
        }
      ]
    },
    {
      "cell_type": "markdown",
      "metadata": {
        "colab_type": "text",
        "id": "6trauIy9wUTT"
      },
      "source": [
        "## Data preprocessing "
      ]
    },
    {
      "cell_type": "code",
      "metadata": {
        "ExecuteTime": {
          "end_time": "2020-06-02T05:32:43.065195Z",
          "start_time": "2020-06-02T05:32:23.664523Z"
        },
        "colab_type": "code",
        "id": "0d8-D2ZhLYJF",
        "outputId": "b920a474-87d6-40e6-bbcd-fc8d72992a44",
        "colab": {
          "base_uri": "https://localhost:8080/",
          "height": 141
        }
      },
      "source": [
        "#Reviews.where(F.isnull(F.col(\"Review\"))).show()\n",
        "steam.select([F.count(F.when(F.isnull(c), c)).alias(c) for c in steam.columns]).show()"
      ],
      "execution_count": 0,
      "outputs": [
        {
          "output_type": "stream",
          "text": [
            "+------+-------+--------+-------------+---------------+--------+--------------------+------------+--------+------+-----------+-----------+-------+---------+-----------------+------------+-------------+----------+-------+--------+---------+---------------+\n",
            "|GameID|SteamID|ReviewID|NumGamesOwned|NumReviewsGiven|PlayTime|PlayTimeLastTwoWeeks|LastPlayTime|Language|Review|TimeCreated|Recommended|VotesUp|VoteFunny|WeightedVoteScore|CommentCount|SteamPurchase|WriteEarly|AppName|NewGenre|Developer|ReviewSentiment|\n",
            "+------+-------+--------+-------------+---------------+--------+--------------------+------------+--------+------+-----------+-----------+-------+---------+-----------------+------------+-------------+----------+-------+--------+---------+---------------+\n",
            "|     0|      0|       0|            0|              0|       0|                   0|           0|       0|   441|         24|         23|     40|       41|               43|          44|           44|        44|      0|       0|        0|              0|\n",
            "+------+-------+--------+-------------+---------------+--------+--------------------+------------+--------+------+-----------+-----------+-------+---------+-----------------+------------+-------------+----------+-------+--------+---------+---------------+\n",
            "\n"
          ],
          "name": "stdout"
        }
      ]
    },
    {
      "cell_type": "code",
      "metadata": {
        "ExecuteTime": {
          "end_time": "2020-06-04T18:24:21.167820Z",
          "start_time": "2020-06-04T18:24:21.144747Z"
        },
        "colab_type": "code",
        "id": "n_XJz_pTLlzO",
        "colab": {}
      },
      "source": [
        "# drop rows with null reviews \n",
        "df_reviews_nonull = steam.filter(steam.Review.isNotNull() & steam.TimeCreated.isNotNull() & steam.Recommended.isNotNull())"
      ],
      "execution_count": 0,
      "outputs": []
    },
    {
      "cell_type": "code",
      "metadata": {
        "ExecuteTime": {
          "end_time": "2020-06-02T05:34:51.242071Z",
          "start_time": "2020-06-02T05:34:50.392417Z"
        },
        "colab_type": "code",
        "id": "Do2Y6nVur6Ho",
        "outputId": "b56883da-0d8e-4889-ca54-8988b1ece163",
        "colab": {
          "base_uri": "https://localhost:8080/",
          "height": 216
        }
      },
      "source": [
        "# convert \"Review\" column to lower case\n",
        "df_reviews_nonull = df_reviews_nonull.withColumn(\"Review\", lower(col(\"Review\")))\n",
        "df_reviews_nonull.show(5)"
      ],
      "execution_count": 0,
      "outputs": [
        {
          "output_type": "stream",
          "text": [
            "+------+-----------------+--------+-------------+---------------+--------+--------------------+-------------------+--------+--------------------+-------------------+-----------+-------+---------+------------------+------------+-------------+----------+-------------------+----------+---------+---------------+\n",
            "|GameID|          SteamID|ReviewID|NumGamesOwned|NumReviewsGiven|PlayTime|PlayTimeLastTwoWeeks|       LastPlayTime|Language|              Review|        TimeCreated|Recommended|VotesUp|VoteFunny| WeightedVoteScore|CommentCount|SteamPurchase|WriteEarly|            AppName|  NewGenre|Developer|ReviewSentiment|\n",
            "+------+-----------------+--------+-------------+---------------+--------+--------------------+-------------------+--------+--------------------+-------------------+-----------+-------+---------+------------------+------------+-------------+----------+-------------------+----------+---------+---------------+\n",
            "|925340|76561198200016459|62850082|          307|             13|     192|                   0|2020-02-02 03:00:43| english|yuu is a student ...|2020-02-02 03:03:18|          1|      7|        0|0.6070303916931151|           0|        False|     False|A Winter's Daydream|Simulation| ebi-hime|       Positive|\n",
            "|925340|76561198080360383|60947171|          346|             27|     151|                   0|2019-12-30 14:48:34| english|a short, but (bit...|2019-12-30 14:48:24|          1|      2|        0|0.5468277931213379|           0|         True|     False|A Winter's Daydream|Simulation| ebi-hime|       Positive|\n",
            "|925340|76561198412449978|54724410|          293|            288|      73|                   0|2019-08-20 16:12:03| english|welll this vn was...|2019-08-20 16:28:09|          1|      5|        1|0.5878975987434387|           0|         True|     False|A Winter's Daydream|Simulation| ebi-hime|       Positive|\n",
            "|925340|76561198130402546|54220873|          322|             38|     162|                   1|2020-05-21 18:52:57| english|a vn with a short...|2019-07-21 18:43:37|          1|      1|        0| 0.523809552192688|           0|         True|     False|A Winter's Daydream|Simulation| ebi-hime|       Positive|\n",
            "|925340|76561198136886006|50769360|          453|             28|     170|                   0|2019-05-22 11:04:59| english|a young man from ...|2019-05-22 11:10:55|          1|      0|        0|               0.0|           0|         True|     False|A Winter's Daydream|Simulation| ebi-hime|       Positive|\n",
            "+------+-----------------+--------+-------------+---------------+--------+--------------------+-------------------+--------+--------------------+-------------------+-----------+-------+---------+------------------+------------+-------------+----------+-------------------+----------+---------+---------------+\n",
            "only showing top 5 rows\n",
            "\n"
          ],
          "name": "stdout"
        }
      ]
    },
    {
      "cell_type": "code",
      "metadata": {
        "ExecuteTime": {
          "end_time": "2020-06-02T05:35:07.191548Z",
          "start_time": "2020-06-02T05:35:05.759979Z"
        },
        "colab_type": "code",
        "id": "43qGAnyMtS1r",
        "outputId": "edafc9c5-76c6-4c43-e835-9946c29842ac",
        "colab": {
          "base_uri": "https://localhost:8080/",
          "height": 216
        }
      },
      "source": [
        "# add index for better filtering\n",
        "steam_reviewnonull = df_reviews_nonull.withColumn('index', monotonically_increasing_id())\n",
        "steam_reviewnonull.createOrReplaceTempView(\"steam_reviewnonull\")\n",
        "steam_reviewnonull.show(5)"
      ],
      "execution_count": 0,
      "outputs": [
        {
          "output_type": "stream",
          "text": [
            "+------+-----------------+--------+-------------+---------------+--------+--------------------+-------------------+--------+--------------------+-------------------+-----------+-------+---------+------------------+------------+-------------+----------+-------------------+----------+---------+---------------+-----+\n",
            "|GameID|          SteamID|ReviewID|NumGamesOwned|NumReviewsGiven|PlayTime|PlayTimeLastTwoWeeks|       LastPlayTime|Language|              Review|        TimeCreated|Recommended|VotesUp|VoteFunny| WeightedVoteScore|CommentCount|SteamPurchase|WriteEarly|            AppName|  NewGenre|Developer|ReviewSentiment|index|\n",
            "+------+-----------------+--------+-------------+---------------+--------+--------------------+-------------------+--------+--------------------+-------------------+-----------+-------+---------+------------------+------------+-------------+----------+-------------------+----------+---------+---------------+-----+\n",
            "|925340|76561198200016459|62850082|          307|             13|     192|                   0|2020-02-02 03:00:43| english|yuu is a student ...|2020-02-02 03:03:18|          1|      7|        0|0.6070303916931151|           0|        False|     False|A Winter's Daydream|Simulation| ebi-hime|       Positive|    0|\n",
            "|925340|76561198080360383|60947171|          346|             27|     151|                   0|2019-12-30 14:48:34| english|a short, but (bit...|2019-12-30 14:48:24|          1|      2|        0|0.5468277931213379|           0|         True|     False|A Winter's Daydream|Simulation| ebi-hime|       Positive|    1|\n",
            "|925340|76561198412449978|54724410|          293|            288|      73|                   0|2019-08-20 16:12:03| english|welll this vn was...|2019-08-20 16:28:09|          1|      5|        1|0.5878975987434387|           0|         True|     False|A Winter's Daydream|Simulation| ebi-hime|       Positive|    2|\n",
            "|925340|76561198130402546|54220873|          322|             38|     162|                   1|2020-05-21 18:52:57| english|a vn with a short...|2019-07-21 18:43:37|          1|      1|        0| 0.523809552192688|           0|         True|     False|A Winter's Daydream|Simulation| ebi-hime|       Positive|    3|\n",
            "|925340|76561198136886006|50769360|          453|             28|     170|                   0|2019-05-22 11:04:59| english|a young man from ...|2019-05-22 11:10:55|          1|      0|        0|               0.0|           0|         True|     False|A Winter's Daydream|Simulation| ebi-hime|       Positive|    4|\n",
            "+------+-----------------+--------+-------------+---------------+--------+--------------------+-------------------+--------+--------------------+-------------------+-----------+-------+---------+------------------+------------+-------------+----------+-------------------+----------+---------+---------------+-----+\n",
            "only showing top 5 rows\n",
            "\n"
          ],
          "name": "stdout"
        }
      ]
    },
    {
      "cell_type": "code",
      "metadata": {
        "ExecuteTime": {
          "end_time": "2020-06-02T05:35:12.336936Z",
          "start_time": "2020-06-02T05:35:11.502890Z"
        },
        "colab_type": "code",
        "id": "23XFpl17yBa7",
        "outputId": "5e41f0d9-e753-4c31-fff1-ea1ecb884562",
        "colab": {
          "base_uri": "https://localhost:8080/",
          "height": 358
        }
      },
      "source": [
        "#remove numbers\n",
        "from pyspark.sql.functions import explode,regexp_extract,regexp_replace\n",
        "review_nonum = steam_reviewnonull.withColumn('nonnum', F.regexp_replace(F.col('Review'),'\\d+',''))\n",
        "\n",
        "# remove urls\n",
        "review_nourlnum = review_nonum.withColumn('nonurl',F.regexp_replace(F.col('nonnum'),'^https?:\\/\\/.*[\\r\\n]*',''))\n",
        "\n",
        "# remove bbwords: [*]\n",
        "review_regclean = review_nourlnum.withColumn('regclean',F.regexp_replace(F.col('nonurl'),'(\\\\[\\w+])',''))\n",
        "\n",
        "review_regclean.select('index', 'SteamID', 'Review', 'regclean').show(15)"
      ],
      "execution_count": 0,
      "outputs": [
        {
          "output_type": "stream",
          "text": [
            "+-----+-----------------+--------------------+--------------------+\n",
            "|index|          SteamID|              Review|            regclean|\n",
            "+-----+-----------------+--------------------+--------------------+\n",
            "|    0|76561198200016459|yuu is a student ...|yuu is a student ...|\n",
            "|    1|76561198080360383|a short, but (bit...|a short, but (bit...|\n",
            "|    2|76561198412449978|welll this vn was...|welll this vn was...|\n",
            "|    3|76561198130402546|a vn with a short...|a vn with a short...|\n",
            "|    4|76561198136886006|a young man from ...|a young man from ...|\n",
            "|    5|76561198201193771|i really didnt ex...|i really didnt ex...|\n",
            "|    6|76561198306329717|the biggest pity ...|the biggest pity ...|\n",
            "|    7|76561198044179216|i really enjoyed ...|i really enjoyed ...|\n",
            "|    8|76561198909074195|i really liked th...|i really liked th...|\n",
            "|    9|76561198069159152|this is an intere...|this is an intere...|\n",
            "|   10|76561198413350620|[i]family is like...|family is like mu...|\n",
            "|   11|76561198035898856|\"8/10. minimal pr...|\"/. minimal prese...|\n",
            "|   12|76561198065148936|a really involved...|a really involved...|\n",
            "|   13|76561197999540711|a very engaging s...|a very engaging s...|\n",
            "|   14|76561197994048123|a winter's dream ...|a winter's dream ...|\n",
            "+-----+-----------------+--------------------+--------------------+\n",
            "only showing top 15 rows\n",
            "\n"
          ],
          "name": "stdout"
        }
      ]
    },
    {
      "cell_type": "code",
      "metadata": {
        "ExecuteTime": {
          "end_time": "2020-06-02T05:35:23.333016Z",
          "start_time": "2020-06-02T05:35:22.738089Z"
        },
        "colab_type": "code",
        "id": "UD4APaHIu7Tr",
        "outputId": "cf5bec60-0810-403c-ecfd-7c2070c4692e",
        "colab": {
          "base_uri": "https://localhost:8080/",
          "height": 358
        }
      },
      "source": [
        "# handle negation\n",
        "no_nt_review = review_regclean.withColumn('modified_negation1',regexp_replace(F.col('regclean'),r\"n't\",r' not'))\n",
        "no_nt_review = no_nt_review.withColumn('modified_negation2', \n",
        "                   regexp_replace(F.col('modified_negation1'),r'not ',r'not_'))\n",
        "no_nt_review.select('index', 'SteamID', 'modified_negation1').show(15)"
      ],
      "execution_count": 0,
      "outputs": [
        {
          "output_type": "stream",
          "text": [
            "+-----+-----------------+--------------------+\n",
            "|index|          SteamID|  modified_negation1|\n",
            "+-----+-----------------+--------------------+\n",
            "|    0|76561198200016459|yuu is a student ...|\n",
            "|    1|76561198080360383|a short, but (bit...|\n",
            "|    2|76561198412449978|welll this vn was...|\n",
            "|    3|76561198130402546|a vn with a short...|\n",
            "|    4|76561198136886006|a young man from ...|\n",
            "|    5|76561198201193771|i really didnt ex...|\n",
            "|    6|76561198306329717|the biggest pity ...|\n",
            "|    7|76561198044179216|i really enjoyed ...|\n",
            "|    8|76561198909074195|i really liked th...|\n",
            "|    9|76561198069159152|this is an intere...|\n",
            "|   10|76561198413350620|family is like mu...|\n",
            "|   11|76561198035898856|\"/. minimal prese...|\n",
            "|   12|76561198065148936|a really involved...|\n",
            "|   13|76561197999540711|a very engaging s...|\n",
            "|   14|76561197994048123|a winter's dream ...|\n",
            "+-----+-----------------+--------------------+\n",
            "only showing top 15 rows\n",
            "\n"
          ],
          "name": "stdout"
        }
      ]
    },
    {
      "cell_type": "code",
      "metadata": {
        "ExecuteTime": {
          "end_time": "2020-06-02T05:35:27.781547Z",
          "start_time": "2020-06-02T05:35:27.317557Z"
        },
        "colab_type": "code",
        "id": "WcxoLmZFFacm",
        "outputId": "d78eb8bf-e3a0-44a6-bb03-fd4dbcf5f3f3",
        "colab": {
          "base_uri": "https://localhost:8080/",
          "height": 358
        }
      },
      "source": [
        "# remove punctuation\n",
        "cleaned_review = no_nt_review.withColumn('nopunct', \n",
        "                        F.regexp_replace(F.col('modified_negation2'),'[^\\w\\s]',''))\n",
        "\n",
        "cleaned_review.select('index', 'SteamID', 'nopunct').show(15)"
      ],
      "execution_count": 0,
      "outputs": [
        {
          "output_type": "stream",
          "text": [
            "+-----+-----------------+--------------------+\n",
            "|index|          SteamID|             nopunct|\n",
            "+-----+-----------------+--------------------+\n",
            "|    0|76561198200016459|yuu is a student ...|\n",
            "|    1|76561198080360383|a short but bitte...|\n",
            "|    2|76561198412449978|welll this vn was...|\n",
            "|    3|76561198130402546|a vn with a short...|\n",
            "|    4|76561198136886006|a young man from ...|\n",
            "|    5|76561198201193771|i really didnt ex...|\n",
            "|    6|76561198306329717|the biggest pity ...|\n",
            "|    7|76561198044179216|i really enjoyed ...|\n",
            "|    8|76561198909074195|i really liked th...|\n",
            "|    9|76561198069159152|this is an intere...|\n",
            "|   10|76561198413350620|family is like mu...|\n",
            "|   11|76561198035898856| minimal presenta...|\n",
            "|   12|76561198065148936|a really involved...|\n",
            "|   13|76561197999540711|a very engaging s...|\n",
            "|   14|76561197994048123|a winters dream i...|\n",
            "+-----+-----------------+--------------------+\n",
            "only showing top 15 rows\n",
            "\n"
          ],
          "name": "stdout"
        }
      ]
    },
    {
      "cell_type": "code",
      "metadata": {
        "ExecuteTime": {
          "end_time": "2020-06-02T05:35:34.597449Z",
          "start_time": "2020-06-02T05:35:33.934151Z"
        },
        "colab_type": "code",
        "id": "rw7TBtIzwrrs",
        "outputId": "09c85726-e553-4f80-b383-776dfe18ea6a",
        "colab": {
          "base_uri": "https://localhost:8080/",
          "height": 196
        }
      },
      "source": [
        "# tokenizing\n",
        "tokenizer = Tokenizer(inputCol = 'nopunct', outputCol = 'review_token')\n",
        "\n",
        "df_token = tokenizer.transform(cleaned_review)\n",
        "df_token.select('index', 'Review','review_token').show(5)"
      ],
      "execution_count": 0,
      "outputs": [
        {
          "output_type": "stream",
          "text": [
            "+-----+--------------------+--------------------+\n",
            "|index|              Review|        review_token|\n",
            "+-----+--------------------+--------------------+\n",
            "|    0|yuu is a student ...|[yuu, is, a, stud...|\n",
            "|    1|a short, but (bit...|[a, short, but, b...|\n",
            "|    2|welll this vn was...|[welll, this, vn,...|\n",
            "|    3|a vn with a short...|[a, vn, with, a, ...|\n",
            "|    4|a young man from ...|[a, young, man, f...|\n",
            "+-----+--------------------+--------------------+\n",
            "only showing top 5 rows\n",
            "\n"
          ],
          "name": "stdout"
        }
      ]
    },
    {
      "cell_type": "code",
      "metadata": {
        "ExecuteTime": {
          "end_time": "2020-06-02T05:35:42.848665Z",
          "start_time": "2020-06-02T05:35:41.689033Z"
        },
        "colab_type": "code",
        "id": "8rg5qBxew4Iw",
        "outputId": "13a10aba-16b1-4ef0-fe81-1a67405db698",
        "colab": {
          "base_uri": "https://localhost:8080/",
          "height": 196
        }
      },
      "source": [
        "# remove stop words\n",
        "locale = spark._jvm.java.util.Locale\n",
        "locale.setDefault(locale.forLanguageTag(\"en-US\"))\n",
        "\n",
        "stopwordList = [\"game\", \"games\", \"play\",\"\", \"really\", \"like\",\"liked\", \"pretty\", \"ever\", \n",
        "                \"played\", \"though\", \"get\", \"got\", \"one\", \"yes\", \"sure\", \"im\", \"there\",\n",
        "                \"still\", \"not_sure\", \"id\", \"overall\", \"much\", \"oh\", \"seem\", \"lot\",\n",
        "                \"ive\", \"let\", \"your\", \"also\", \"yet\", \"wo\", \"may\", \"actual\", \"want\", \"might\",\n",
        "                \"us\", \"_\", \"nope\", \"um\", \"h\", \"e\", \"o\", \"feel\", \"well\", \"done\"]\n",
        "\n",
        "stopwordList.extend(StopWordsRemover().getStopWords())\n",
        "\n",
        "stopwords = StopWordsRemover(inputCol = 'review_token', outputCol = 'stopwords_removed', stopWords=stopwordList)\n",
        "df_stopwords = stopwords.transform(df_token)\n",
        "df_stopwords.select('index', 'Review', 'review_token', 'stopwords_removed').show(5)"
      ],
      "execution_count": 0,
      "outputs": [
        {
          "output_type": "stream",
          "text": [
            "+-----+--------------------+--------------------+--------------------+\n",
            "|index|              Review|        review_token|   stopwords_removed|\n",
            "+-----+--------------------+--------------------+--------------------+\n",
            "|    0|yuu is a student ...|[yuu, is, a, stud...|[yuu, student, at...|\n",
            "|    1|a short, but (bit...|[a, short, but, b...|[short, bitterswe...|\n",
            "|    2|welll this vn was...|[welll, this, vn,...|[welll, vn, somet...|\n",
            "|    3|a vn with a short...|[a, vn, with, a, ...|[vn, short, sweet...|\n",
            "|    4|a young man from ...|[a, young, man, f...|[young, man, rura...|\n",
            "+-----+--------------------+--------------------+--------------------+\n",
            "only showing top 5 rows\n",
            "\n"
          ],
          "name": "stdout"
        }
      ]
    },
    {
      "cell_type": "code",
      "metadata": {
        "ExecuteTime": {
          "end_time": "2020-06-02T05:35:51.670005Z",
          "start_time": "2020-06-02T05:35:47.801555Z"
        },
        "colab_type": "code",
        "id": "Jwfo2CkW_zpP",
        "outputId": "080f0334-965f-4560-a64e-f525dc56c583",
        "colab": {
          "base_uri": "https://localhost:8080/",
          "height": 277
        }
      },
      "source": [
        "# stem text\n",
        "stemmer = SnowballStemmer(language='english')\n",
        "stemmer_udf = F.udf(lambda tokens: [stemmer.stem(token) for token in tokens], ArrayType(StringType()))\n",
        "df_stemmed = df_stopwords.withColumn(\"words_stemmed\", stemmer_udf(\"stopwords_removed\"))\n",
        "df_stemmed.select(\"index\", \"Review\", 'stopwords_removed', \"words_stemmed\").show(10)"
      ],
      "execution_count": 0,
      "outputs": [
        {
          "output_type": "stream",
          "text": [
            "+-----+--------------------+--------------------+--------------------+\n",
            "|index|              Review|   stopwords_removed|       words_stemmed|\n",
            "+-----+--------------------+--------------------+--------------------+\n",
            "|    0|yuu is a student ...|[yuu, student, at...|[yuu, student, at...|\n",
            "|    1|a short, but (bit...|[short, bitterswe...|[short, bitterswe...|\n",
            "|    2|welll this vn was...|[welll, vn, somet...|[welll, vn, somet...|\n",
            "|    3|a vn with a short...|[vn, short, sweet...|[vn, short, sweet...|\n",
            "|    4|a young man from ...|[young, man, rura...|[young, man, rura...|\n",
            "|    5|i really didnt ex...|[didnt, expect, v...|[didnt, expect, v...|\n",
            "|    6|the biggest pity ...|[biggest, pity, c...|[biggest, piti, c...|\n",
            "|    7|i really enjoyed ...|[enjoyed, not_hel...|[enjoy, not_help,...|\n",
            "|    8|i really liked th...|[novel, visual, e...|[novel, visual, e...|\n",
            "|    9|this is an intere...|[interesting, kin...|[interest, kinet,...|\n",
            "+-----+--------------------+--------------------+--------------------+\n",
            "only showing top 10 rows\n",
            "\n"
          ],
          "name": "stdout"
        }
      ]
    },
    {
      "cell_type": "code",
      "metadata": {
        "ExecuteTime": {
          "end_time": "2020-06-02T05:37:49.393414Z",
          "start_time": "2020-06-02T05:37:46.447557Z"
        },
        "colab_type": "code",
        "id": "ln8DU4hZwUUB",
        "outputId": "85ed2d37-5a2d-4d0c-a987-da62927a2dc2",
        "colab": {
          "base_uri": "https://localhost:8080/",
          "height": 277
        }
      },
      "source": [
        "# bi-gram feature extraction\n",
        "ngram = NGram(n=2, inputCol=\"words_stemmed\", outputCol=\"ngrams\")\n",
        "ngramDataFrame = ngram.transform(df_stemmed)\n",
        "ngramDataFrame.select(col(\"index\"), col(\"words_stemmed\"), col(\"ngrams\")).show(10)"
      ],
      "execution_count": 0,
      "outputs": [
        {
          "output_type": "stream",
          "text": [
            "+-----+--------------------+--------------------+\n",
            "|index|       words_stemmed|              ngrams|\n",
            "+-----+--------------------+--------------------+\n",
            "|    0|[yuu, student, at...|[yuu student, stu...|\n",
            "|    1|[short, bitterswe...|[short bitterswee...|\n",
            "|    2|[welll, vn, somet...|[welll vn, vn som...|\n",
            "|    3|[vn, short, sweet...|[vn short, short ...|\n",
            "|    4|[young, man, rura...|[young man, man r...|\n",
            "|    5|[didnt, expect, v...|[didnt expect, ex...|\n",
            "|    6|[biggest, piti, c...|[biggest piti, pi...|\n",
            "|    7|[enjoy, not_help,...|[enjoy not_help, ...|\n",
            "|    8|[novel, visual, e...|[novel visual, vi...|\n",
            "|    9|[interest, kinet,...|[interest kinet, ...|\n",
            "+-----+--------------------+--------------------+\n",
            "only showing top 10 rows\n",
            "\n"
          ],
          "name": "stdout"
        }
      ]
    },
    {
      "cell_type": "code",
      "metadata": {
        "colab_type": "code",
        "id": "l97J4AhP6xh4",
        "colab": {}
      },
      "source": [
        "w2v = Word2Vec(vectorSize= 100, inputCol = 'words_stemmed', outputCol ='w2v_vectors', minCount = 10)\n",
        "model_word2vec = w2v.fit(df_stemmed)\n",
        "w2v_result = model_word2vec.transform(ngramDataFrame)\n",
        "w2v_result.show(15)"
      ],
      "execution_count": 0,
      "outputs": []
    },
    {
      "cell_type": "code",
      "metadata": {
        "ExecuteTime": {
          "end_time": "2020-06-01T17:51:55.251578Z",
          "start_time": "2020-06-01T16:43:24.310914Z"
        },
        "colab_type": "code",
        "id": "EBzJnGG7xGjc",
        "outputId": "dc81cff5-ccc0-46ba-b9cc-d25658350fa4",
        "scrolled": false,
        "colab": {
          "base_uri": "https://localhost:8080/",
          "height": 468
        }
      },
      "source": [
        "w2v_dict = model_word2vec.getVectors()\n",
        "w2v_dict.show(15)"
      ],
      "execution_count": 0,
      "outputs": [
        {
          "output_type": "stream",
          "text": [
            "+--------------------+--------------------+\n",
            "|                word|              vector|\n",
            "+--------------------+--------------------+\n",
            "|             maebara|[0.14522261917591...|\n",
            "|               dredd|[-0.6350565552711...|\n",
            "|              gaiden|[-1.1797527074813...|\n",
            "|             zoetrop|[0.00658221216872...|\n",
            "|              hanabi|[-0.0792886391282...|\n",
            "|            incident|[0.13368627429008...|\n",
            "|urlhttpsstorestea...|[0.10916520655155...|\n",
            "|            accostum|[-0.0553653426468...|\n",
            "|        spoilerabout|[0.01201893761754...|\n",
            "|       meteorologist|[0.23989403247833...|\n",
            "|              zauber|[-0.2865073084831...|\n",
            "|             serious|[-0.0282031968235...|\n",
            "|            sevenday|[-0.0510169863700...|\n",
            "|               brink|[-0.1404587924480...|\n",
            "|            igavania|[-0.1137246266007...|\n",
            "|         misadventur|[-0.0365433655679...|\n",
            "|             acronym|[0.00284376367926...|\n",
            "|           foolproof|[0.05134603753685...|\n",
            "|           everchang|[0.10885650664567...|\n",
            "|          ghostpedia|[0.01825107634067...|\n",
            "+--------------------+--------------------+\n",
            "only showing top 20 rows\n",
            "\n"
          ],
          "name": "stdout"
        }
      ]
    },
    {
      "cell_type": "code",
      "metadata": {
        "ExecuteTime": {
          "end_time": "2020-06-01T17:54:33.775025Z",
          "start_time": "2020-06-01T17:54:06.742122Z"
        },
        "colab_type": "code",
        "id": "pKjT4tXvwUUK",
        "colab": {}
      },
      "source": [
        "w2v_dict.toPandas().to_csv('content/drive/My Drive/steam/final dataset/w2v_dict.csv', index=False)\n",
        "model_word2vec.save(\"content/drive/My Drive/steam/final dataset/word2vec.model\")\n",
        "#model_word2vec = Word2Vec.load(\"word2vec.model\")"
      ],
      "execution_count": 0,
      "outputs": []
    },
    {
      "cell_type": "code",
      "metadata": {
        "colab_type": "code",
        "id": "-IyE8C-5wUUO",
        "colab": {}
      },
      "source": [
        "# # tf-idf\n",
        "# hashingTF = HashingTF(inputCol=\"words_stemmed\", outputCol=\"tf\", numFeatures=20)\n",
        "# tf = hashingTF.transform(ngramDataFrame)\n",
        "# # alternatively, CountVectorizer can also be used to get term frequency vectors\n",
        "\n",
        "# idf = IDF(inputCol=\"tf\", outputCol=\"tfidf_features\")\n",
        "# idfModel = idf.fit(tf)\n",
        "# tfidf = idfModel.transform(tf)\n",
        "\n",
        "# tfidf.select(\"index\", \"tfidf_features\").show()"
      ],
      "execution_count": 0,
      "outputs": []
    },
    {
      "cell_type": "markdown",
      "metadata": {
        "colab_type": "text",
        "id": "JbYq3ag8wUUe"
      },
      "source": [
        "## Topics modelling "
      ]
    },
    {
      "cell_type": "code",
      "metadata": {
        "ExecuteTime": {
          "end_time": "2020-06-02T06:08:48.175982Z",
          "start_time": "2020-06-02T05:40:34.090988Z"
        },
        "colab_type": "code",
        "id": "z8iTZ0rHwUUf",
        "colab": {}
      },
      "source": [
        "# count the appearing frequeny of each bi-gram token in reviews\n",
        "cv = CountVectorizer(inputCol=\"ngrams\", outputCol=\"features\", minDF=3)\n",
        "model = cv.fit(ngramDataFrame)\n",
        "vocabArray = model.vocabulary\n",
        "\n",
        "result = model.transform(ngramDataFrame).select('index','features').cache()\n",
        "#train, test = result.randomSplit([0.7, 0.3], 1)"
      ],
      "execution_count": 0,
      "outputs": []
    },
    {
      "cell_type": "code",
      "metadata": {
        "ExecuteTime": {
          "end_time": "2020-06-02T06:09:16.922518Z",
          "start_time": "2020-06-02T06:09:16.854779Z"
        },
        "colab_type": "code",
        "id": "k_FXrW47wUUk",
        "outputId": "3de22a8c-00f0-4679-fe8e-302ce8c46972",
        "colab": {
          "base_uri": "https://localhost:8080/",
          "height": 1000
        }
      },
      "source": [
        "vocabArray"
      ],
      "execution_count": 0,
      "outputs": [
        {
          "output_type": "execute_result",
          "data": {
            "text/plain": [
              "['voic act',\n",
              " 'high recommend',\n",
              " 'super hot',\n",
              " 'earli access',\n",
              " 'hot super',\n",
              " 'art style',\n",
              " 'look forward',\n",
              " 'combat system',\n",
              " 'star war',\n",
              " 'long time',\n",
              " 'point click',\n",
              " 'full price',\n",
              " 'good stori',\n",
              " 'great stori',\n",
              " 'first time',\n",
              " 'turn base',\n",
              " 'come back',\n",
              " 'littl bit',\n",
              " 'go back',\n",
              " 'recommend anyon',\n",
              " 'replay valu',\n",
              " 'everi time',\n",
              " 'ca not_wait',\n",
              " 'definit worth',\n",
              " 'level design',\n",
              " 'singl player',\n",
              " 'old school',\n",
              " 'boss fight',\n",
              " 'main charact',\n",
              " 'worth money',\n",
              " 'worth price',\n",
              " 'your look',\n",
              " 'definit recommend',\n",
              " 'superhot superhot',\n",
              " 'year ago',\n",
              " 'open world',\n",
              " 'stori line',\n",
              " 'look good',\n",
              " 'stori good',\n",
              " 'buffalo buffalo',\n",
              " 'even better',\n",
              " 'make sens',\n",
              " 'take time',\n",
              " 'good thing',\n",
              " 'side quest',\n",
              " 'interest stori',\n",
              " 'negat review',\n",
              " 'dark soul',\n",
              " 'give tri',\n",
              " 'great fun',\n",
              " 'everi singl',\n",
              " 'baldur gate',\n",
              " 'ca not_recommend',\n",
              " 'fast pace',\n",
              " 'stori great',\n",
              " 'fun littl',\n",
              " 'worth buy',\n",
              " 'sound effect',\n",
              " 'good time',\n",
              " 'main stori',\n",
              " 'real life',\n",
              " 'wast time',\n",
              " 'year old',\n",
              " 'banner saga',\n",
              " 'mani time',\n",
              " 'not_a bad',\n",
              " 'spend time',\n",
              " 'hour gameplay',\n",
              " 'stori charact',\n",
              " 'write review',\n",
              " 'stori mode',\n",
              " 'skill tree',\n",
              " 'run around',\n",
              " 'enjoy play',\n",
              " 'look great',\n",
              " 'visual novel',\n",
              " 'click click',\n",
              " 'final boss',\n",
              " 'good job',\n",
              " 'worth play',\n",
              " 'start play',\n",
              " 'learn curv',\n",
              " 'final fantasi',\n",
              " 'grim dawn',\n",
              " 'current state',\n",
              " 'hack slash',\n",
              " 'click adventur',\n",
              " 'worth everi',\n",
              " 'solv puzzl',\n",
              " 'absolut love',\n",
              " 'first person',\n",
              " 'dungeon crawler',\n",
              " 'wait sale',\n",
              " 'good fun',\n",
              " 'time play',\n",
              " 'bad thing',\n",
              " 'keep play',\n",
              " 'took hour',\n",
              " 'good graphic',\n",
              " 'price tag',\n",
              " 'stori interest',\n",
              " 'graphic good',\n",
              " 'buy sale',\n",
              " 'time time',\n",
              " 'not_a good',\n",
              " 'bring back',\n",
              " 'fun play',\n",
              " 'super fun',\n",
              " 'your go',\n",
              " 'not_th best',\n",
              " 'worth time',\n",
              " 'everyth els',\n",
              " 'along way',\n",
              " 'mani hour',\n",
              " 'bug bug',\n",
              " 'quit bit',\n",
              " 'not_b abl',\n",
              " 'rpg element',\n",
              " 'great job',\n",
              " 'not_to mention',\n",
              " 'love see',\n",
              " 'first hour',\n",
              " 'good way',\n",
              " 'charact develop',\n",
              " 'your fan',\n",
              " 'random generat',\n",
              " 'control support',\n",
              " 'load screen',\n",
              " 'must buy',\n",
              " 'around hour',\n",
              " 'refund pls',\n",
              " 'pls refund',\n",
              " 'youll find',\n",
              " 'choic make',\n",
              " 'make fun',\n",
              " 'great graphic',\n",
              " 'alan wake',\n",
              " 'ca not_even',\n",
              " 'coupl hour',\n",
              " 'fun challeng',\n",
              " 'fun friend',\n",
              " 'walk around',\n",
              " 'take place',\n",
              " 'bind isaac',\n",
              " 'stori tell',\n",
              " 'mani peopl',\n",
              " 'gameplay mechan',\n",
              " 'hour fun',\n",
              " 'easi learn',\n",
              " 'best part',\n",
              " 'mani differ',\n",
              " 'probabl best',\n",
              " 'good good',\n",
              " 'lot fun',\n",
              " 'wast money',\n",
              " 'stop play',\n",
              " 'good enough',\n",
              " 'get bore',\n",
              " 'keep mind',\n",
              " 'amount time',\n",
              " 'need work',\n",
              " 'first playthrough',\n",
              " 'anyth els',\n",
              " 'get better',\n",
              " 'multipl time',\n",
              " 'hour play',\n",
              " 'someth els',\n",
              " 'gameplay fun',\n",
              " 'use control',\n",
              " 'dont know',\n",
              " 'titan quest',\n",
              " 'great time',\n",
              " 'ca not_get',\n",
              " 'hour complet',\n",
              " 'good idea',\n",
              " 'kill enemi',\n",
              " 'great music',\n",
              " 'posit review',\n",
              " 'base combat',\n",
              " 'big fan',\n",
              " 'puzzl solv',\n",
              " 'action rpg',\n",
              " 'enjoy stori',\n",
              " 'xbox control',\n",
              " 'back day',\n",
              " 'fun gameplay',\n",
              " 'nice graphic',\n",
              " 'sound design',\n",
              " 'boss battl',\n",
              " 'spend hour',\n",
              " 'quit good',\n",
              " 'stori gameplay',\n",
              " 'mani thing',\n",
              " 'everi penni',\n",
              " 'total worth',\n",
              " 'time tri',\n",
              " 'move around',\n",
              " 'great gameplay',\n",
              " 'ca not_b',\n",
              " 'parti member',\n",
              " 'quit fun',\n",
              " 'amaz stori',\n",
              " 'first two',\n",
              " 'love stori',\n",
              " 'make good',\n",
              " 'almost everi',\n",
              " 'recommend buy',\n",
              " 'read review',\n",
              " 'fun time',\n",
              " 'battl system',\n",
              " 'voic actor',\n",
              " 'humbl bundl',\n",
              " 'pixel art',\n",
              " 'good gameplay',\n",
              " 'bit short',\n",
              " 'first level',\n",
              " 'best rpg',\n",
              " 'differ way',\n",
              " 'way better',\n",
              " 'new charact',\n",
              " 'ca not_real',\n",
              " 'make think',\n",
              " 'come across',\n",
              " 'make better',\n",
              " 'charact design',\n",
              " 'keep go',\n",
              " 'ton fun',\n",
              " 'theme hospit',\n",
              " 'top notch',\n",
              " 'tri find',\n",
              " 'graphic great',\n",
              " 'sever time',\n",
              " 'good old',\n",
              " 'look nice',\n",
              " 'good bad',\n",
              " 'tri make',\n",
              " 'main menu',\n",
              " 'there noth',\n",
              " 'craft system',\n",
              " 'bad guy',\n",
              " 'bug fix',\n",
              " 'hidden object',\n",
              " 'combat fun',\n",
              " 'interest charact',\n",
              " 'ca not_say',\n",
              " 'back forth',\n",
              " 'differ charact',\n",
              " 'origin sin',\n",
              " 'charact stori',\n",
              " 'cant wait',\n",
              " 'call duti',\n",
              " 'walk simul',\n",
              " 'run smooth',\n",
              " 'look someth',\n",
              " 'music good',\n",
              " 'combat mechan',\n",
              " 'make even',\n",
              " 'half hour',\n",
              " 'toward end',\n",
              " 'put togeth',\n",
              " 'hope see',\n",
              " 'give shot',\n",
              " 'youll probabl',\n",
              " 'enjoy experi',\n",
              " 'new content',\n",
              " 'great soundtrack',\n",
              " 'everi minut',\n",
              " 'someth new',\n",
              " 'gameplay good',\n",
              " 'graphic nice',\n",
              " 'path exil',\n",
              " 'give thumb',\n",
              " 'play hour',\n",
              " 'rpg maker',\n",
              " 'spent hour',\n",
              " 'two hour',\n",
              " 'music great',\n",
              " 'must say',\n",
              " 'roller coaster',\n",
              " 'good music',\n",
              " 'saint row',\n",
              " 'hour hour',\n",
              " 'anyon like',\n",
              " 'make great',\n",
              " 'hour time',\n",
              " 'recommend play',\n",
              " 'thing make',\n",
              " 'nice stori',\n",
              " 'nice littl',\n",
              " 'fun good',\n",
              " 'pay attent',\n",
              " 'difficulti level',\n",
              " 'full releas',\n",
              " 'huge fan',\n",
              " 'fun fun',\n",
              " 'mani bug',\n",
              " 'not_wait see',\n",
              " 'time spent',\n",
              " 'graphic look',\n",
              " 'cut scene',\n",
              " 'youll love',\n",
              " 'mani way',\n",
              " 'charact creation',\n",
              " 'get use',\n",
              " 'fun great',\n",
              " 'great love',\n",
              " 'thorough enjoy',\n",
              " 'first impress',\n",
              " 'take hour',\n",
              " 'noth els',\n",
              " 'time make',\n",
              " 'fun addict',\n",
              " 'great charact',\n",
              " 'innov shooter',\n",
              " 'ask price',\n",
              " 'trade card',\n",
              " 'keyboard mous',\n",
              " 'fun enjoy',\n",
              " 'new player',\n",
              " 'feel good',\n",
              " 'dont buy',\n",
              " 'recommend peopl',\n",
              " 'great great',\n",
              " 'work fine',\n",
              " 'stay away',\n",
              " 'buy buy',\n",
              " 'updat review',\n",
              " 'hour long',\n",
              " 'load time',\n",
              " 'start new',\n",
              " 'simpl fun',\n",
              " 'way make',\n",
              " 'decis make',\n",
              " 'enough keep',\n",
              " 'fun stori',\n",
              " 'not_a fan',\n",
              " 'beauti graphic',\n",
              " 'keep come',\n",
              " 'give go',\n",
              " 'attent detail',\n",
              " 'main quest',\n",
              " 'pick sale',\n",
              " 'person shooter',\n",
              " 'planet coaster',\n",
              " 'time money',\n",
              " 'charact build',\n",
              " 'get stuck',\n",
              " 'thing say',\n",
              " 'strong recommend',\n",
              " 'either way',\n",
              " 'great littl',\n",
              " 'enjoy time',\n",
              " 'elder scroll',\n",
              " 'gameplay stori',\n",
              " 'dev team',\n",
              " 'short hour',\n",
              " 'best way',\n",
              " 'bought sale',\n",
              " 'time write',\n",
              " 'keep interest',\n",
              " 'everi level',\n",
              " 'whole thing',\n",
              " 'turnbas combat',\n",
              " 'tell stori',\n",
              " 'find way',\n",
              " 'hard time',\n",
              " 'good look',\n",
              " 'd platform',\n",
              " 'amount content',\n",
              " 'your play',\n",
              " 'youll need',\n",
              " 'good work',\n",
              " 'go buy',\n",
              " 'shooter year',\n",
              " 'say worth',\n",
              " 'tri figur',\n",
              " 'charact custom',\n",
              " 'love love',\n",
              " 'mous keyboard',\n",
              " 'hard mode',\n",
              " 'peopl say',\n",
              " 'good luck',\n",
              " 'everi second',\n",
              " 'first thing',\n",
              " 'gameplay great',\n",
              " 'good amount',\n",
              " 'not_a big',\n",
              " 'thing go',\n",
              " 'low price',\n",
              " 'level system',\n",
              " 'worth full',\n",
              " 'start finish',\n",
              " 'anyon enjoy',\n",
              " 'year later',\n",
              " 'music sound',\n",
              " 'stori fun',\n",
              " 'trial error',\n",
              " 'theme park',\n",
              " 'long enough',\n",
              " 'break bug',\n",
              " 'fix bug',\n",
              " 'left right',\n",
              " 'last year',\n",
              " 'frame rate',\n",
              " 'best thing',\n",
              " 'take long',\n",
              " 'fun combat',\n",
              " 'easter egg',\n",
              " 'hard master',\n",
              " 'graphic sound',\n",
              " 'pros con',\n",
              " 'absolut amaz',\n",
              " 'train simul',\n",
              " 'near end',\n",
              " 'give chanc',\n",
              " 'not_for everyon',\n",
              " 'full review',\n",
              " 'dust elysian',\n",
              " 'enemi type',\n",
              " 'stori driven',\n",
              " 'skill point',\n",
              " 'love everi',\n",
              " 'money worth',\n",
              " 'steam workshop',\n",
              " 'take away',\n",
              " 'everi charact',\n",
              " 'fun first',\n",
              " 'power ranger',\n",
              " 'great atmospher',\n",
              " 'unlock new',\n",
              " 'actual good',\n",
              " 'stori stori',\n",
              " 'noth special',\n",
              " 'divin origin',\n",
              " 'first place',\n",
              " 'what go',\n",
              " 'beauti art',\n",
              " 'not_get wrong',\n",
              " 'steam sale',\n",
              " 'kill time',\n",
              " 'go ahead',\n",
              " 'look fun',\n",
              " 'short sweet',\n",
              " 'mani mani',\n",
              " 'short stori',\n",
              " 'worth tri',\n",
              " 'first minut',\n",
              " 'think worth',\n",
              " 'great art',\n",
              " 'spent time',\n",
              " 'spend money',\n",
              " 'bullet hell',\n",
              " 'play friend',\n",
              " 'way go',\n",
              " 'elysian tail',\n",
              " 'third person',\n",
              " 'make thing',\n",
              " 'stori make',\n",
              " 'big deal',\n",
              " 'ca not_play',\n",
              " 'recommend everyon',\n",
              " 'fast travel',\n",
              " 'pleasant surpris',\n",
              " 'differ type',\n",
              " 'time even',\n",
              " 'difficulti set',\n",
              " 'far best',\n",
              " 'easi pick',\n",
              " 'make charact',\n",
              " 'fun even',\n",
              " 'work great',\n",
              " 'fli around',\n",
              " 'save file',\n",
              " 'store page',\n",
              " 'mess around',\n",
              " 'think good',\n",
              " 'best rpgs',\n",
              " 'peopl complain',\n",
              " 'puzzl platform',\n",
              " 'great way',\n",
              " 'second time',\n",
              " 'great experi',\n",
              " 'complet differ',\n",
              " 'enough make',\n",
              " 'control scheme',\n",
              " 'new featur',\n",
              " 'normal difficulti',\n",
              " 'graphic set',\n",
              " 'make differ',\n",
              " 'mani year',\n",
              " 'level charact',\n",
              " 'save money',\n",
              " 'time use',\n",
              " 'extrem fun',\n",
              " 'bad review',\n",
              " 'new weapon',\n",
              " 'lost planet',\n",
              " 'art music',\n",
              " 'stori nice',\n",
              " 'gb ram',\n",
              " 'fix issu',\n",
              " 'get old',\n",
              " 'fun interest',\n",
              " 'never felt',\n",
              " 'that good',\n",
              " 'minor bug',\n",
              " 'hidden gem',\n",
              " 'love play',\n",
              " 'way back',\n",
              " 'quit enjoy',\n",
              " 'rpg fan',\n",
              " 'enjoy everi',\n",
              " 'ca not_se',\n",
              " 'pass time',\n",
              " 'stori short',\n",
              " 'make hard',\n",
              " 'stori amaz',\n",
              " 'charact model',\n",
              " 'never seen',\n",
              " 'everi way',\n",
              " 'actual fun',\n",
              " 'combat feel',\n",
              " 'coupl time',\n",
              " 'part stori',\n",
              " 'hour finish',\n",
              " 'feel bit',\n",
              " 'new thing',\n",
              " 'stori told',\n",
              " 'nice touch',\n",
              " 'gun mechan',\n",
              " 'thing need',\n",
              " 'good voic',\n",
              " 'first chapter',\n",
              " 'high qualiti',\n",
              " 'time go',\n",
              " 'best star',\n",
              " 'real time',\n",
              " 'local coop',\n",
              " 'damn good',\n",
              " 'look around',\n",
              " 'fun love',\n",
              " 'short time',\n",
              " 'everi aspect',\n",
              " 'enemi attack',\n",
              " 'unless your',\n",
              " 'put hour',\n",
              " 'oregon trail',\n",
              " 'cup tea',\n",
              " 'plot twist',\n",
              " 'make look',\n",
              " 'there not_much',\n",
              " 'finish hour',\n",
              " 'choic matter',\n",
              " 'keyboard control',\n",
              " 'serious sam',\n",
              " 'good puzzl',\n",
              " 'pointandclick adventur',\n",
              " 'need fix',\n",
              " 'anyon look',\n",
              " 'fan genr',\n",
              " 'great idea',\n",
              " 'less hour',\n",
              " 'time around',\n",
              " 'higher difficulti',\n",
              " 'pen paper',\n",
              " 'fun experi',\n",
              " 'better graphic',\n",
              " 'new area',\n",
              " 'hundr hour',\n",
              " 'mayb even',\n",
              " 'lack content',\n",
              " 'recommend fan',\n",
              " 'right away',\n",
              " 'game experi',\n",
              " 'enjoy first',\n",
              " 'say good',\n",
              " 'stori end',\n",
              " 'long way',\n",
              " 'decent stori',\n",
              " 'love art',\n",
              " 'not_too bad',\n",
              " 'there way',\n",
              " 'fun recommend',\n",
              " 'thing happen',\n",
              " 'anoth thing',\n",
              " 'good charact',\n",
              " 'camera angl',\n",
              " 'chang review',\n",
              " 'look amaz',\n",
              " 'great combat',\n",
              " 'youll enjoy',\n",
              " 'new mechan',\n",
              " 'add new',\n",
              " 'pc port',\n",
              " 'sale price',\n",
              " 'hack n',\n",
              " 'differ weapon',\n",
              " 'not_mak sens',\n",
              " 'challeng fun',\n",
              " 'first start',\n",
              " 'build charact',\n",
              " 'rd person',\n",
              " 'graphic gameplay',\n",
              " 'motion sick',\n",
              " 'far better',\n",
              " 'good stuff',\n",
              " 'bit repetit',\n",
              " 'everyon els',\n",
              " 'time limit',\n",
              " 'play first',\n",
              " 'slow pace',\n",
              " 'hope develop',\n",
              " 'someon els',\n",
              " 'price point',\n",
              " 'charact make',\n",
              " 'forward see',\n",
              " 'stardew valley',\n",
              " 'fun hour',\n",
              " 'make choic',\n",
              " 'enhanc edit',\n",
              " 'dungeon crawl',\n",
              " 'stori bit',\n",
              " 'world explor',\n",
              " 'great deal',\n",
              " 'n slash',\n",
              " 'procedur generat',\n",
              " 'total recommend',\n",
              " 'art direct',\n",
              " 'first part',\n",
              " 'charact interest',\n",
              " 'make worth',\n",
              " 'make interest',\n",
              " 'far away',\n",
              " 'charact great',\n",
              " 'graphic card',\n",
              " 'first came',\n",
              " 'sinc first',\n",
              " 'feel great',\n",
              " 'good combat',\n",
              " 'core gameplay',\n",
              " 'excit see',\n",
              " 'real world',\n",
              " 'perform issu',\n",
              " 'sens humor',\n",
              " 'save point',\n",
              " 'wander around',\n",
              " 'need go',\n",
              " 'time good',\n",
              " 'thus far',\n",
              " 'far good',\n",
              " 'twin stick',\n",
              " 'great voic',\n",
              " 'sherlock holm',\n",
              " 'worth pick',\n",
              " 'next time',\n",
              " 'mass effect',\n",
              " 'fun use',\n",
              " 'littl time',\n",
              " 'graphic style',\n",
              " 'keep good',\n",
              " 'custom charact',\n",
              " 'run away',\n",
              " 'even wors',\n",
              " 'quit nice',\n",
              " 'ill give',\n",
              " 'littl thing',\n",
              " 'fun way',\n",
              " 'ca not_go',\n",
              " 'great potenti',\n",
              " 'someth differ',\n",
              " 'finish first',\n",
              " 'easi use',\n",
              " 'hard work',\n",
              " 'not_that bad',\n",
              " 'straight forward',\n",
              " 'take damag',\n",
              " 'tri differ',\n",
              " 'enjoy far',\n",
              " 'especi sinc',\n",
              " 'hour beat',\n",
              " 'sound good',\n",
              " 'money back',\n",
              " 'recommend get',\n",
              " 'control work',\n",
              " 'fight enemi',\n",
              " 'littl short',\n",
              " 'youd expect',\n",
              " 'ca not_do',\n",
              " 'doubl fine',\n",
              " 'street fighter',\n",
              " 'base rpg',\n",
              " 'bug glitch',\n",
              " 'weapon armor',\n",
              " 'sinc releas',\n",
              " 'fun worth',\n",
              " 'explor world',\n",
              " 'love first',\n",
              " 'bad bad',\n",
              " 'onlin multiplay',\n",
              " 'give good',\n",
              " 'dragon age',\n",
              " 'beat em',\n",
              " 'good price',\n",
              " 'time start',\n",
              " 'use mous',\n",
              " 'pillar etern',\n",
              " 'special abil',\n",
              " 'act good',\n",
              " 'make money',\n",
              " 'difficulti curv',\n",
              " 'whole new',\n",
              " 'half time',\n",
              " 'nice see',\n",
              " 'make decis',\n",
              " 'text adventur',\n",
              " 'flight sim',\n",
              " 'certain point',\n",
              " 'tactic combat',\n",
              " 'keep eye',\n",
              " 'graphic music',\n",
              " 'not_do anyth',\n",
              " 'engag stori',\n",
              " 'world map',\n",
              " 'last time',\n",
              " 'hope dev',\n",
              " 'good first',\n",
              " 'favorit time',\n",
              " 'go around',\n",
              " 'interest concept',\n",
              " 'revolv around',\n",
              " 'season pass',\n",
              " 'legend zelda',\n",
              " 'great look',\n",
              " 'develop team',\n",
              " 'time fun',\n",
              " 'see develop',\n",
              " 'tactic rpg',\n",
              " 'youll see',\n",
              " 'time enjoy',\n",
              " 'worth purchas',\n",
              " 'hotlin miami',\n",
              " 'incred fun',\n",
              " 'great enjoy',\n",
              " 'good buy',\n",
              " 'never get',\n",
              " 'level level',\n",
              " 'easili best',\n",
              " 'amaz graphic',\n",
              " 'make way',\n",
              " 'great work',\n",
              " 'review say',\n",
              " 'interest mechan',\n",
              " 'fate fate',\n",
              " 'without doubt',\n",
              " 'hour enjoy',\n",
              " 'multipl end',\n",
              " 'new level',\n",
              " 'futur updat',\n",
              " 'progress stori',\n",
              " 'work hard',\n",
              " 'support develop',\n",
              " 'three time',\n",
              " 'nice look',\n",
              " 'visual style',\n",
              " 'charact progress',\n",
              " 'tri hard',\n",
              " 'say least',\n",
              " 'differ end',\n",
              " 'peopl enjoy',\n",
              " 'not_stop play',\n",
              " 'fun puzzl',\n",
              " 'enjoy good',\n",
              " 'design choic',\n",
              " 'interest enough',\n",
              " 'learn hard',\n",
              " 'next level',\n",
              " 'start say',\n",
              " 'time travel',\n",
              " 'surpris good',\n",
              " 'dialogu option',\n",
              " 'hour far',\n",
              " 'great good',\n",
              " 'keep get',\n",
              " 'press button',\n",
              " 'mod communiti',\n",
              " 'not_worth money',\n",
              " 'steam version',\n",
              " 'allow player',\n",
              " 'pc version',\n",
              " 'read book',\n",
              " 'find new',\n",
              " 'sound music',\n",
              " 'great visual',\n",
              " 'frustrat time',\n",
              " 'know your',\n",
              " 'worth get',\n",
              " 'goe sale',\n",
              " 'technic issu',\n",
              " 'not_veri good',\n",
              " 'good end',\n",
              " 'style gameplay',\n",
              " 'make new',\n",
              " 'need know',\n",
              " 'get repetit',\n",
              " 'world build',\n",
              " 'think great',\n",
              " 'hard find',\n",
              " 'cant even',\n",
              " 'differ class',\n",
              " 'good rpg',\n",
              " 'skill system',\n",
              " 'time your',\n",
              " 'steam achiev',\n",
              " 'playabl charact',\n",
              " 'anyon want',\n",
              " 'time waster',\n",
              " 'not_too hard',\n",
              " 'vr experi',\n",
              " 'fell love',\n",
              " 'not_a huge',\n",
              " 'better first',\n",
              " 'ca not_stop',\n",
              " 'take back',\n",
              " 'stori progress',\n",
              " 'charact good',\n",
              " 'jump scare',\n",
              " 'ad new',\n",
              " 'open door',\n",
              " 'first run',\n",
              " 'graphic amaz',\n",
              " 'control charact',\n",
              " 'sound track',\n",
              " 'price worth',\n",
              " 'charact look',\n",
              " 'even earli',\n",
              " 'need use',\n",
              " 'control bit',\n",
              " 'new updat',\n",
              " 'player base',\n",
              " 'time stori',\n",
              " 'coaster tycoon',\n",
              " 'your interest',\n",
              " 'give player',\n",
              " 'stori quit',\n",
              " 'time get',\n",
              " 'great concept',\n",
              " 'look better',\n",
              " 'keep thing',\n",
              " 'player charact',\n",
              " 'around edg',\n",
              " 'actual quit',\n",
              " 'decent amount',\n",
              " 'back time',\n",
              " 'mod support',\n",
              " 'need make',\n",
              " 'qualiti life',\n",
              " 'huge amount',\n",
              " 'great thing',\n",
              " 'gameplay simpl',\n",
              " 'look cool',\n",
              " 'pay full',\n",
              " 'make enjoy',\n",
              " 'challeng puzzl',\n",
              " 'end stori',\n",
              " 'pros great',\n",
              " 'worth check',\n",
              " 'dont think',\n",
              " 'graphic beauti',\n",
              " 'absolut worth',\n",
              " 'side scroll',\n",
              " 'love charact',\n",
              " 'war fan',\n",
              " 'stori far',\n",
              " 'amaz fun',\n",
              " 'art design',\n",
              " 'amaz soundtrack',\n",
              " 'quit time',\n",
              " 'move forward',\n",
              " 'time review',\n",
              " 'fun easi',\n",
              " 'summer sale',\n",
              " 'time see',\n",
              " 'best vr',\n",
              " 'role play',\n",
              " 'black screen',\n",
              " 'charact level',\n",
              " 'good even',\n",
              " 'side mission',\n",
              " 'there littl',\n",
              " 'peopl love',\n",
              " 'there plenti',\n",
              " 'time take',\n",
              " 'absolut fantast',\n",
              " 'darkest dungeon',\n",
              " 'high reccomend',\n",
              " 'even your',\n",
              " 'dev tycoon',\n",
              " 'enough time',\n",
              " 'peopl play',\n",
              " 'emili away',\n",
              " 'endless mode',\n",
              " 'meat boy',\n",
              " 'sale worth',\n",
              " 'arcad mode',\n",
              " 'fantasi tactic',\n",
              " 'time look',\n",
              " 'good hour',\n",
              " 'charact uniqu',\n",
              " 'hit enemi',\n",
              " 'good love',\n",
              " 'everi day',\n",
              " 'time think',\n",
              " 'short fun',\n",
              " 'fun make',\n",
              " 'higher level',\n",
              " 'good great',\n",
              " 'use keyboard',\n",
              " 'make easier',\n",
              " 'alway want',\n",
              " 'quit challeng',\n",
              " 'hour tri',\n",
              " 'good control',\n",
              " 'money buy',\n",
              " 'make use',\n",
              " 'good recommend',\n",
              " 'dungeon dragon',\n",
              " 'actual make',\n",
              " 'go go',\n",
              " 'thing not_lik',\n",
              " 'time sinc',\n",
              " 'make difficult',\n",
              " 'way mani',\n",
              " 'finish stori',\n",
              " 'beauti stori',\n",
              " 'time great',\n",
              " 'easi understand',\n",
              " 'worth look',\n",
              " 'rough around',\n",
              " 'see peopl',\n",
              " 'easi mode',\n",
              " 'hardest difficulti',\n",
              " 'anyon love',\n",
              " 'last boss',\n",
              " 'fix problem',\n",
              " 'upgrad system',\n",
              " 'mechan make',\n",
              " 'combat good',\n",
              " 'not_wast money',\n",
              " 'uniqu experi',\n",
              " 'forward play',\n",
              " 'alot fun',\n",
              " 'fun explor',\n",
              " 'mous control',\n",
              " 'hour first',\n",
              " 'rollercoast tycoon',\n",
              " 'time ago',\n",
              " 'put time',\n",
              " 'system make',\n",
              " 'mani other',\n",
              " 'charact differ',\n",
              " 'charact interact',\n",
              " 'random encount',\n",
              " 'better better',\n",
              " 'around map',\n",
              " 'quit short',\n",
              " 'great rpg',\n",
              " 'find someth',\n",
              " 'hour playtim',\n",
              " 'spiritu successor',\n",
              " 'sandbox mode',\n",
              " 'there someth',\n",
              " 'make easi',\n",
              " 'hour two',\n",
              " 'sort thing',\n",
              " 'music nice',\n",
              " 'not_b disappoint',\n",
              " 'first boss',\n",
              " 'tv show',\n",
              " 'monkey island',\n",
              " 'poor design',\n",
              " 'challeng mode',\n",
              " 'first episod',\n",
              " 'came back',\n",
              " 'fun short',\n",
              " 'high level',\n",
              " 'wait see',\n",
              " 'best stori',\n",
              " 'tomb raider',\n",
              " 'whole time',\n",
              " 'support dev',\n",
              " 'time find',\n",
              " 'fun especi',\n",
              " 'fun look',\n",
              " 'without get',\n",
              " 'ca not_believ',\n",
              " 'end day',\n",
              " 'hit miss',\n",
              " 'let say',\n",
              " 'biggest problem',\n",
              " 'buy dlc',\n",
              " ...]"
            ]
          },
          "metadata": {
            "tags": []
          },
          "execution_count": 20
        }
      ]
    },
    {
      "cell_type": "code",
      "metadata": {
        "ExecuteTime": {
          "end_time": "2020-06-02T06:22:55.515875Z",
          "start_time": "2020-06-02T06:09:28.840404Z"
        },
        "colab_type": "code",
        "id": "2b4AsuoxwUUn",
        "colab": {}
      },
      "source": [
        "# train the LDA model \n",
        "lda = LDA(k=6, maxIter=50, optimizer=\"online\", seed=1)\n",
        "ldaModel = lda.fit(result)\n",
        "\n",
        "#print(\"The lower bound on the log likelihood of the entire corpus: \", ldaModel.logLikelihood(t))\n",
        "#print(\"The LDA model perplexity is: \", ldaModel.logPerplexity(train))"
      ],
      "execution_count": 0,
      "outputs": []
    },
    {
      "cell_type": "code",
      "metadata": {
        "colab_type": "code",
        "id": "qiTL_hLWpeFp",
        "outputId": "b40a0b62-85bb-45fc-cf89-67ac3b54d88e",
        "colab": {
          "base_uri": "https://localhost:8080/",
          "height": 1000
        }
      },
      "source": [
        "# print out topics and their representative words \n",
        "topics_rdd = ldaModel.describeTopics().rdd\n",
        "\n",
        "topics_words = topics_rdd\\\n",
        "       .map(lambda row: row['termIndices'])\\\n",
        "       .map(lambda idx_list: [vocabArray[idx] for idx in idx_list])\\\n",
        "       .collect()\n",
        "\n",
        "for idx, topic in enumerate(topics_words):\n",
        "    print(\"topic: \", idx)\n",
        "    print(\"----------\")\n",
        "    for word in topic:\n",
        "        print(word)\n",
        "    print()"
      ],
      "execution_count": 0,
      "outputs": [
        {
          "output_type": "stream",
          "text": [
            "topic:  0\n",
            "----------\n",
            "voic act\n",
            "high recommend\n",
            "great stori\n",
            "art style\n",
            "good stori\n",
            "combat system\n",
            "turn base\n",
            "stori line\n",
            "grim dawn\n",
            "stori great\n",
            "\n",
            "topic:  1\n",
            "----------\n",
            "superhot superhot\n",
            "click click\n",
            "boss fight\n",
            "bind isaac\n",
            "level design\n",
            "final boss\n",
            "high recommend\n",
            "full price\n",
            "dungeon crawler\n",
            "random generat\n",
            "\n",
            "topic:  2\n",
            "----------\n",
            "super hot\n",
            "hot super\n",
            "buffalo buffalo\n",
            "refund pls\n",
            "pls refund\n",
            "super fun\n",
            "bring back\n",
            "fun love\n",
            "real life\n",
            "simpl fun\n",
            "\n",
            "topic:  3\n",
            "----------\n",
            "everi time\n",
            "look forward\n",
            "go back\n",
            "first time\n",
            "long time\n",
            "negat review\n",
            "year ago\n",
            "make sens\n",
            "your look\n",
            "full price\n",
            "\n",
            "topic:  4\n",
            "----------\n",
            "earli access\n",
            "ca not_wait\n",
            "old school\n",
            "fun fun\n",
            "high recommend\n",
            "current state\n",
            "singl player\n",
            "saint row\n",
            "fun friend\n",
            "great fun\n",
            "\n",
            "topic:  5\n",
            "----------\n",
            "star war\n",
            "point click\n",
            "voic act\n",
            "main charact\n",
            "high recommend\n",
            "dark soul\n",
            "replay valu\n",
            "singl player\n",
            "visual novel\n",
            "click adventur\n",
            "\n"
          ],
          "name": "stdout"
        }
      ]
    },
    {
      "cell_type": "code",
      "metadata": {
        "colab_type": "code",
        "id": "0YMzYwssRjIc",
        "outputId": "d2c9e4bf-3d65-4b64-cbb3-d57853c0bcb0",
        "colab": {
          "base_uri": "https://localhost:8080/",
          "height": 225
        }
      },
      "source": [
        "# describe token indices and their corresponding weights for each topic\n",
        "descr_tokens = ldaModel.describeTopics(6)\n",
        "print(\"The topics described by their top-weighted terms:\")\n",
        "descr_tokens.show()"
      ],
      "execution_count": 0,
      "outputs": [
        {
          "output_type": "stream",
          "text": [
            "The topics described by their top-weighted terms:\n",
            "+-----+--------------------+--------------------+\n",
            "|topic|         termIndices|         termWeights|\n",
            "+-----+--------------------+--------------------+\n",
            "|    0|[0, 1, 13, 5, 12, 7]|[0.00401656896922...|\n",
            "|    1|[33, 76, 27, 143,...|[0.00214187138153...|\n",
            "|    2|[2, 4, 39, 130, 1...|[0.03227361250021...|\n",
            "|    3|[21, 6, 18, 14, 9...|[8.58657188602857...|\n",
            "|    4|[3, 22, 26, 294, ...|[0.00783392561797...|\n",
            "|    5|[8, 10, 0, 28, 1,...|[0.00319606998399...|\n",
            "+-----+--------------------+--------------------+\n",
            "\n"
          ],
          "name": "stdout"
        }
      ]
    },
    {
      "cell_type": "code",
      "metadata": {
        "ExecuteTime": {
          "end_time": "2020-06-01T21:26:19.263501Z",
          "start_time": "2020-06-01T21:26:18.497565Z"
        },
        "colab_type": "code",
        "id": "9hL4ny0UwUX0",
        "outputId": "4959279c-bab6-4dbc-d038-072d37bfea0d",
        "colab": {
          "base_uri": "https://localhost:8080/",
          "height": 208
        }
      },
      "source": [
        "# show features and topic distribution\n",
        "transformed = ldaModel.transform(result)\n",
        "transformed.show(5)"
      ],
      "execution_count": 0,
      "outputs": [
        {
          "output_type": "stream",
          "text": [
            "+-----+--------------------+--------------------+\n",
            "|index|            features|   topicDistribution|\n",
            "+-----+--------------------+--------------------+\n",
            "|    0|(262144,[16,28,34...|[0.00253660232210...|\n",
            "|    1|(262144,[2711,938...|[0.01445863320441...|\n",
            "|    2|(262144,[18,3830,...|[0.00720170988581...|\n",
            "|    3|(262144,[442,2212...|[0.31404956855702...|\n",
            "|    4|(262144,[669,1724...|[0.00527301082674...|\n",
            "+-----+--------------------+--------------------+\n",
            "only showing top 5 rows\n",
            "\n"
          ],
          "name": "stdout"
        }
      ]
    },
    {
      "cell_type": "code",
      "metadata": {
        "ExecuteTime": {
          "end_time": "2020-06-01T21:41:43.106974Z",
          "start_time": "2020-06-01T21:41:41.970490Z"
        },
        "colab_type": "code",
        "id": "Tz_GxNwPwUX5",
        "outputId": "62ec60b4-acec-493b-af08-a2069fb2bd9e",
        "colab": {
          "base_uri": "https://localhost:8080/",
          "height": 294
        }
      },
      "source": [
        "# explode topics\n",
        "def ith_(v, i):\n",
        "    try:\n",
        "        return float(v[i])\n",
        "    except ValueError:\n",
        "        return None\n",
        "\n",
        "ith = F.udf(ith_, DoubleType())\n",
        "\n",
        "tpc_pivot_tbl = transformed.select([\"index\"] + [ith(\"topicDistribution\", \n",
        "                                        F.lit(i)).alias('topic_'+str(i)) for i in range(6)] )\n",
        "tpc_pivot_tbl.show(10)"
      ],
      "execution_count": 0,
      "outputs": [
        {
          "output_type": "stream",
          "text": [
            "+-----+--------------------+--------------------+--------------------+--------------------+--------------------+--------------------+\n",
            "|index|             topic_0|             topic_1|             topic_2|             topic_3|             topic_4|             topic_5|\n",
            "+-----+--------------------+--------------------+--------------------+--------------------+--------------------+--------------------+\n",
            "|    0|0.002536602322103...|0.002223641168001272|0.001741923118296...|  0.2490151854649642|0.002153020632249445|  0.7423296272943843|\n",
            "|    1|0.014458633204412603|0.012698214123566828| 0.00994798998716764|   0.937844360266083|0.012289071355584644|0.012761731063185412|\n",
            "|    2|0.007201709885817856|0.006300643318596739|  0.3018729712827112| 0.32170950315882907|0.006101702728088852|  0.3568134696259564|\n",
            "|    3| 0.31404956855702654| 0.01072096583193198|0.008397106661656452|0.012044558892135881|0.010365163373076216|  0.6444226366841729|\n",
            "|    4|0.005273010826740236| 0.00460710625856307|0.003610287435288202|0.005218765967468296|0.004468928603789168|   0.976821900908151|\n",
            "|    5|  0.2671944979076067|0.002463412424679...|0.001929251377824425|0.002775311205522...|0.002385418009956...|  0.7232521090744111|\n",
            "|    6| 0.05539910305793983|0.048809611965160385| 0.03811753561095999| 0.05468846117101338| 0.04714492488224218|  0.7558403633126842|\n",
            "|    7| 0.26465644695470864|0.005762322924076806|0.004521958689119344|0.006490705907186719|0.005583953286212...|  0.7129846122386959|\n",
            "|    8|    0.74149287212105|0.007709072601700928|0.006042209598065149|0.008673645691970605|0.007464001403093486| 0.22861819858411983|\n",
            "|    9| 0.02710072306138727| 0.02358001978079769|0.018486935796823808|0.026557267327922802|0.022822721008870797|  0.8814523330241976|\n",
            "+-----+--------------------+--------------------+--------------------+--------------------+--------------------+--------------------+\n",
            "only showing top 10 rows\n",
            "\n"
          ],
          "name": "stdout"
        }
      ]
    },
    {
      "cell_type": "code",
      "metadata": {
        "colab_type": "code",
        "id": "9dAxC1oUwRlh",
        "colab": {}
      },
      "source": [
        "tpc_pivot_tbl.toPandas().to_csv(\"/content/drive/My Drive/steam/Jun4th analysis/tpc_pivot.csv\", index=False)"
      ],
      "execution_count": 0,
      "outputs": []
    },
    {
      "cell_type": "code",
      "metadata": {
        "colab_type": "code",
        "id": "IjlJUU2q2SPw",
        "outputId": "8e13a504-861a-4a86-c477-fc7288148a40",
        "colab": {
          "base_uri": "https://localhost:8080/",
          "height": 196
        }
      },
      "source": [
        "tpc_pivot_tbl = spark.read.csv(\"/content/drive/My Drive/steam/Jun4th analysis/tpc_pivot.csv\", inferSchema = True, header = True) \n",
        "tpc_pivot_tbl.show(5)"
      ],
      "execution_count": 0,
      "outputs": [
        {
          "output_type": "stream",
          "text": [
            "+-----+--------------------+--------------------+--------------------+--------------------+--------------------+--------------------+\n",
            "|index|             topic_0|             topic_1|             topic_2|             topic_3|             topic_4|             topic_5|\n",
            "+-----+--------------------+--------------------+--------------------+--------------------+--------------------+--------------------+\n",
            "|    0|0.002536602322103...|0.002223641168001272|0.001741923118296...|  0.2490151854649642|0.002153020632249445|  0.7423296272943843|\n",
            "|    1|0.014458633204412603|0.012698214123566828| 0.00994798998716764|   0.937844360266083|0.012289071355584644|0.012761731063185412|\n",
            "|    2|0.007201709885817856|0.006300643318596739|  0.3018729712827112| 0.32170950315882907|0.006101702728088852|  0.3568134696259564|\n",
            "|    3| 0.31404956855702654| 0.01072096583193198|0.008397106661656452|0.012044558892135881|0.010365163373076216|  0.6444226366841729|\n",
            "|    4|0.005273010826740236| 0.00460710625856307|0.003610287435288202|0.005218765967468296|0.004468928603789168|   0.976821900908151|\n",
            "+-----+--------------------+--------------------+--------------------+--------------------+--------------------+--------------------+\n",
            "only showing top 5 rows\n",
            "\n"
          ],
          "name": "stdout"
        }
      ]
    },
    {
      "cell_type": "code",
      "metadata": {
        "colab_type": "code",
        "id": "PaigptYC1juj",
        "outputId": "b6ecb81e-1c1f-4556-f546-6b42d46b6046",
        "colab": {
          "base_uri": "https://localhost:8080/",
          "height": 440
        }
      },
      "source": [
        "from pyspark.sql.functions import col, lit, coalesce, greatest\n",
        "\n",
        "# find the max topic weights for each document\n",
        "minf = lit(float(\"-inf\"))\n",
        "rowmax = greatest(*[coalesce(col(x), minf) for x in ['topic_0','topic_1','topic_2', 'topic_3', 'topic_4', \"topic_5\"]])\n",
        "doc_tpc = tpc_pivot_tbl.withColumn(\"max_weight\", rowmax)\n",
        "\n",
        "# find the topic index of highest topic weights\n",
        "cond = \"F.when\" + \".when\".join([\"(F.col('\" + c + \"') == F.col('max_weight'), F.lit('\" + c + \"'))\" \\\n",
        "                                for c in doc_tpc.columns])\n",
        "\n",
        "doc_tpc = doc_tpc.withColumn(\"TopicIndex\", eval(cond)).select(\"index\", \"max_weight\", \"TopicIndex\")\n",
        "doc_tpc.show()"
      ],
      "execution_count": 0,
      "outputs": [
        {
          "output_type": "stream",
          "text": [
            "+-----+------------------+----------+\n",
            "|index|        max_weight|TopicIndex|\n",
            "+-----+------------------+----------+\n",
            "|    0|0.7423296272943843|   topic_5|\n",
            "|    1| 0.937844360266083|   topic_3|\n",
            "|    2|0.3568134696259564|   topic_5|\n",
            "|    3|0.6444226366841729|   topic_5|\n",
            "|    4| 0.976821900908151|   topic_5|\n",
            "|    5|0.7232521090744111|   topic_5|\n",
            "|    6|0.7558403633126842|   topic_5|\n",
            "|    7|0.7129846122386959|   topic_5|\n",
            "|    8|  0.74149287212105|   topic_0|\n",
            "|    9|0.8814523330241976|   topic_5|\n",
            "|   10|0.6309066271972209|   topic_5|\n",
            "|   11|0.6799751129513201|   topic_5|\n",
            "|   12|0.9317450312750118|   topic_0|\n",
            "|   13|0.9417347602900547|   topic_5|\n",
            "|   14| 0.966859238522062|   topic_5|\n",
            "|   15|0.6130306275607669|   topic_5|\n",
            "|   16|0.9633382527764783|   topic_5|\n",
            "|   17|0.9241496710646364|   topic_5|\n",
            "|   18|0.9547848114389372|   topic_0|\n",
            "|   19|0.6389070250469109|   topic_0|\n",
            "+-----+------------------+----------+\n",
            "only showing top 20 rows\n",
            "\n"
          ],
          "name": "stdout"
        }
      ]
    },
    {
      "cell_type": "markdown",
      "metadata": {
        "colab_type": "text",
        "id": "ZNOI9YEpwUZb"
      },
      "source": [
        "Topics Identified\n",
        "\n",
        "Topic 0: Game story and UI/UX </br>\n",
        "keywords such as ‘great storyline’ and ‘voice act’ appear under topic with relatively higher weight.</br></br>\n",
        "\n",
        "Topic 1: Game strategy </br>\n",
        "keywords such as ‘final boss’ and ‘click’, which might be users discussing specific game strategies.</br></br>\n",
        "\n",
        "Topic 2: Sentiment expression </br>\n",
        "users express their feelings toward certain games which can be either positive, like ‘simple fun’ or show their disappointment such as ‘pls refund’.</br></br>\n",
        "\n",
        "Topic 3: Performance & stability </br>\n",
        "keywords such as ‘bug’ and ‘long time’ suggest that this topic is about games’ performance and stability.</br></br>\n",
        "\n",
        "Topic 4: Tactics </br> \n",
        "there are tactical gameplay keywords such as ‘early access’.</br></br>\n",
        "\n",
        "Topic 5: Game character & content </br>\n",
        "keywords such as ‘dark soul’ and ‘main character’ cluster reviews under topic 6 game characters and content. "
      ]
    },
    {
      "cell_type": "markdown",
      "metadata": {
        "id": "Wix1z2axGclK",
        "colab_type": "text"
      },
      "source": [
        "## User Segmentation"
      ]
    },
    {
      "cell_type": "markdown",
      "metadata": {
        "id": "xK3-Mm-iNvPW",
        "colab_type": "text"
      },
      "source": [
        "### Step 1: All users information"
      ]
    },
    {
      "cell_type": "code",
      "metadata": {
        "colab_type": "code",
        "id": "djzPIdD_sEa0",
        "outputId": "0ee30a6f-2166-4965-d838-d442113d7d30",
        "colab": {
          "base_uri": "https://localhost:8080/",
          "height": 683
        }
      },
      "source": [
        "# join ngramDataFrame and doc_tpc by index\n",
        "t1 = ngramDataFrame.alias('t1')\n",
        "t2 = doc_tpc.alias('t2')\n",
        "\n",
        "df_full = t1.join(t2, t1.index==t2.index, 'inner').select(t1[\"*\"], t2[\"max_weight\"], t2[\"TopicIndex\"])\n",
        "df_full.printSchema()"
      ],
      "execution_count": 0,
      "outputs": [
        {
          "output_type": "stream",
          "text": [
            "root\n",
            " |-- GameID: integer (nullable = true)\n",
            " |-- SteamID: long (nullable = true)\n",
            " |-- ReviewID: integer (nullable = true)\n",
            " |-- NumGamesOwned: integer (nullable = true)\n",
            " |-- NumReviewsGiven: integer (nullable = true)\n",
            " |-- PlayTime: integer (nullable = true)\n",
            " |-- PlayTimeLastTwoWeeks: integer (nullable = true)\n",
            " |-- LastPlayTime: string (nullable = true)\n",
            " |-- Language: string (nullable = true)\n",
            " |-- Review: string (nullable = true)\n",
            " |-- TimeCreated: string (nullable = true)\n",
            " |-- Recommended: string (nullable = true)\n",
            " |-- VotesUp: string (nullable = true)\n",
            " |-- VoteFunny: string (nullable = true)\n",
            " |-- WeightedVoteScore: string (nullable = true)\n",
            " |-- CommentCount: string (nullable = true)\n",
            " |-- SteamPurchase: string (nullable = true)\n",
            " |-- WriteEarly: string (nullable = true)\n",
            " |-- AppName: string (nullable = true)\n",
            " |-- NewGenre: string (nullable = true)\n",
            " |-- Developer: string (nullable = true)\n",
            " |-- ReviewSentiment: string (nullable = true)\n",
            " |-- index: long (nullable = false)\n",
            " |-- nonnum: string (nullable = true)\n",
            " |-- nonurl: string (nullable = true)\n",
            " |-- regclean: string (nullable = true)\n",
            " |-- modified_negation1: string (nullable = true)\n",
            " |-- modified_negation2: string (nullable = true)\n",
            " |-- nopunct: string (nullable = true)\n",
            " |-- review_token: array (nullable = true)\n",
            " |    |-- element: string (containsNull = true)\n",
            " |-- stopwords_removed: array (nullable = true)\n",
            " |    |-- element: string (containsNull = true)\n",
            " |-- words_stemmed: array (nullable = true)\n",
            " |    |-- element: string (containsNull = true)\n",
            " |-- ngrams: array (nullable = true)\n",
            " |    |-- element: string (containsNull = false)\n",
            " |-- max_weight: double (nullable = false)\n",
            " |-- TopicIndex: string (nullable = true)\n",
            "\n"
          ],
          "name": "stdout"
        }
      ]
    },
    {
      "cell_type": "code",
      "metadata": {
        "colab_type": "code",
        "id": "H0rkEnnBwUY5",
        "outputId": "7a53fbf3-0311-40de-f43a-addc634cd874",
        "colab": {
          "base_uri": "https://localhost:8080/",
          "height": 293
        }
      },
      "source": [
        "# correct data types (Recommended, VotesUp, VoteFunny, WeightedVoteScore: string to float; \n",
        "#                     LastPlayTime and TimeCreated to timestamp)\n",
        "\n",
        "df_user = df_full.select(\"index\", \"SteamID\", \"NumGamesOwned\", \"NumReviewsGiven\", \"PlayTime\", \"LastPlayTime\",\n",
        "                         \"PlayTimeLastTwoWeeks\", \"Recommended\", \"VotesUp\", \"VoteFunny\", \"TimeCreated\", \n",
        "                         \"WeightedVoteScore\", \"GameID\", \"NewGenre\", \"TopicIndex\")\n",
        "\n",
        "df_user = df_user.select(\"index\", \"SteamID\", \"NumGamesOwned\", \"NumReviewsGiven\", \"PlayTime\", \n",
        "                         \"PlayTimeLastTwoWeeks\",\"GameID\", \"NewGenre\", \"TopicIndex\",\n",
        "                          df_user.LastPlayTime.cast(\"timestamp\").alias(\"LastPlayTime\"),\n",
        "                          df_user.TimeCreated.cast(\"timestamp\").alias(\"TimeCreated\"),\n",
        "                          df_user.Recommended.cast('int').alias('Recommended'),\n",
        "                          df_user.VotesUp.cast('int').alias('VotesUp'), \n",
        "                          df_user.VoteFunny.cast('int').alias('VoteFunny'), \n",
        "                          df_user.WeightedVoteScore.cast('double').alias('WeightedVoteScore')\n",
        "                          )\n",
        "\n",
        "df_user.createOrReplaceTempView(\"df_user\")\n",
        "df_user.printSchema()"
      ],
      "execution_count": 0,
      "outputs": [
        {
          "output_type": "stream",
          "text": [
            "root\n",
            " |-- index: long (nullable = false)\n",
            " |-- SteamID: long (nullable = true)\n",
            " |-- NumGamesOwned: integer (nullable = true)\n",
            " |-- NumReviewsGiven: integer (nullable = true)\n",
            " |-- PlayTime: integer (nullable = true)\n",
            " |-- PlayTimeLastTwoWeeks: integer (nullable = true)\n",
            " |-- GameID: integer (nullable = true)\n",
            " |-- NewGenre: string (nullable = true)\n",
            " |-- TopicIndex: string (nullable = true)\n",
            " |-- LastPlayTime: timestamp (nullable = true)\n",
            " |-- TimeCreated: timestamp (nullable = true)\n",
            " |-- Recommended: integer (nullable = true)\n",
            " |-- VotesUp: integer (nullable = true)\n",
            " |-- VoteFunny: integer (nullable = true)\n",
            " |-- WeightedVoteScore: double (nullable = true)\n",
            "\n"
          ],
          "name": "stdout"
        }
      ]
    },
    {
      "cell_type": "code",
      "metadata": {
        "colab_type": "code",
        "id": "k57Tx5RCwUY_",
        "outputId": "a3c45457-d753-44e3-d381-759d7e6bec9a",
        "colab": {
          "base_uri": "https://localhost:8080/",
          "height": 297
        }
      },
      "source": [
        "# find each user's first LastPlayTime record and calculate day gaps between other later LastPlayTimes and the first date\n",
        "days_tbl = spark.sql(\"select distinct *, datediff(LastPlayTime, \\\n",
        "                first_value(LastPlayTime) over (partition by SteamID order by LastPlayTime)) as days, \\\n",
        "                min(LastPlayTime) over (partition by SteamID) as first_review, \\\n",
        "                max(PlayTimeLastTwoWeeks) over (partition by SteamID, GameID) as max_PlayTimeLastTwoWeeks \\\n",
        "                from df_user\")\n",
        "\n",
        "days_tbl.createOrReplaceTempView(\"days_tbl\")\n",
        "days_tbl.show(10)"
      ],
      "execution_count": 0,
      "outputs": [
        {
          "output_type": "stream",
          "text": [
            "+-----------+-----------------+-------------+---------------+--------+--------------------+------+----------------+----------+-------------------+-------------------+-----------+-------+---------+------------------+-----+-------------------+------------------------+\n",
            "|      index|          SteamID|NumGamesOwned|NumReviewsGiven|PlayTime|PlayTimeLastTwoWeeks|GameID|        NewGenre|TopicIndex|       LastPlayTime|        TimeCreated|Recommended|VotesUp|VoteFunny| WeightedVoteScore| days|       first_review|max_PlayTimeLastTwoWeeks|\n",
            "+-----------+-----------------+-------------+---------------+--------+--------------------+------+----------------+----------+-------------------+-------------------+-----------+-------+---------+------------------+-----+-------------------+------------------------+\n",
            "|      18428|76561197960269579|          430|             34|     249|                   0|372350|Action-Adventure|   topic_1|2017-06-07 14:00:56|2016-06-03 20:44:15|          1|      4|        2|0.5198699831962585|    0|2017-06-07 14:00:56|                       0|\n",
            "|25770045336|76561197960269579|          430|             34|    1265|                   0|396750|Action-Adventure|   topic_4|2018-02-25 18:48:41|2018-02-25 12:57:58|          1|      2|        0| 0.523809552192688|  263|2017-06-07 14:00:56|                       0|\n",
            "|34359892051|76561197960269579|          430|             34|    3377|                   0|666140|             RPG|   topic_0|2020-01-20 19:11:50|2020-01-01 12:48:28|          1|      2|        0|0.5419847369194031|  957|2017-06-07 14:00:56|                       0|\n",
            "|25769906534|76561197960272407|         1852|             25|       0|                   0|205630|      Simulation|   topic_3|1969-12-31 16:00:00|2013-04-15 02:37:59|          1|     37|        0|0.7611899971961974|    0|1969-12-31 16:00:00|                       0|\n",
            "|25769852587|76561197960272407|         1852|             25|       0|                   0|205630|      Simulation|   topic_3|1969-12-31 16:00:00|2013-04-15 02:37:59|          1|     37|        0|0.7611899971961974|    0|1969-12-31 16:00:00|                       0|\n",
            "|25769852588|76561197960272407|         1852|             25|       0|                   0|205630|      Simulation|   topic_3|1969-12-31 16:00:00|2013-04-15 02:37:59|          1|     37|        0|0.7611899971961974|    0|1969-12-31 16:00:00|                       0|\n",
            "|25769906533|76561197960272407|         1852|             25|       0|                   0|205630|      Simulation|   topic_3|1969-12-31 16:00:00|2013-04-15 02:37:59|          1|     37|        0|0.7611899971961974|    0|1969-12-31 16:00:00|                       0|\n",
            "|25769960427|76561197960272407|         1851|             25|     158|                   0| 31290|Action-Adventure|   topic_5|2011-12-11 00:00:00|2014-10-19 03:00:55|          1|      3|        0|0.5487627387046813|15320|1969-12-31 16:00:00|                       0|\n",
            "|     207627|76561197960272423|          412|             16|     308|                   0|657200|      Simulation|   topic_0|2019-11-05 23:25:28|2019-10-08 01:31:06|          1|      1|        0|0.4724409580230713|    0|2019-11-05 23:25:28|                       0|\n",
            "|34359982304|76561197960272423|          412|             16|    6512|                   0|284160|      Simulation|   topic_4|2020-05-05 15:58:10|2017-09-26 17:19:12|          1|      4|        0|0.5416963100433351|  182|2019-11-05 23:25:28|                       0|\n",
            "+-----------+-----------------+-------------+---------------+--------+--------------------+------+----------------+----------+-------------------+-------------------+-----------+-------+---------+------------------+-----+-------------------+------------------------+\n",
            "only showing top 10 rows\n",
            "\n"
          ],
          "name": "stdout"
        }
      ]
    },
    {
      "cell_type": "markdown",
      "metadata": {
        "id": "FOwFq23bUDjJ",
        "colab_type": "text"
      },
      "source": [
        "#### Step 1.1 Create static user profile"
      ]
    },
    {
      "cell_type": "code",
      "metadata": {
        "colab_type": "code",
        "id": "cFzrxnPVwUZG",
        "outputId": "0870a3b2-c85b-4d16-b281-651dbb0ac155",
        "colab": {
          "base_uri": "https://localhost:8080/",
          "height": 277
        }
      },
      "source": [
        "# To avoid duplications, for each user's each reviewed game id, only keep the max days (last review time) and max playtime\n",
        "\n",
        "game_aggregation_tbl = spark.sql(\"select distinct SteamID, NumGamesOwned, NumReviewsGiven, \\\n",
        "                 GameID, Recommended, NewGenre, TopicIndex, \\\n",
        "                 max(PlayTime) over (partition by SteamID, GameID) as GamePlayTime, \\\n",
        "                 max(days) over (partition by SteamID, GameID) as max_days \\\n",
        "            from days_tbl\")\n",
        "\n",
        "game_aggregation_tbl.createOrReplaceTempView(\"game_aggregation_tbl\")\n",
        "game_aggregation_tbl.show(10)"
      ],
      "execution_count": 0,
      "outputs": [
        {
          "output_type": "stream",
          "text": [
            "+-----------------+-------------+---------------+------+-----------+----------------+----------+------------+--------+\n",
            "|          SteamID|NumGamesOwned|NumReviewsGiven|GameID|Recommended|        NewGenre|TopicIndex|GamePlayTime|max_days|\n",
            "+-----------------+-------------+---------------+------+-----------+----------------+----------+------------+--------+\n",
            "|76561197960269579|          430|             34|372350|          1|Action-Adventure|   topic_1|         249|       0|\n",
            "|76561197960269579|          430|             34|396750|          1|Action-Adventure|   topic_4|        1265|     263|\n",
            "|76561197960269579|          430|             34|666140|          1|             RPG|   topic_0|        3377|     957|\n",
            "|76561197960272407|         1851|             25| 31290|          1|Action-Adventure|   topic_5|         158|   15320|\n",
            "|76561197960272407|         1852|             25|205630|          1|      Simulation|   topic_3|           0|       0|\n",
            "|76561197960272423|          412|             16|284160|          1|      Simulation|   topic_4|        6512|     182|\n",
            "|76561197960272423|          412|             16|657200|          1|      Simulation|   topic_0|         308|       0|\n",
            "|76561197960272973|          391|              6|535930|          1|      Simulation|   topic_3|         998|       0|\n",
            "|76561197960274794|          746|              5| 29800|          0|Action-Adventure|   topic_3|         520|       0|\n",
            "|76561197960274794|          746|              5|500810|          1|             RPG|   topic_4|        8585|    1587|\n",
            "+-----------------+-------------+---------------+------+-----------+----------------+----------+------------+--------+\n",
            "only showing top 10 rows\n",
            "\n"
          ],
          "name": "stdout"
        }
      ]
    },
    {
      "cell_type": "code",
      "metadata": {
        "colab_type": "code",
        "id": "ehCRpWrmwUZQ",
        "outputId": "1d0c3052-f13f-4c8a-f0b3-6538e17e9472",
        "colab": {
          "base_uri": "https://localhost:8080/",
          "height": 277
        }
      },
      "source": [
        "# create user's genre profiles: group by user and genre, calculate the percentage of playtime for each genre\n",
        "# PlayTimePercent = (user's playtime spent on this genre of games) / (total playtime by this user)\n",
        "# for example, user A spent 50% time in playing Action-Adventure games, 50% on RPG, and 0 on simulation, \n",
        "#then user A's profile will be 50% Action-Adventure, 50% RPG and 0% Simulation\n",
        "\n",
        "genre_aggregation_tbl = spark.sql(\"select SteamID, NumGamesOwned, NumReviewsGiven, NewGenre, \\\n",
        "                                    round(sum(GamePlayTime)/sum(sum(GamePlayTime)) \\\n",
        "                                            over (partition by SteamID), 3) as PlayTimePercent\\\n",
        "                                   from game_aggregation_tbl \\\n",
        "                                   group by SteamID, NumGamesOwned, NumReviewsGiven, NewGenre \")\n",
        "\n",
        "genre_pivot = genre_aggregation_tbl.groupby(col(\"SteamID\"), col(\"NumGamesOwned\"), col(\"NumReviewsGiven\"))\\\n",
        "                .pivot(\"NewGenre\").max(\"PlayTimePercent\").na.fill(0)\n",
        "\n",
        "genre_pivot.show(10)"
      ],
      "execution_count": 0,
      "outputs": [
        {
          "output_type": "stream",
          "text": [
            "+-----------------+-------------+---------------+----------------+-----+----------+\n",
            "|          SteamID|NumGamesOwned|NumReviewsGiven|Action-Adventure|  RPG|Simulation|\n",
            "+-----------------+-------------+---------------+----------------+-----+----------+\n",
            "|76561197960269579|          430|             34|            0.31| 0.69|       0.0|\n",
            "|76561197960272407|         1851|             25|             1.0|  0.0|       0.0|\n",
            "|76561197960272407|         1852|             25|             0.0|  0.0|       0.0|\n",
            "|76561197960272423|          412|             16|             0.0|  0.0|       1.0|\n",
            "|76561197960272973|          391|              6|             0.0|  0.0|       1.0|\n",
            "|76561197960274794|          746|              5|           0.057|0.943|       0.0|\n",
            "|76561197960275854|          240|              7|             1.0|  0.0|       0.0|\n",
            "|76561197960286046|          522|             12|             1.0|  0.0|       0.0|\n",
            "|76561197960344050|          565|             21|             1.0|  0.0|       0.0|\n",
            "|76561197960355978|          627|             19|           0.067|  0.0|     0.933|\n",
            "+-----------------+-------------+---------------+----------------+-----+----------+\n",
            "only showing top 10 rows\n",
            "\n"
          ],
          "name": "stdout"
        }
      ]
    },
    {
      "cell_type": "code",
      "metadata": {
        "colab_type": "code",
        "id": "ONiUAjVG5mQw",
        "outputId": "893708e4-1b58-46e0-dd7d-7fcceb6b2ba3",
        "colab": {
          "base_uri": "https://localhost:8080/",
          "height": 277
        }
      },
      "source": [
        "# create user's review topic profiles: group by user and major topic index, calculate TopicPercent\n",
        "# TopicPercent = (number of times that reviews within this topic) / (total review times)\n",
        "# for example, if user A gave 3 reviews in total, 1 time about topic_0, 1 time about topic_1 \n",
        "#and 1 time about topic_4, then userA's profile will be 33% topic_0, 33% topic_1, and 33% topic_4\n",
        "\n",
        "tpc_aggregation_tbl = spark.sql(\"select SteamID, NumGamesOwned, NumReviewsGiven, TopicIndex, \\\n",
        "                                    round(count(*)/sum(count(*)) \\\n",
        "                                            over (partition by SteamID), 3) as TopicPercent\\\n",
        "                                 from game_aggregation_tbl \\\n",
        "                                 group by SteamID, NumGamesOwned, NumReviewsGiven, TopicIndex \")\n",
        "\n",
        "tpc_pivot = tpc_aggregation_tbl.groupby(col(\"SteamID\"), col(\"NumGamesOwned\"), col(\"NumReviewsGiven\"))\\\n",
        "                .pivot(\"TopicIndex\").max(\"TopicPercent\").na.fill(0)\n",
        "\n",
        "tpc_pivot.show(10)"
      ],
      "execution_count": 0,
      "outputs": [
        {
          "output_type": "stream",
          "text": [
            "+-----------------+-------------+---------------+-------+-------+-------+-------+-------+-------+\n",
            "|          SteamID|NumGamesOwned|NumReviewsGiven|topic_0|topic_1|topic_2|topic_3|topic_4|topic_5|\n",
            "+-----------------+-------------+---------------+-------+-------+-------+-------+-------+-------+\n",
            "|76561197960269579|          430|             34|  0.333|  0.333|    0.0|    0.0|  0.333|    0.0|\n",
            "|76561197960272407|         1851|             25|    0.0|    0.0|    0.0|    0.0|    0.0|    0.5|\n",
            "|76561197960272407|         1852|             25|    0.0|    0.0|    0.0|    0.5|    0.0|    0.0|\n",
            "|76561197960272423|          412|             16|    0.5|    0.0|    0.0|    0.0|    0.5|    0.0|\n",
            "|76561197960272973|          391|              6|    0.0|    0.0|    0.0|    1.0|    0.0|    0.0|\n",
            "|76561197960274794|          746|              5|    0.0|    0.0|    0.0|    0.5|    0.5|    0.0|\n",
            "|76561197960275854|          240|              7|    0.0|    0.0|    0.0|    1.0|    0.0|    0.0|\n",
            "|76561197960286046|          522|             12|    1.0|    0.0|    0.0|    0.0|    0.0|    0.0|\n",
            "|76561197960344050|          565|             21|    0.0|    0.0|    0.0|    0.0|    1.0|    0.0|\n",
            "|76561197960355978|          627|             19|    1.0|    0.0|    0.0|    0.0|    0.0|    0.0|\n",
            "+-----------------+-------------+---------------+-------+-------+-------+-------+-------+-------+\n",
            "only showing top 10 rows\n",
            "\n"
          ],
          "name": "stdout"
        }
      ]
    },
    {
      "cell_type": "code",
      "metadata": {
        "colab_type": "code",
        "id": "3Srk50llwUZX",
        "outputId": "6af70983-e73f-4ea1-a0a2-0824d5b5694d",
        "colab": {
          "base_uri": "https://localhost:8080/",
          "height": 277
        }
      },
      "source": [
        "# create user's recommended percent and age proxy profile\n",
        "# RecommendedPercent = (recommended times) / (user's total review times)\n",
        "# SteamAgeProxy = (last play time - first appearing last play time) / 7 --> possible weeks stayed with Steam\n",
        "\n",
        "days_sentiment_agg_tbl = spark.sql(\"select distinct SteamID, NumGamesOwned, NumReviewsGiven, \\\n",
        "                                         round(sum(Recommended)/count(Recommended), 3) as RecommendedPercent, \\\n",
        "                                         round(max(max_days)/7,0) as SteamAgeProxy \\\n",
        "                                    from game_aggregation_tbl \\\n",
        "                                    group by SteamID, NumGamesOwned, NumReviewsGiven\")\n",
        "\n",
        "days_sentiment_agg_tbl.show(10)"
      ],
      "execution_count": 0,
      "outputs": [
        {
          "output_type": "stream",
          "text": [
            "+-----------------+-------------+---------------+------------------+-------------+\n",
            "|          SteamID|NumGamesOwned|NumReviewsGiven|RecommendedPercent|SteamAgeProxy|\n",
            "+-----------------+-------------+---------------+------------------+-------------+\n",
            "|76561197960269579|          430|             34|               1.0|        137.0|\n",
            "|76561197960272407|         1851|             25|               1.0|       2189.0|\n",
            "|76561197960272407|         1852|             25|               1.0|          0.0|\n",
            "|76561197960272423|          412|             16|               1.0|         26.0|\n",
            "|76561197960272973|          391|              6|               1.0|          0.0|\n",
            "|76561197960274794|          746|              5|               0.5|        227.0|\n",
            "|76561197960275854|          240|              7|               0.0|          0.0|\n",
            "|76561197960286046|          522|             12|               1.0|          0.0|\n",
            "|76561197960344050|          565|             21|             0.667|        145.0|\n",
            "|76561197960355978|          627|             19|               1.0|         34.0|\n",
            "+-----------------+-------------+---------------+------------------+-------------+\n",
            "only showing top 10 rows\n",
            "\n"
          ],
          "name": "stdout"
        }
      ]
    },
    {
      "cell_type": "code",
      "metadata": {
        "colab_type": "code",
        "id": "1DN6qDRPwUZc",
        "outputId": "68d52b91-8fac-4c07-9030-545506c3d789",
        "colab": {
          "base_uri": "https://localhost:8080/",
          "height": 460
        }
      },
      "source": [
        "# join user's genre, topic, and recommended & age profiles in one table\n",
        "\n",
        "t1 = genre_pivot.alias('t1')\n",
        "t2 = days_sentiment_agg_tbl.alias('t2')\n",
        "t3 = tpc_pivot.alias('t3')\n",
        "\n",
        "user_profile = t1.join(t2, (t1.SteamID==t2.SteamID) & (t1.NumGamesOwned==t2.NumGamesOwned) \\\n",
        "                & (t1.NumReviewsGiven==t2.NumReviewsGiven), 'inner') \\\n",
        "                .join(t3,  (t1.SteamID==t3.SteamID) & (t1.NumGamesOwned==t3.NumGamesOwned) \\\n",
        "                & (t1.NumReviewsGiven==t3.NumReviewsGiven), 'inner') \\\n",
        "                .select(t1[\"*\"],t2[\"RecommendedPercent\"],t2[\"SteamAgeProxy\"], t3[\"topic_0\"], \n",
        "                        t3[\"topic_1\"], t3[\"topic_2\"], t3[\"topic_3\"], t3[\"topic_4\"], t3[\"topic_5\"]).na.fill(0)\n",
        "\n",
        "user_profile.show()"
      ],
      "execution_count": 0,
      "outputs": [
        {
          "output_type": "stream",
          "text": [
            "+-----------------+-------------+---------------+----------------+-----+----------+------------------+-------------+-------+-------+-------+-------+-------+-------+\n",
            "|          SteamID|NumGamesOwned|NumReviewsGiven|Action-Adventure|  RPG|Simulation|RecommendedPercent|SteamAgeProxy|topic_0|topic_1|topic_2|topic_3|topic_4|topic_5|\n",
            "+-----------------+-------------+---------------+----------------+-----+----------+------------------+-------------+-------+-------+-------+-------+-------+-------+\n",
            "|76561197960295681|          309|              4|             1.0|  0.0|       0.0|               1.0|          0.0|    1.0|    0.0|    0.0|    0.0|    0.0|    0.0|\n",
            "|76561197960312016|           58|              2|             0.0|  0.0|       1.0|               1.0|          0.0|    0.0|    0.0|    0.0|    1.0|    0.0|    0.0|\n",
            "|76561197960331413|          391|              4|             0.0|  1.0|       0.0|               1.0|          0.0|    1.0|    0.0|    0.0|    0.0|    0.0|    0.0|\n",
            "|76561197960331786|         1129|             28|           0.788|0.212|       0.0|               1.0|         17.0|    1.0|    0.0|    0.0|    0.0|    0.0|    0.0|\n",
            "|76561197960359040|          315|              7|             1.0|  0.0|       0.0|               1.0|          0.0|    0.0|    0.0|    0.0|    0.0|    1.0|    0.0|\n",
            "|76561197960370005|          154|              1|             1.0|  0.0|       0.0|               0.0|          0.0|    0.0|    1.0|    0.0|    0.0|    0.0|    0.0|\n",
            "|76561197960389353|         1026|             51|           0.467|0.515|     0.018|             0.786|       2619.0|  0.143|    0.0|  0.071|  0.429|  0.071|  0.286|\n",
            "|76561197960409453|          552|              5|             1.0|  0.0|       0.0|               1.0|        261.0|    1.0|    0.0|    0.0|    0.0|    0.0|    0.0|\n",
            "|76561197960433625|         1017|              5|             1.0|  0.0|       0.0|               1.0|          0.0|    1.0|    0.0|    0.0|    0.0|    0.0|    0.0|\n",
            "|76561197960438384|          352|              5|             1.0|  0.0|       0.0|               1.0|          0.0|    1.0|    0.0|    0.0|    0.0|    0.0|    0.0|\n",
            "|76561197960446373|          543|              2|             0.0|  1.0|       0.0|               1.0|          0.0|    0.0|    0.0|    0.0|    0.0|    1.0|    0.0|\n",
            "|76561197960459273|          793|              7|           0.252|0.748|       0.0|               0.0|         10.0|    0.0|    0.0|    0.0|    0.5|    0.0|    0.5|\n",
            "|76561197960521661|          980|             10|             1.0|  0.0|       0.0|               1.0|        118.0|    0.0|    0.5|    0.0|    0.5|    0.0|    0.0|\n",
            "|76561197960543469|          263|              1|             1.0|  0.0|       0.0|               0.0|          0.0|    0.0|    0.0|    1.0|    0.0|    0.0|    0.0|\n",
            "|76561197960566229|          229|              5|           0.374|0.626|       0.0|               1.0|         57.0|    0.5|    0.0|    0.0|    0.0|    0.0|    0.5|\n",
            "|76561197960646352|          178|              1|             1.0|  0.0|       0.0|               1.0|          0.0|    0.0|    0.0|    0.0|    0.0|    1.0|    0.0|\n",
            "|76561197960690083|          103|              1|             1.0|  0.0|       0.0|               1.0|          0.0|    1.0|    0.0|    0.0|    0.0|    0.0|    0.0|\n",
            "|76561197960723156|          223|              8|             0.0|  1.0|       0.0|               1.0|          0.0|    1.0|    0.0|    0.0|    0.0|    0.0|    0.0|\n",
            "|76561197960759629|          205|              2|             0.0|  1.0|       0.0|               1.0|          0.0|    1.0|    0.0|    0.0|    0.0|    0.0|    0.0|\n",
            "|76561197960790283|          214|              2|             1.0|  0.0|       0.0|               1.0|          0.0|    0.0|    0.0|    1.0|    0.0|    0.0|    0.0|\n",
            "+-----------------+-------------+---------------+----------------+-----+----------+------------------+-------------+-------+-------+-------+-------+-------+-------+\n",
            "only showing top 20 rows\n",
            "\n"
          ],
          "name": "stdout"
        }
      ]
    },
    {
      "cell_type": "code",
      "metadata": {
        "colab_type": "code",
        "id": "Telt-N_bwUYZ",
        "outputId": "a56909d3-4139-4cf9-b586-8ccd21ee4988",
        "colab": {
          "base_uri": "https://localhost:8080/",
          "height": 326
        }
      },
      "source": [
        "# Standardization for NumGamesOwned, NumReviewsGiven and SteamAgeProxy\n",
        "\n",
        "unlist = F.udf(lambda x: round(float(list(x)[0]),3), DoubleType())\n",
        "\n",
        "for i in [\"NumGamesOwned\", \"NumReviewsGiven\", \"SteamAgeProxy\"]:\n",
        "    # VectorAssembler Transformation - Converting column to vector type\n",
        "    assembler = VectorAssembler(inputCols=[i],outputCol=i+\"_Vect\")\n",
        "\n",
        "    # StandardScaler Transformation\n",
        "    scaler = StandardScaler(inputCol=i+\"_Vect\", outputCol=i+\"_Scaled\")\n",
        "\n",
        "    # Pipeline of VectorAssembler and StandardScaler\n",
        "    pipeline = Pipeline(stages=[assembler, scaler])\n",
        "\n",
        "    # Fitting pipeline on dataframe\n",
        "    user_profile = pipeline.fit(user_profile).transform(user_profile)\\\n",
        "                .withColumn(i+\"_Scaled\", unlist(i+\"_Scaled\")).drop(i+\"_Vect\")\n",
        "\n",
        "user_profile.printSchema()"
      ],
      "execution_count": 0,
      "outputs": [
        {
          "output_type": "stream",
          "text": [
            "root\n",
            " |-- SteamID: long (nullable = true)\n",
            " |-- NumGamesOwned: integer (nullable = true)\n",
            " |-- NumReviewsGiven: integer (nullable = true)\n",
            " |-- Action-Adventure: double (nullable = false)\n",
            " |-- RPG: double (nullable = false)\n",
            " |-- Simulation: double (nullable = false)\n",
            " |-- RecommendedPercent: double (nullable = false)\n",
            " |-- SteamAgeProxy: double (nullable = false)\n",
            " |-- topic_0: double (nullable = false)\n",
            " |-- topic_1: double (nullable = false)\n",
            " |-- topic_2: double (nullable = false)\n",
            " |-- topic_3: double (nullable = false)\n",
            " |-- topic_4: double (nullable = false)\n",
            " |-- topic_5: double (nullable = false)\n",
            " |-- NumGamesOwned_Scaled: double (nullable = true)\n",
            " |-- NumReviewsGiven_Scaled: double (nullable = true)\n",
            " |-- SteamAgeProxy_Scaled: double (nullable = true)\n",
            "\n"
          ],
          "name": "stdout"
        }
      ]
    },
    {
      "cell_type": "code",
      "metadata": {
        "colab_type": "code",
        "id": "Tv2BkUq7C1bI",
        "colab": {}
      },
      "source": [
        "user_profile.toPandas().to_csv(\"/content/drive/My Drive/steam/Jun4th analysis/user_profile.csv\", index=False)"
      ],
      "execution_count": 0,
      "outputs": []
    },
    {
      "cell_type": "code",
      "metadata": {
        "colab_type": "code",
        "id": "EeOX9go1LLOh",
        "outputId": "218c27a9-3cd0-42f0-86c1-7126ce8b5d79",
        "colab": {
          "base_uri": "https://localhost:8080/",
          "height": 297
        }
      },
      "source": [
        "user_profile_scaled = user_profile.select(\"SteamID\", \"NumGamesOwned_Scaled\", \"NumReviewsGiven_Scaled\",\n",
        "                          \"Action-Adventure\", \"RPG\", \"Simulation\", \"RecommendedPercent\", \"SteamAgeProxy_Scaled\", \n",
        "                          \"topic_0\", \"topic_1\", \"topic_2\", \"topic_3\", \"topic_4\", \"topic_5\")\n",
        "user_profile_scaled.show(10)"
      ],
      "execution_count": 0,
      "outputs": [
        {
          "output_type": "stream",
          "text": [
            "+-----------------+--------------------+----------------------+----------------+-----+----------+------------------+--------------------+-------+-------+-------+-------+-------+-------+\n",
            "|          SteamID|NumGamesOwned_Scaled|NumReviewsGiven_Scaled|Action-Adventure|  RPG|Simulation|RecommendedPercent|SteamAgeProxy_Scaled|topic_0|topic_1|topic_2|topic_3|topic_4|topic_5|\n",
            "+-----------------+--------------------+----------------------+----------------+-----+----------+------------------+--------------------+-------+-------+-------+-------+-------+-------+\n",
            "|76561197960295681|               0.774|                 0.176|             1.0|  0.0|       0.0|               1.0|                 0.0|    1.0|    0.0|    0.0|    0.0|    0.0|    0.0|\n",
            "|76561197960312016|               0.145|                 0.088|             0.0|  0.0|       1.0|               1.0|                 0.0|    0.0|    0.0|    0.0|    1.0|    0.0|    0.0|\n",
            "|76561197960331413|               0.979|                 0.176|             0.0|  1.0|       0.0|               1.0|                 0.0|    1.0|    0.0|    0.0|    0.0|    0.0|    0.0|\n",
            "|76561197960331786|               2.827|                  1.23|           0.788|0.212|       0.0|               1.0|               0.047|    1.0|    0.0|    0.0|    0.0|    0.0|    0.0|\n",
            "|76561197960359040|               0.789|                 0.307|             1.0|  0.0|       0.0|               1.0|                 0.0|    0.0|    0.0|    0.0|    0.0|    1.0|    0.0|\n",
            "|76561197960370005|               0.386|                 0.044|             1.0|  0.0|       0.0|               0.0|                 0.0|    0.0|    1.0|    0.0|    0.0|    0.0|    0.0|\n",
            "|76561197960389353|               2.569|                  2.24|           0.467|0.515|     0.018|             0.786|               7.223|  0.143|    0.0|  0.071|  0.429|  0.071|  0.286|\n",
            "|76561197960409453|               1.382|                  0.22|             1.0|  0.0|       0.0|               1.0|                0.72|    1.0|    0.0|    0.0|    0.0|    0.0|    0.0|\n",
            "|76561197960433625|               2.547|                  0.22|             1.0|  0.0|       0.0|               1.0|                 0.0|    1.0|    0.0|    0.0|    0.0|    0.0|    0.0|\n",
            "|76561197960438384|               0.881|                  0.22|             1.0|  0.0|       0.0|               1.0|                 0.0|    1.0|    0.0|    0.0|    0.0|    0.0|    0.0|\n",
            "+-----------------+--------------------+----------------------+----------------+-----+----------+------------------+--------------------+-------+-------+-------+-------+-------+-------+\n",
            "only showing top 10 rows\n",
            "\n"
          ],
          "name": "stdout"
        }
      ]
    },
    {
      "cell_type": "code",
      "metadata": {
        "colab_type": "code",
        "id": "Bb1SicOuLLZT",
        "colab": {}
      },
      "source": [
        "user_profile_scaled.toPandas().to_csv(\"/content/drive/My Drive/steam/Jun4th analysis/user_profile_scaled.csv\", index=False)"
      ],
      "execution_count": 0,
      "outputs": []
    },
    {
      "cell_type": "markdown",
      "metadata": {
        "id": "maD8zoNKN2OI",
        "colab_type": "text"
      },
      "source": [
        "### Step 2: Navigate users who have playing records in 2019 and 2020"
      ]
    },
    {
      "cell_type": "code",
      "metadata": {
        "id": "chGUEA21QWXd",
        "colab_type": "code",
        "outputId": "b558f562-95b3-4a65-b99c-52616a30e824",
        "colab": {
          "base_uri": "https://localhost:8080/",
          "height": 293
        }
      },
      "source": [
        "# find out players who have LastPlayTime records in 2019 or 2020 or both\n",
        "\n",
        "PlayTime_tbl = spark.sql(\"select distinct SteamID, \\\n",
        "                                       year(LastPlayTime) as LastPlayYear, \\\n",
        "                                       sum(PlayTime) over \\\n",
        "                                          (partition by SteamID) as tot_playtime, \\\n",
        "                                       sum(count(*)) over \\\n",
        "                                          (partition by SteamID, \\\n",
        "                                            year(LastPlayTime)) as user_years \\\n",
        "                                from days_tbl \\\n",
        "                                group by SteamID, year(LastPlayTime), PlayTime \")\n",
        "\n",
        "PlayTime_tbl.createOrReplaceTempView(\"PlayTime_tbl\")\n",
        "\n",
        "avgPlayTime_tbl = spark.sql(\"select distinct SteamID, LastPlayYear, \\\n",
        "                                    tot_playtime/user_years as avg_playtime \\\n",
        "                             from PlayTime_tbl\")\n",
        "\n",
        "recentPlayTime_tbl = avgPlayTime_tbl.filter(\"LastPlayYear>=2019\") \n",
        "recentPlayTime_tbl.createOrReplaceTempView(\"recentPlayTime_tbl\")\n",
        "\n",
        "print(recentPlayTime_tbl.count())\n",
        "recentPlayTime_tbl.show(10)"
      ],
      "execution_count": 0,
      "outputs": [
        {
          "output_type": "stream",
          "text": [
            "745793\n",
            "+-----------------+------------+------------+\n",
            "|          SteamID|LastPlayYear|avg_playtime|\n",
            "+-----------------+------------+------------+\n",
            "|76561197960269579|        2020|      4891.0|\n",
            "|76561197960272423|        2019|      6820.0|\n",
            "|76561197960272423|        2020|      6820.0|\n",
            "|76561197960274794|        2019|      9105.0|\n",
            "|76561197960410177|        2019|      9137.0|\n",
            "|76561197960410177|        2020|      9137.0|\n",
            "|76561197960511389|        2020|     16133.0|\n",
            "|76561197960518825|        2019|       886.0|\n",
            "|76561197960549082|        2020|      1380.0|\n",
            "|76561197960549558|        2020|      6767.0|\n",
            "+-----------------+------------+------------+\n",
            "only showing top 10 rows\n",
            "\n"
          ],
          "name": "stdout"
        }
      ]
    },
    {
      "cell_type": "markdown",
      "metadata": {
        "id": "qFspqLaaOIR6",
        "colab_type": "text"
      },
      "source": [
        "### Step 3: Find out active users "
      ]
    },
    {
      "cell_type": "code",
      "metadata": {
        "id": "UaI2lR6xqBfu",
        "colab_type": "code",
        "outputId": "f59420e0-b27c-4469-fa22-51444c4157f1",
        "colab": {
          "base_uri": "https://localhost:8080/",
          "height": 293
        }
      },
      "source": [
        "# define active users \n",
        "# 1. have play records in both 2019 and 2020\n",
        "# 2. user's average PlayTime is above the overall average\n",
        "\n",
        "df_1920_user = spark.sql(\"select distinct SteamID, LastPlayYear, \\\n",
        "                                avg_playtime \\\n",
        "                          from recentPlayTime_tbl \\\n",
        "                          where LastPlayYear=2019 \\\n",
        "                                and SteamID in (select distinct SteamID \\\n",
        "                                                from userBehavior_tbl \\\n",
        "                                                where LastPlayYear=2020 ) \")\n",
        "\n",
        "df_1920_user.createOrReplaceTempView(\"df_1920_user\")\n",
        "\n",
        "df_active_user = spark.sql(\"select SteamID \\\n",
        "                            from df_1920_user \\\n",
        "                            group by SteamID \\\n",
        "                            having avg(avg_playtime) > \\\n",
        "                                    (select avg(avg_playtime) \\\n",
        "                                    from df_1920_user) \")\n",
        "\n",
        "print(df_active_user.count())\n",
        "df_active_user.show(10)"
      ],
      "execution_count": 0,
      "outputs": [
        {
          "output_type": "stream",
          "text": [
            "13880\n",
            "+-----------------+\n",
            "|          SteamID|\n",
            "+-----------------+\n",
            "|76561197960410177|\n",
            "|76561197962366215|\n",
            "|76561197965374380|\n",
            "|76561197968907104|\n",
            "|76561197970308077|\n",
            "|76561197970717756|\n",
            "|76561197976128981|\n",
            "|76561197978064772|\n",
            "|76561197980492503|\n",
            "|76561197981732215|\n",
            "+-----------------+\n",
            "only showing top 10 rows\n",
            "\n"
          ],
          "name": "stdout"
        }
      ]
    },
    {
      "cell_type": "code",
      "metadata": {
        "id": "5JyHgt_gOSW7",
        "colab_type": "code",
        "colab": {}
      },
      "source": [
        "df_active_user.toPandas().to_csv(\"/content/drive/My Drive/steam/Jun4th analysis/df_active_user.csv\", index=False)"
      ],
      "execution_count": 0,
      "outputs": []
    },
    {
      "cell_type": "markdown",
      "metadata": {
        "id": "iNMWw8JmbvYb",
        "colab_type": "text"
      },
      "source": [
        "#### Step 3.1 Active user's profile"
      ]
    },
    {
      "cell_type": "code",
      "metadata": {
        "id": "8fhOblW9OSpA",
        "colab_type": "code",
        "colab": {}
      },
      "source": [
        "user_profile_scaled = spark.read.csv(\"/content/drive/My Drive/steam/Jun4th analysis/user_profile_scaled.csv\", \n",
        "                                inferSchema = True, header = True) \n",
        "\n",
        "df_active_user = spark.read.csv(\"/content/drive/My Drive/steam/Jun4th analysis/df_active_user.csv\", \n",
        "                                inferSchema = True, header = True) "
      ],
      "execution_count": 0,
      "outputs": []
    },
    {
      "cell_type": "code",
      "metadata": {
        "id": "D0qQHSRCTej0",
        "colab_type": "code",
        "outputId": "75b0cd0b-41dc-41fc-f87f-199ff95f4c08",
        "colab": {
          "base_uri": "https://localhost:8080/",
          "height": 313
        }
      },
      "source": [
        "# get active user's SteamID list \n",
        "active_user_lst = df_active_user.select(\"SteamID\").rdd.flatMap(lambda x: x).collect()\n",
        "\n",
        "# filter out active user from user_profile_scaled \n",
        "active_user_profile = user_profile_scaled.where(F.col(\"SteamID\").isin(active_user_lst)).distinct()\n",
        "print(active_user_profile.count())\n",
        "active_user_profile.show(10)"
      ],
      "execution_count": 0,
      "outputs": [
        {
          "output_type": "stream",
          "text": [
            "14567\n",
            "+-----------------+--------------------+----------------------+----------------+-----+----------+------------------+--------------------+-------+-------+-------+-------+-------+-------+\n",
            "|          SteamID|NumGamesOwned_Scaled|NumReviewsGiven_Scaled|Action-Adventure|  RPG|Simulation|RecommendedPercent|SteamAgeProxy_Scaled|topic_0|topic_1|topic_2|topic_3|topic_4|topic_5|\n",
            "+-----------------+--------------------+----------------------+----------------+-----+----------+------------------+--------------------+-------+-------+-------+-------+-------+-------+\n",
            "|76561197972392543|               2.171|                 3.733|           0.305|0.685|      0.01|             0.882|               7.226|  0.176|  0.294|  0.059|  0.235|  0.118|  0.118|\n",
            "|76561197965858751|               0.621|                 1.889|             0.0|  1.0|       0.0|               1.0|               0.279|   0.75|    0.0|    0.0|    0.0|   0.25|    0.0|\n",
            "|76561197997096499|               4.467|                 0.264|             0.0|0.026|     0.974|               1.0|               0.124|    0.0|    0.0|    0.0|    0.5|    0.5|    0.0|\n",
            "|76561198081211714|               0.175|                 0.439|           0.001|0.999|       0.0|               1.0|               0.309|    0.0|    0.0|    0.0|    1.0|    0.0|    0.0|\n",
            "|76561198422182909|               0.048|                 0.088|             0.0|  0.0|       1.0|               1.0|               0.055|    1.0|    0.0|    0.0|    0.0|    0.0|    0.0|\n",
            "|76561198007263255|               0.476|                  1.23|           0.085|0.808|     0.107|               1.0|               0.077|    0.0|   0.25|    0.0|   0.25|    0.5|    0.0|\n",
            "|76561198063427333|               0.145|                 0.351|             0.0|0.265|       0.0|               1.0|                 0.0|    0.5|    0.0|    0.0|    0.0|    0.0|    0.0|\n",
            "|76561198004011207|               0.358|                 2.284|           0.059|0.704|     0.237|             0.833|               0.245|    0.0|    0.0|    0.0|    0.5|  0.167|  0.333|\n",
            "|76561197994088414|                 1.6|                 0.132|             0.0|0.698|     0.302|               1.0|               0.135|    0.0|    0.5|    0.0|    0.5|    0.0|    0.0|\n",
            "|76561197964171366|               1.335|                 0.176|            0.12| 0.88|       0.0|               1.0|               0.331|  0.333|    0.0|  0.333|    0.0|    0.0|  0.333|\n",
            "+-----------------+--------------------+----------------------+----------------+-----+----------+------------------+--------------------+-------+-------+-------+-------+-------+-------+\n",
            "only showing top 10 rows\n",
            "\n"
          ],
          "name": "stdout"
        }
      ]
    },
    {
      "cell_type": "code",
      "metadata": {
        "id": "fp1TnzgFq_Sk",
        "colab_type": "code",
        "colab": {}
      },
      "source": [
        "active_user_profile.toPandas().to_csv(\"/content/drive/My Drive/steam/Jun4th analysis/active_user_profile.csv\", index=False)"
      ],
      "execution_count": 0,
      "outputs": []
    },
    {
      "cell_type": "markdown",
      "metadata": {
        "id": "bqWTe53wRkWQ",
        "colab_type": "text"
      },
      "source": [
        "#### Step 3.2 Active users - Devoter"
      ]
    },
    {
      "cell_type": "markdown",
      "metadata": {
        "id": "0L1DhfxESN3Y",
        "colab_type": "text"
      },
      "source": [
        "Users who only like games in certain genres. Filter by Play time >= 70% in any one of \"Action-Adventure\", \"RPG\", \"Simulation\" columns"
      ]
    },
    {
      "cell_type": "code",
      "metadata": {
        "id": "_mnfgLF3TeuN",
        "colab_type": "code",
        "outputId": "f4776696-1b3f-410f-eb3b-d0bb5653785d",
        "colab": {
          "base_uri": "https://localhost:8080/",
          "height": 313
        }
      },
      "source": [
        "active_devoter = active_user_profile.filter( (col(\"Action-Adventure\")>=0.7) \\\n",
        "                                              | (col(\"RPG\")>=0.7) \\\n",
        "                                              | (col(\"Simulation\")>=0.7) )\n",
        "\n",
        "print(active_devoter.count())\n",
        "active_devoter.show(10)"
      ],
      "execution_count": 0,
      "outputs": [
        {
          "output_type": "stream",
          "text": [
            "11229\n",
            "+-----------------+--------------------+----------------------+----------------+-----+----------+------------------+--------------------+-------+-------+-------+-------+-------+-------+\n",
            "|          SteamID|NumGamesOwned_Scaled|NumReviewsGiven_Scaled|Action-Adventure|  RPG|Simulation|RecommendedPercent|SteamAgeProxy_Scaled|topic_0|topic_1|topic_2|topic_3|topic_4|topic_5|\n",
            "+-----------------+--------------------+----------------------+----------------+-----+----------+------------------+--------------------+-------+-------+-------+-------+-------+-------+\n",
            "|76561197965858751|               0.621|                 1.889|             0.0|  1.0|       0.0|               1.0|               0.279|   0.75|    0.0|    0.0|    0.0|   0.25|    0.0|\n",
            "|76561197997096499|               4.467|                 0.264|             0.0|0.026|     0.974|               1.0|               0.124|    0.0|    0.0|    0.0|    0.5|    0.5|    0.0|\n",
            "|76561198081211714|               0.175|                 0.439|           0.001|0.999|       0.0|               1.0|               0.309|    0.0|    0.0|    0.0|    1.0|    0.0|    0.0|\n",
            "|76561198422182909|               0.048|                 0.088|             0.0|  0.0|       1.0|               1.0|               0.055|    1.0|    0.0|    0.0|    0.0|    0.0|    0.0|\n",
            "|76561198007263255|               0.476|                  1.23|           0.085|0.808|     0.107|               1.0|               0.077|    0.0|   0.25|    0.0|   0.25|    0.5|    0.0|\n",
            "|76561198004011207|               0.358|                 2.284|           0.059|0.704|     0.237|             0.833|               0.245|    0.0|    0.0|    0.0|    0.5|  0.167|  0.333|\n",
            "|76561197964171366|               1.335|                 0.176|            0.12| 0.88|       0.0|               1.0|               0.331|  0.333|    0.0|  0.333|    0.0|    0.0|  0.333|\n",
            "|76561198003924831|               0.351|                 0.351|           0.954|0.046|       0.0|               1.0|               0.185|    1.0|    0.0|    0.0|    0.0|    0.0|    0.0|\n",
            "|76561198054717668|               0.836|                 0.351|             0.0|  0.0|       1.0|               1.0|               0.121|    0.0|    0.0|    0.5|    0.5|    0.0|    0.0|\n",
            "|76561197993654902|               0.999|                 0.439|             0.0|  1.0|       0.0|               1.0|               0.044|    1.0|    0.0|    0.0|    0.0|    0.0|    0.0|\n",
            "+-----------------+--------------------+----------------------+----------------+-----+----------+------------------+--------------------+-------+-------+-------+-------+-------+-------+\n",
            "only showing top 10 rows\n",
            "\n"
          ],
          "name": "stdout"
        }
      ]
    },
    {
      "cell_type": "code",
      "metadata": {
        "id": "N3OOCZKur1O8",
        "colab_type": "code",
        "colab": {}
      },
      "source": [
        "active_devoter.toPandas().to_csv(\"/content/drive/My Drive/steam/Jun4th analysis/active_devoter.csv\", index=False)"
      ],
      "execution_count": 0,
      "outputs": []
    },
    {
      "cell_type": "markdown",
      "metadata": {
        "id": "BZppJ-IIRvAN",
        "colab_type": "text"
      },
      "source": [
        "#### Step 3.3 Active users - Explorer "
      ]
    },
    {
      "cell_type": "markdown",
      "metadata": {
        "id": "Op8xhpqbS5fM",
        "colab_type": "text"
      },
      "source": [
        "Users who would like to explore different genres of games"
      ]
    },
    {
      "cell_type": "code",
      "metadata": {
        "id": "m-11NZclS6Fh",
        "colab_type": "code",
        "outputId": "9cc975ef-ab12-4b4c-e42e-ed70a790c40f",
        "colab": {
          "base_uri": "https://localhost:8080/",
          "height": 313
        }
      },
      "source": [
        "active_explorer = active_user_profile.exceptAll(active_devoter)\n",
        "print(active_explorer.count())\n",
        "active_explorer.show(10)"
      ],
      "execution_count": 0,
      "outputs": [
        {
          "output_type": "stream",
          "text": [
            "3338\n",
            "+-----------------+--------------------+----------------------+----------------+-----+----------+------------------+--------------------+-------+-------+-------+-------+-------+-------+\n",
            "|          SteamID|NumGamesOwned_Scaled|NumReviewsGiven_Scaled|Action-Adventure|  RPG|Simulation|RecommendedPercent|SteamAgeProxy_Scaled|topic_0|topic_1|topic_2|topic_3|topic_4|topic_5|\n",
            "+-----------------+--------------------+----------------------+----------------+-----+----------+------------------+--------------------+-------+-------+-------+-------+-------+-------+\n",
            "|76561198009021982|               8.146|                 1.933|           0.217|0.504|     0.278|               1.0|               0.143|    0.0|    0.0|    0.0|  0.667|    0.0|  0.333|\n",
            "|76561198255100641|                0.22|                 0.483|           0.509|  0.0|     0.491|               1.0|               0.116|    0.5|    0.0|    0.0|    0.0|    0.5|    0.0|\n",
            "|76561198145634215|               0.133|                 0.835|           0.023|  0.0|       0.0|               1.0|                 0.0|    0.0|  0.333|    0.0|    0.0|    0.0|    0.0|\n",
            "|76561197972681283|               0.649|                 1.142|           0.675|0.325|       0.0|             0.833|               0.124|  0.333|  0.167|    0.0|  0.333|  0.167|    0.0|\n",
            "|76561198376110107|               0.318|                  0.22|             0.0|  0.0|     0.003|               1.0|                 0.0|    0.5|    0.0|    0.0|    0.0|    0.0|    0.0|\n",
            "|76561198862447192|               2.194|                 6.325|           0.068|  0.0|       0.0|              0.75|               7.212|  0.036|  0.071|    0.0|    0.0|  0.036|    0.0|\n",
            "|76561198007868039|                0.28|                 0.659|           0.548|0.452|       0.0|              0.75|               0.317|   0.25|    0.5|    0.0|   0.25|    0.0|    0.0|\n",
            "|76561198286357207|               0.145|                 0.307|             0.0|0.492|     0.508|               1.0|               0.094|  0.333|    0.0|    0.0|  0.333|  0.333|    0.0|\n",
            "|76561197998775912|               1.996|                 1.493|           0.537|0.311|       0.0|               1.0|               0.248|   0.25|    0.0|    0.0|    0.0|    0.0|    0.5|\n",
            "|76561198136232839|               0.789|                 0.703|           0.372|0.628|       0.0|               1.0|               0.091|    0.0|    0.0|    0.0|    0.5|    0.5|    0.0|\n",
            "+-----------------+--------------------+----------------------+----------------+-----+----------+------------------+--------------------+-------+-------+-------+-------+-------+-------+\n",
            "only showing top 10 rows\n",
            "\n"
          ],
          "name": "stdout"
        }
      ]
    },
    {
      "cell_type": "code",
      "metadata": {
        "id": "L8X0EaMyrvK2",
        "colab_type": "code",
        "colab": {}
      },
      "source": [
        "active_explorer.toPandas().to_csv(\"/content/drive/My Drive/steam/Jun4th analysis/active_explorer.csv\", index=False)"
      ],
      "execution_count": 0,
      "outputs": []
    },
    {
      "cell_type": "markdown",
      "metadata": {
        "id": "NuuuzBQ2OOAv",
        "colab_type": "text"
      },
      "source": [
        "### Step 4: Find out inactive users"
      ]
    },
    {
      "cell_type": "code",
      "metadata": {
        "id": "-6yhSZYbSuoB",
        "colab_type": "code",
        "outputId": "d1b74223-0a5d-4c13-bbc3-f0b04a171f8b",
        "colab": {
          "base_uri": "https://localhost:8080/",
          "height": 456
        }
      },
      "source": [
        "# define recently inactive users by two filters: \n",
        "# behavior: these users are active in 2019 but tend to churn in 2020\n",
        "# 1. most recent LastPlayTime is in 2019 and no play records in 2020\n",
        "# 2. user's average PlayTime is above the average\n",
        "\n",
        "no_active = recentPlayTime_tbl.where(F.col(\"SteamID\").isin(active_user_lst)==False).distinct()\n",
        "df_19_user = no_active.filter(F.col(\"LastPlayYear\")==2019)\\\n",
        "                      .select(\"SteamID\", \"LastPlayYear\", \"avg_playtime\")\\\n",
        "                      .distinct()\n",
        "\n",
        "df_19_user.createOrReplaceTempView(\"df_19_user\")\n",
        "\n",
        "df_inactive_user = spark.sql(\"select SteamID \\\n",
        "                            from df_19_user \\\n",
        "                            group by SteamID \\\n",
        "                            having avg(avg_playtime) > \\\n",
        "                                    (select avg(avg_playtime) \\\n",
        "                                    from df_19_user) \")\n",
        "\n",
        "print(df_inactive_user.count())\n",
        "df_inactive_user.show()"
      ],
      "execution_count": 0,
      "outputs": [
        {
          "output_type": "stream",
          "text": [
            "71628\n",
            "+-----------------+\n",
            "|          SteamID|\n",
            "+-----------------+\n",
            "|76561197960272423|\n",
            "|76561197960274794|\n",
            "|76561197961417773|\n",
            "|76561197961461747|\n",
            "|76561197961725268|\n",
            "|76561197964866568|\n",
            "|76561197965863049|\n",
            "|76561197966057317|\n",
            "|76561197966520926|\n",
            "|76561197967269021|\n",
            "|76561197968315188|\n",
            "|76561197969236305|\n",
            "|76561197969594183|\n",
            "|76561197970388715|\n",
            "|76561197970651248|\n",
            "|76561197971083344|\n",
            "|76561197971284864|\n",
            "|76561197971292552|\n",
            "|76561197971348291|\n",
            "|76561197972636494|\n",
            "+-----------------+\n",
            "only showing top 20 rows\n",
            "\n"
          ],
          "name": "stdout"
        }
      ]
    },
    {
      "cell_type": "code",
      "metadata": {
        "id": "pJTwfxJPXKbq",
        "colab_type": "code",
        "colab": {}
      },
      "source": [
        "df_inactive_user.toPandas().to_csv(\"/content/drive/My Drive/steam/Jun4th analysis/df_inactive_user.csv\", index=False)"
      ],
      "execution_count": 0,
      "outputs": []
    },
    {
      "cell_type": "markdown",
      "metadata": {
        "id": "HoUW7wbUdKgW",
        "colab_type": "text"
      },
      "source": [
        "#### Step 4.1 Inactive user's profile"
      ]
    },
    {
      "cell_type": "code",
      "metadata": {
        "id": "tZLFEZjtdRJP",
        "colab_type": "code",
        "colab": {}
      },
      "source": [
        "df_inactive_user = spark.read.csv(\"/content/drive/My Drive/steam/Jun4th analysis/df_inactive_user.csv\", \n",
        "                                inferSchema = True, header = True) "
      ],
      "execution_count": 0,
      "outputs": []
    },
    {
      "cell_type": "code",
      "metadata": {
        "id": "YMeXjzJodRUe",
        "colab_type": "code",
        "outputId": "c21576f6-9976-4883-f4f5-c8c09f5453b2",
        "colab": {
          "base_uri": "https://localhost:8080/",
          "height": 313
        }
      },
      "source": [
        "inactive_user_lst = df_inactive_user.select(\"SteamID\").rdd.flatMap(lambda x: x).collect()\n",
        "inactive_user_profile = user_profile_scaled.where(F.col(\"SteamID\").isin(inactive_user_lst)).distinct()\n",
        "print(inactive_user_profile.count())\n",
        "inactive_user_profile.show(10)"
      ],
      "execution_count": 0,
      "outputs": [
        {
          "output_type": "stream",
          "text": [
            "73115\n",
            "+-----------------+--------------------+----------------------+----------------+---+----------+------------------+--------------------+-------+-------+-------+-------+-------+-------+\n",
            "|          SteamID|NumGamesOwned_Scaled|NumReviewsGiven_Scaled|Action-Adventure|RPG|Simulation|RecommendedPercent|SteamAgeProxy_Scaled|topic_0|topic_1|topic_2|topic_3|topic_4|topic_5|\n",
            "+-----------------+--------------------+----------------------+----------------+---+----------+------------------+--------------------+-------+-------+-------+-------+-------+-------+\n",
            "|76561198018602392|               0.551|                 0.044|             0.0|1.0|       0.0|               1.0|                 0.0|    0.0|    0.0|    1.0|    0.0|    0.0|    0.0|\n",
            "|76561198016736280|               1.598|                 0.088|             0.0|1.0|       0.0|               1.0|                 0.0|    0.0|    0.0|    1.0|    0.0|    0.0|    0.0|\n",
            "|76561198067323161|                0.22|                 0.044|             0.0|1.0|       0.0|               1.0|                 0.0|    0.0|    0.0|    0.0|    1.0|    0.0|    0.0|\n",
            "|76561197970062407|               10.59|                 0.044|             1.0|0.0|       0.0|               1.0|                 0.0|    0.0|    0.0|    0.0|    1.0|    0.0|    0.0|\n",
            "|76561197993512360|               0.255|                 0.176|             0.0|1.0|       0.0|               1.0|                 0.0|    1.0|    0.0|    0.0|    0.0|    0.0|    0.0|\n",
            "|76561198026098364|               0.301|                 0.132|             0.0|0.0|       1.0|               1.0|               0.008|    0.0|    0.0|    0.0|    0.5|    0.5|    0.0|\n",
            "|76561198082498540|               0.626|                 0.527|             0.0|1.0|       0.0|               1.0|                0.16|    0.5|    0.0|    0.0|    0.0|    0.5|    0.0|\n",
            "|76561198070083619|               1.159|                 0.791|             1.0|0.0|       0.0|              0.75|               0.237|   0.25|    0.5|    0.0|   0.25|    0.0|    0.0|\n",
            "|76561198323166913|               0.188|                 0.088|             0.0|1.0|       0.0|               1.0|                 0.0|    1.0|    0.0|    0.0|    0.0|    0.0|    0.0|\n",
            "|76561198035617044|               0.538|                 0.044|             0.0|1.0|       0.0|               1.0|                 0.0|    0.0|    0.0|    0.0|    1.0|    0.0|    0.0|\n",
            "+-----------------+--------------------+----------------------+----------------+---+----------+------------------+--------------------+-------+-------+-------+-------+-------+-------+\n",
            "only showing top 10 rows\n",
            "\n"
          ],
          "name": "stdout"
        }
      ]
    },
    {
      "cell_type": "code",
      "metadata": {
        "id": "U_MGrZojr6AW",
        "colab_type": "code",
        "colab": {}
      },
      "source": [
        "inactive_user_profile.toPandas().to_csv(\"/content/drive/My Drive/steam/Jun4th analysis/inactive_user_profile.csv\", index=False)"
      ],
      "execution_count": 0,
      "outputs": []
    },
    {
      "cell_type": "markdown",
      "metadata": {
        "id": "f_o6LNZlThbc",
        "colab_type": "text"
      },
      "source": [
        "#### Step 4.2 Inactive users - Devoter"
      ]
    },
    {
      "cell_type": "markdown",
      "metadata": {
        "id": "K3bV7DyvTwxm",
        "colab_type": "text"
      },
      "source": [
        "Users who only like games in certain genres. Filter by Play time >= 70% in any one of \"Action-Adventure\", \"RPG\", \"Simulation\" columns"
      ]
    },
    {
      "cell_type": "code",
      "metadata": {
        "id": "PUg0LAmTNXLi",
        "colab_type": "code",
        "outputId": "339425a4-5d30-4c2f-dfa7-90ab47646abd",
        "colab": {
          "base_uri": "https://localhost:8080/",
          "height": 313
        }
      },
      "source": [
        "inactive_devoter = inactive_user_profile.filter( (col(\"Action-Adventure\")>=0.7) \\\n",
        "                                              | (col(\"RPG\")>=0.7) \\\n",
        "                                              | (col(\"Simulation\")>=0.7) )\n",
        "\n",
        "print(inactive_devoter.count())\n",
        "inactive_devoter.show(10)"
      ],
      "execution_count": 0,
      "outputs": [
        {
          "output_type": "stream",
          "text": [
            "64473\n",
            "+-----------------+--------------------+----------------------+----------------+---+----------+------------------+--------------------+-------+-------+-------+-------+-------+-------+\n",
            "|          SteamID|NumGamesOwned_Scaled|NumReviewsGiven_Scaled|Action-Adventure|RPG|Simulation|RecommendedPercent|SteamAgeProxy_Scaled|topic_0|topic_1|topic_2|topic_3|topic_4|topic_5|\n",
            "+-----------------+--------------------+----------------------+----------------+---+----------+------------------+--------------------+-------+-------+-------+-------+-------+-------+\n",
            "|76561198018602392|               0.551|                 0.044|             0.0|1.0|       0.0|               1.0|                 0.0|    0.0|    0.0|    1.0|    0.0|    0.0|    0.0|\n",
            "|76561198016736280|               1.598|                 0.088|             0.0|1.0|       0.0|               1.0|                 0.0|    0.0|    0.0|    1.0|    0.0|    0.0|    0.0|\n",
            "|76561198067323161|                0.22|                 0.044|             0.0|1.0|       0.0|               1.0|                 0.0|    0.0|    0.0|    0.0|    1.0|    0.0|    0.0|\n",
            "|76561197970062407|               10.59|                 0.044|             1.0|0.0|       0.0|               1.0|                 0.0|    0.0|    0.0|    0.0|    1.0|    0.0|    0.0|\n",
            "|76561197993512360|               0.255|                 0.176|             0.0|1.0|       0.0|               1.0|                 0.0|    1.0|    0.0|    0.0|    0.0|    0.0|    0.0|\n",
            "|76561198026098364|               0.301|                 0.132|             0.0|0.0|       1.0|               1.0|               0.008|    0.0|    0.0|    0.0|    0.5|    0.5|    0.0|\n",
            "|76561198082498540|               0.626|                 0.527|             0.0|1.0|       0.0|               1.0|                0.16|    0.5|    0.0|    0.0|    0.0|    0.5|    0.0|\n",
            "|76561198070083619|               1.159|                 0.791|             1.0|0.0|       0.0|              0.75|               0.237|   0.25|    0.5|    0.0|   0.25|    0.0|    0.0|\n",
            "|76561198323166913|               0.188|                 0.088|             0.0|1.0|       0.0|               1.0|                 0.0|    1.0|    0.0|    0.0|    0.0|    0.0|    0.0|\n",
            "|76561198035617044|               0.538|                 0.044|             0.0|1.0|       0.0|               1.0|                 0.0|    0.0|    0.0|    0.0|    1.0|    0.0|    0.0|\n",
            "+-----------------+--------------------+----------------------+----------------+---+----------+------------------+--------------------+-------+-------+-------+-------+-------+-------+\n",
            "only showing top 10 rows\n",
            "\n"
          ],
          "name": "stdout"
        }
      ]
    },
    {
      "cell_type": "code",
      "metadata": {
        "id": "GLIUW-98sEhQ",
        "colab_type": "code",
        "colab": {}
      },
      "source": [
        "inactive_devoter.toPandas().to_csv(\"/content/drive/My Drive/steam/Jun4th analysis/inactive_devoter.csv\", index=False)"
      ],
      "execution_count": 0,
      "outputs": []
    },
    {
      "cell_type": "markdown",
      "metadata": {
        "id": "ATlMscOeTjld",
        "colab_type": "text"
      },
      "source": [
        "#### Step 4.3 Inactive users - Explorer"
      ]
    },
    {
      "cell_type": "markdown",
      "metadata": {
        "id": "_lOr5OPUT2BH",
        "colab_type": "text"
      },
      "source": [
        "Users who would like to explore different genres of games"
      ]
    },
    {
      "cell_type": "code",
      "metadata": {
        "id": "SwLOh3YBTsPZ",
        "colab_type": "code",
        "outputId": "3b368cac-1fdd-4cd6-ba66-4fbe553b557b",
        "colab": {
          "base_uri": "https://localhost:8080/",
          "height": 313
        }
      },
      "source": [
        "inactive_explorer = inactive_user_profile.exceptAll(inactive_devoter)\n",
        "print(inactive_explorer.count())\n",
        "inactive_explorer.show(10)"
      ],
      "execution_count": 0,
      "outputs": [
        {
          "output_type": "stream",
          "text": [
            "8642\n",
            "+-----------------+--------------------+----------------------+----------------+-----+----------+------------------+--------------------+-------+-------+-------+-------+-------+-------+\n",
            "|          SteamID|NumGamesOwned_Scaled|NumReviewsGiven_Scaled|Action-Adventure|  RPG|Simulation|RecommendedPercent|SteamAgeProxy_Scaled|topic_0|topic_1|topic_2|topic_3|topic_4|topic_5|\n",
            "+-----------------+--------------------+----------------------+----------------+-----+----------+------------------+--------------------+-------+-------+-------+-------+-------+-------+\n",
            "|76561198055078437|               0.541|                 2.064|           0.099|  0.0|       0.0|               1.0|               7.201|    0.0|    0.0|    0.0|    0.0|    0.2|    0.0|\n",
            "|76561197997614916|               1.355|                 1.537|           0.542|0.434|     0.023|               0.8|                0.67|    0.0|    0.6|    0.0|    0.4|    0.0|    0.0|\n",
            "|76561198064990969|               0.591|                 1.098|           0.614|  0.0|     0.386|               1.0|               0.359|    0.5|    0.0|    0.0|   0.25|   0.25|    0.0|\n",
            "|76561198067052598|               0.323|                 0.527|           0.355|  0.0|     0.645|               1.0|               0.025|    0.0|    0.5|    0.0|    0.0|    0.5|    0.0|\n",
            "|76561197974936987|                2.82|                 3.953|           0.526|0.271|       0.0|             0.857|                0.91|  0.222|  0.111|    0.0|  0.111|  0.222|  0.111|\n",
            "|76561198038904493|               0.824|                 0.922|             0.0|0.647|     0.353|               1.0|               0.196|  0.667|    0.0|    0.0|    0.0|  0.333|    0.0|\n",
            "|76561197990043158|               0.874|                 0.176|           0.427|0.573|       0.0|               0.5|               0.102|    0.0|    0.5|    0.0|    0.5|    0.0|    0.0|\n",
            "|76561197989860198|               0.846|                 0.571|           0.373|0.627|       0.0|             0.667|               0.723|  0.333|  0.333|    0.0|    0.0|    0.0|  0.333|\n",
            "|76561198037300080|               2.204|                 1.142|           0.004|  0.0|       0.0|               1.0|               0.047|    0.0|    0.2|    0.0|    0.0|    0.0|    0.0|\n",
            "|76561198194501886|               0.538|                 0.176|           0.008|  0.0|       0.0|               1.0|                 0.0|    0.0|    0.0|    0.0|    0.0|    0.0|  0.333|\n",
            "+-----------------+--------------------+----------------------+----------------+-----+----------+------------------+--------------------+-------+-------+-------+-------+-------+-------+\n",
            "only showing top 10 rows\n",
            "\n"
          ],
          "name": "stdout"
        }
      ]
    },
    {
      "cell_type": "code",
      "metadata": {
        "id": "xhkrhE5QsLCF",
        "colab_type": "code",
        "colab": {}
      },
      "source": [
        "inactive_explorer.toPandas().to_csv(\"/content/drive/My Drive/steam/Jun4th analysis/inactive_explorer.csv\", index=False)"
      ],
      "execution_count": 0,
      "outputs": []
    },
    {
      "cell_type": "markdown",
      "metadata": {
        "colab_type": "text",
        "id": "poeQFFfzSBbF"
      },
      "source": [
        "## Recommendation system"
      ]
    },
    {
      "cell_type": "markdown",
      "metadata": {
        "id": "YfV_c_3WCJcR",
        "colab_type": "text"
      },
      "source": [
        "### User and current game list"
      ]
    },
    {
      "cell_type": "code",
      "metadata": {
        "id": "NyPMvod9CM5M",
        "colab_type": "code",
        "outputId": "9e19e32a-bf97-4bf7-a8fa-e308c070939f",
        "colab": {
          "base_uri": "https://localhost:8080/",
          "height": 456
        }
      },
      "source": [
        "# find users and their game lists \n",
        "df_active_user = spark.read.csv(\"/content/drive/My Drive/steam/Jun4th analysis/df_active_user.csv\", \n",
        "                                inferSchema = True, header = True) \n",
        "\n",
        "df_inactive_user = spark.read.csv(\"/content/drive/My Drive/steam/Jun4th analysis/df_inactive_user.csv\", \n",
        "                                inferSchema = True, header = True) \n",
        "\n",
        "# active and inactive user lists\n",
        "active_user_lst = df_active_user.select(\"SteamID\").rdd.flatMap(lambda x: x).collect()\n",
        "inactive_user_lst = df_inactive_user.select(\"SteamID\").rdd.flatMap(lambda x: x).collect()\n",
        "\n",
        "# only select user ids in the active or inactive lists; for each user, create their lists of games\n",
        "user_games = df_reviews_nonull.filter(col(\"SteamID\").isin(active_user_lst) | \\\n",
        "                                      col(\"SteamID\").isin(inactive_user_lst))\\\n",
        "                              .groupby(\"SteamID\")\\\n",
        "                              .agg(F.collect_list(\"GameID\").alias(\"Games\"))\n",
        "\n",
        "print(user_games.count())\n",
        "user_games.show()"
      ],
      "execution_count": 0,
      "outputs": [
        {
          "output_type": "stream",
          "text": [
            "85508\n",
            "+-----------------+--------------------+\n",
            "|          SteamID|               Games|\n",
            "+-----------------+--------------------+\n",
            "|76561197960272423|    [284160, 657200]|\n",
            "|76561197960274794|     [500810, 29800]|\n",
            "|76561197960410177|[20900, 35140, 47...|\n",
            "|76561197961417773|[512790, 512790, ...|\n",
            "|76561197961461747|[606800, 234650, ...|\n",
            "|76561197961725268|            [113200]|\n",
            "|76561197962366215|[801480, 794260, ...|\n",
            "|76561197964866568|[233310, 233310, ...|\n",
            "|76561197965374380|[284160, 626610, ...|\n",
            "|76561197965863049|   [435150, 1172380]|\n",
            "|76561197966057317|[502430, 502430, ...|\n",
            "|76561197966520926|            [228280]|\n",
            "|76561197967269021|            [534550]|\n",
            "|76561197968315188|[528980, 528980, ...|\n",
            "|76561197968907104|[571310, 571310, ...|\n",
            "|76561197969236305|      [435150, 2870]|\n",
            "|76561197969594183|            [606800]|\n",
            "|76561197970308077|[435150, 1151340,...|\n",
            "|76561197970388715|[474960, 435150, ...|\n",
            "|76561197970651248|[666140, 569860, ...|\n",
            "+-----------------+--------------------+\n",
            "only showing top 20 rows\n",
            "\n"
          ],
          "name": "stdout"
        }
      ]
    },
    {
      "cell_type": "code",
      "metadata": {
        "id": "OtRsVg0rHMZx",
        "colab_type": "code",
        "colab": {}
      },
      "source": [
        "user_games.toPandas().to_csv(\"/content/drive/My Drive/steam/Jun4th analysis/user_games.csv\", index=False)"
      ],
      "execution_count": 0,
      "outputs": []
    },
    {
      "cell_type": "code",
      "metadata": {
        "id": "VhEFR9IjOnRq",
        "colab_type": "code",
        "colab": {}
      },
      "source": [
        "user_games = spark.read.csv(\"/content/drive/My Drive/steam/Jun4th analysis/user_games.csv\", \n",
        "                                inferSchema = True, header = True)"
      ],
      "execution_count": 0,
      "outputs": []
    },
    {
      "cell_type": "code",
      "metadata": {
        "id": "ZJklm_KZHQyG",
        "colab_type": "code",
        "outputId": "59926c28-3f75-468f-cf11-97ac538c2ef9",
        "colab": {
          "base_uri": "https://localhost:8080/",
          "height": 1000
        }
      },
      "source": [
        "df_dict = user_games.collect()\n",
        "df_dict = [{r['SteamID']: r['Games']} for r in df_dict]\n",
        "df_dict"
      ],
      "execution_count": 7,
      "outputs": [
        {
          "output_type": "execute_result",
          "data": {
            "text/plain": [
              "[{76561197960272423: '[284160, 657200]'},\n",
              " {76561197960274794: '[500810, 29800]'},\n",
              " {76561197960410177: '[20900, 35140, 475150, 22200, 219990]'},\n",
              " {76561197961417773: '[512790, 512790, 512790, 512790, 40720, 351920, 810660, 306760]'},\n",
              " {76561197961461747: '[606800, 234650, 346940]'},\n",
              " {76561197961725268: '[113200]'},\n",
              " {76561197962366215: '[801480, 794260, 424370, 728240]'},\n",
              " {76561197964866568: '[233310, 233310, 588950, 588950, 474960, 219780, 219780, 211580, 211580, 219780, 219780, 211580, 211580, 401680, 112100, 552450, 203750, 225260, 234650, 346940, 232750, 322520, 535930, 798850, 459010, 528230, 362960, 314660, 301910, 233310, 233310, 588950, 588950]'},\n",
              " {76561197965374380: '[284160, 626610, 293760, 366000]'},\n",
              " {76561197965863049: '[435150, 1172380]'},\n",
              " {76561197966057317: '[502430, 502430, 502430, 502430, 289950, 650350]'},\n",
              " {76561197966520926: '[228280]'},\n",
              " {76561197967269021: '[534550]'},\n",
              " {76561197968315188: '[528980, 528980, 528980, 528980, 403200, 99100, 99100, 99100, 99100, 33770, 435150, 656350, 251730, 692840, 1042780, 424370, 238750, 230230, 2870, 619780, 269210, 219990, 985950, 403940, 362960, 306760, 277650]'},\n",
              " {76561197968907104: '[571310, 571310, 253150, 253150, 234270, 234270, 597220, 597220, 571310, 571310, 424250, 411300, 396750, 351480, 335620, 552620, 1033060, 527230, 640820, 632470, 699170, 807120, 445190, 368340, 911550, 691690, 613390, 591000, 591000, 591000, 591000, 450700, 628290, 680480, 631570, 613470, 788270, 758080, 365160, 280600, 253150, 253150, 234270, 234270, 597220, 597220]'},\n",
              " {76561197969236305: '[435150, 2870]'},\n",
              " {76561197969594183: '[606800]'},\n",
              " {76561197970308077: '[435150, 1151340, 219990]'},\n",
              " {76561197970388715: '[474960, 435150, 734120]'},\n",
              " {76561197970651248: '[666140, 569860, 433550]'},\n",
              " {76561197970717756: '[493340, 527100]'},\n",
              " {76561197971083344: '[824070, 362960]'},\n",
              " {76561197971284864: '[411300]'},\n",
              " {76561197971292552: '[237990, 237990, 222640, 222640, 222640, 222640, 632470, 237990, 237990]'},\n",
              " {76561197971348291: '[794260, 435150]'},\n",
              " {76561197972636494: '[374040, 794260, 440650, 384570, 574720]'},\n",
              " {76561197973490692: '[493340]'},\n",
              " {76561197974453752: '[656350, 613190]'},\n",
              " {76561197974515233: '[113200]'},\n",
              " {76561197976128981: '[41500, 200710, 113200, 231330, 219990, 330350, 270330]'},\n",
              " {76561197978064772: '[666140, 656350, 304530, 261760]'},\n",
              " {76561197980082379: '[640820, 219990]'},\n",
              " {76561197980242441: '[269210]'},\n",
              " {76561197980492503: '[640820, 758190]'},\n",
              " {76561197980600800: '[20900]'},\n",
              " {76561197981236157: '[530070, 868360, 824070]'},\n",
              " {76561197981732215: '[250520, 250520, 411300, 38230, 842100, 200710, 794260, 435150, 632470, 113200, 25000, 219990, 364510, 362490, 280600, 263560, 250520, 250520]'},\n",
              " {76561197982304461: '[451340]'},\n",
              " {76561197983736600: '[200710, 113200]'},\n",
              " {76561197984541930: '[219990]'},\n",
              " {76561197984663068: '[422810, 221810, 221810, 221810, 221810, 113200, 362960, 349790]'},\n",
              " {76561197984938211: '[335620]'},\n",
              " {76561197985072747: '[242530, 242530, 237990, 237990, 492500, 231740, 231740, 221810, 221810, 99300, 99300, 95300, 95300, 231740, 231740, 221810, 221810, 99300, 99300, 95300, 95300, 57400, 47540, 41900, 42170, 39160, 25900, 25620, 22320, 20900, 12810, 12810, 12810, 12810, 35140, 200710, 552620, 112100, 35130, 640820, 780290, 397540, 204060, 3710, 113200, 215530, 234650, 251730, 587920, 263320, 22200, 216910, 108710, 219990, 214830, 207930, 25700, 663240, 612930, 612670, 822800, 380150, 379380, 362490, 324740, 316930, 306700, 279580, 267750, 242530, 242530, 237990, 237990]'},\n",
              " {76561197985130407: '[40390, 39160, 113200, 1172380, 299400]'},\n",
              " {76561197985654528: '[251130, 251130, 492760, 435150, 1145360, 622770, 358070, 251130, 251130]'},\n",
              " {76561197986122603: '[475180, 527230, 2870]'},\n",
              " {76561197988195181: '[397150, 1078000, 346940, 535930]'},\n",
              " {76561197988649454: '[604330, 604330, 396640, 200710, 553310, 292500, 364510, 809020, 604330, 604330]'},\n",
              " {76561197988676770: '[219990]'},\n",
              " {76561197989037136: '[362490]'},\n",
              " {76561197989302104: '[200710, 435150, 397540]'},\n",
              " {76561197989659282: '[271260]'},\n",
              " {76561197989881152: '[640820, 435150, 362960]'},\n",
              " {76561197990033052: '[10180, 851100]'},\n",
              " {76561197990648350: '[35140, 1172380]'},\n",
              " {76561197990687674: '[374040, 692840, 219990]'},\n",
              " {76561197990797833: '[40390, 39510, 1172170, 1011830]'},\n",
              " {76561197991262582: '[251130, 251130, 492290, 214170, 214170, 214170, 214170, 33130, 405370, 803980, 410110, 363930, 686200, 698640, 228360, 729720, 251130, 251130]'},\n",
              " {76561197991631174: '[579950, 579950, 200710, 495420, 589360, 661740, 639170, 334120, 579950, 579950]'},\n",
              " {76561197992010236: '[41500, 22320, 32370, 424370, 1172380, 838310]'},\n",
              " {76561197992488472: '[17390]'},\n",
              " {76561197993463725: '[236090, 236090, 202070, 202070, 202070, 202070, 666140, 236090, 236090]'},\n",
              " {76561197993676604: '[595140, 595140, 41500, 435150, 493340, 113200, 269210, 595140, 595140]'},\n",
              " {76561197993698585: '[41500, 234650, 230230, 219990]'},\n",
              " {76561197993709617: '[558420, 558420, 558420, 558420, 24010, 557340]'},\n",
              " {76561197993845094: '[435150, 228280]'},\n",
              " {76561197994125296: '[645630, 451340, 565120, 565120, 565120, 565120]'},\n",
              " {76561197994558133: '[113200]'},\n",
              " {76561197994638907: '[246900, 1145360, 733790, 505730]'},\n",
              " {76561197994903397: '[640820]'},\n",
              " {76561197995413134: '[794260, 2870, 264160]'},\n",
              " {76561197995551727: '[246900, 666140]'},\n",
              " {76561197995822286: '[640820, 692840, 230230, 2870, 271260, 219190, 219190, 219190, 219190, 942190]'},\n",
              " {76561197995840552: '[588950, 588950, 527230, 435150, 397540, 1151340, 424370, 475150, 698870, 219990, 911550, 704450, 731880, 946610, 671900, 375480, 362960, 264160, 588950, 588950]'},\n",
              " {76561197996181253: '[493340, 251890, 366440]'},\n",
              " {76561197996718955: '[20900, 626250, 346940, 267750]'},\n",
              " {76561197996888975: '[115120, 115120, 115120, 115120, 435150]'},\n",
              " {76561197997010180: '[200710, 334120]'},\n",
              " {76561197997797334: '[527230]'},\n",
              " {76561197998145174: '[435150]'},\n",
              " {76561197998651392: '[758190]'},\n",
              " {76561197998869210: '[552620]'},\n",
              " {76561197999620745: '[589360, 556050]'},\n",
              " {76561197999914689: '[236090, 236090, 460700, 424250, 256290, 1172380, 250680, 1034900, 320820, 295670, 236090, 236090]'},\n",
              " {76561198000595466: '[435150]'},\n",
              " {76561198000822840: '[40390, 39510]'},\n",
              " {76561198001070313: '[579180, 579180, 19030, 23380, 365120, 579180, 579180]'},\n",
              " {76561198001088975: '[411300, 552620]'},\n",
              " {76561198001150253: '[113200]'},\n",
              " {76561198002733760: '[1112790]'},\n",
              " {76561198003276530: '[315840]'},\n",
              " {76561198003362857: '[246900]'},\n",
              " {76561198004053861: '[435150]'},\n",
              " {76561198004792282: '[368340]'},\n",
              " {76561198005087135: '[201490, 201490, 201490, 201490, 23530, 35140, 666140, 816090, 397540, 493340, 495420, 2700]'},\n",
              " {76561198006266609: '[787860, 588210, 598980]'},\n",
              " {76561198006432233: '[435150, 362960]'},\n",
              " {76561198006471295: '[219990]'},\n",
              " {76561198006567310: '[474960, 200710, 527230, 424370, 589360]'},\n",
              " {76561198007806739: '[868360]'},\n",
              " {76561198008222226: '[535930]'},\n",
              " {76561198009407939: '[20900]'},\n",
              " {76561198009980939: '[200710, 424370, 219990]'},\n",
              " {76561198011029912: '[19200, 475150, 353700, 219990]'},\n",
              " {76561198011136458: '[794260, 640820, 435150]'},\n",
              " {76561198011348528: '[794260, 368340, 261760]'},\n",
              " {76561198011435134: '[278510, 570050, 928390, 378770, 315670, 285330]'},\n",
              " {76561198011633096: '[386620, 804700, 535930]'},\n",
              " {76561198013514918: '[1172380]'},\n",
              " {76561198013545978: '[257350, 704450, 737000]'},\n",
              " {76561198013588876: '[200710]'},\n",
              " {76561198014275179: '[230230, 269210, 362490]'},\n",
              " {76561198014320429: '[597220, 597220, 1065100, 597220, 597220]'},\n",
              " {76561198014547071: '[10190]'},\n",
              " {76561198014631552: '[285110]'},\n",
              " {76561198015228743: '[435150]'},\n",
              " {76561198015620193: '[291190]'},\n",
              " {76561198016204324: '[435150, 816090, 475150]'},\n",
              " {76561198017313592: '[22320]'},\n",
              " {76561198017969389: '[435150]'},\n",
              " {76561198018675656: '[557340, 1172380]'},\n",
              " {76561198018913670: '[252230, 252230, 209730, 209730, 209730, 209730, 45300, 45302, 256030, 35130, 63950, 10180, 225260, 345180, 219990, 322210, 292180, 252230, 252230]'},\n",
              " {76561198020423468: '[435150]'},\n",
              " {76561198020657935: '[682990, 622720]'},\n",
              " {76561198021166646: '[566090, 552620, 640820, 331810, 1194930, 704450, 1058430]'},\n",
              " {76561198022125454: '[787860, 613100]'},\n",
              " {76561198022851490: '[633360]'},\n",
              " {76561198023556685: '[200710, 421120, 840010, 690180, 270190, 260690]'},\n",
              " {76561198023645753: '[435150, 234650, 346940, 219990]'},\n",
              " {76561198024465696: '[39510, 204340, 46510, 108710, 15560]'},\n",
              " {76561198024658899: '[435150, 1151340, 1172380]'},\n",
              " {76561198024741464: '[368340]'},\n",
              " {76561198024904257: '[411300, 41500, 200710, 1151340, 234650, 424370, 899770, 228280, 257350, 544750, 758330, 1167450, 362960]'},\n",
              " {76561198025672971: '[285110]'},\n",
              " {76561198025710224: '[666140]'},\n",
              " {76561198025907233: '[24010, 530070, 493340, 588210, 1066780, 451340]'},\n",
              " {76561198026397817: '[248410, 337320, 362490]'},\n",
              " {76561198027061833: '[396750, 1151340]'},\n",
              " {76561198027253348: '[622460, 535930]'},\n",
              " {76561198027279698: '[113200]'},\n",
              " {76561198028042252: '[435150, 239820]'},\n",
              " {76561198028482856: '[219780, 219780, 219780, 219780, 979120]'},\n",
              " {76561198028976470: '[435150]'},\n",
              " {76561198029145011: '[522210, 522210, 522210, 522210, 474960, 35140, 790850, 686200, 1172380, 675940, 623640, 308060]'},\n",
              " {76561198029222668: '[435150]'},\n",
              " {76561198029854440: '[239820]'},\n",
              " {76561198030127591: '[532021, 532021, 579180, 579180, 532021, 532021, 421660, 931500, 1045620, 851100, 579180, 579180]'},\n",
              " {76561198030978763: '[803980, 423490, 307960]'},\n",
              " {76561198031265869: '[579950, 579950, 699170, 589360, 366640, 338390, 261760, 245280, 579950, 579950]'},\n",
              " {76561198031284295: '[435150, 553310]'},\n",
              " {76561198031400821: '[640820]'},\n",
              " {76561198032110576: '[15240, 15240, 15240, 15240, 924800, 882140, 15200, 284160, 645630]'},\n",
              " {76561198032251843: '[346940]'},\n",
              " {76561198033800364: '[113200]'},\n",
              " {76561198034424302: '[1057750, 656030, 696530]'},\n",
              " {76561198034742134: '[435150]'},\n",
              " {76561198034754503: '[345180, 2870, 959520, 297720, 279900]'},\n",
              " {76561198035773191: '[409870, 1089090]'},\n",
              " {76561198036160800: '[656350, 368340]'},\n",
              " {76561198036255038: '[263280, 342640]'},\n",
              " {76561198036429970: '[493340]'},\n",
              " {76561198036998891: '[435150, 424370]'},\n",
              " {76561198037696325: '[435150]'},\n",
              " {76561198038124237: '[666140]'},\n",
              " {76561198038195848: '[202750, 225260, 108710, 219990]'},\n",
              " {76561198038255778: '[239120, 239120, 41500, 435150, 365160, 239120, 239120]'},\n",
              " {76561198039736311: '[200710]'},\n",
              " {76561198040447413: '[246900, 401680]'},\n",
              " {76561198040653599: '[236090, 236090, 510490, 635320, 256290, 1172380, 6310, 420060, 290770, 245280, 236090, 236090]'},\n",
              " {76561198040831621: '[422810, 738540, 301910]'},\n",
              " {76561198041157271: '[228280, 544750]'},\n",
              " {76561198041332842: '[20900, 239820]'},\n",
              " {76561198041365325: '[977570, 274310, 1067850]'},\n",
              " {76561198041643595: '[219990]'},\n",
              " {76561198042110105: '[348470]'},\n",
              " {76561198042770455: '[22320]'},\n",
              " {76561198043175528: '[72200, 3700, 285330]'},\n",
              " {76561198043264494: '[640820]'},\n",
              " {76561198043351860: '[10180, 239820, 1172380]'},\n",
              " {76561198043802810: '[17390, 435150, 632470]'},\n",
              " {76561198043924924: '[301910]'},\n",
              " {76561198044016870: '[396750, 219990, 528230]'},\n",
              " {76561198044256109: '[558420, 558420, 558420, 558420, 18070, 493200, 397540, 351920, 350640, 304530, 847370, 416600]'},\n",
              " {76561198044696756: '[435150, 219990]'},\n",
              " {76561198045403026: '[20900, 35140, 200710, 32370, 1172380, 373480]'},\n",
              " {76561198046830919: '[22320, 2700]'},\n",
              " {76561198047049058: '[424370, 544750, 1112790]'},\n",
              " {76561198047112485: '[640820]'},\n",
              " {76561198048366782: '[200710]'},\n",
              " {76561198048676649: '[200710]'},\n",
              " {76561198048848795: '[435150, 916840, 1151340, 1145360, 424370, 219990]'},\n",
              " {76561198049365787: '[798460]'},\n",
              " {76561198049741452: '[315660, 287200]'},\n",
              " {76561198050676789: '[435150]'},\n",
              " {76561198051283213: '[435150]'},\n",
              " {76561198051305730: '[22320]'},\n",
              " {76561198051747486: '[435150, 699170]'},\n",
              " {76561198052245974: '[214170, 214170, 214170, 214170, 239820, 203830, 228280, 257350, 292660, 262940]'},\n",
              " {76561198053072447: '[445980, 274900]'},\n",
              " {76561198053228386: '[15740, 15740, 15740, 15740, 640820, 435150]'},\n",
              " {76561198053629327: '[451340]'},\n",
              " {76561198054541687: '[246900, 314660]'},\n",
              " {76561198054593688: '[113200, 314290]'},\n",
              " {76561198055430153: '[396640]'},\n",
              " {76561198055502878: '[32370]'},\n",
              " {76561198055542851: '[397540, 225260, 844590, 320040, 263280, 224820]'},\n",
              " {76561198055846931: '[368340, 1082710]'},\n",
              " {76561198056092891: '[435150]'},\n",
              " {76561198056902027: '[571310, 571310, 505400, 505400, 237990, 237990, 571310, 571310, 505400, 505400, 410820, 222640, 222640, 222640, 222640, 35140, 351300, 747200, 816090, 493340, 351920, 345180, 475150, 271260, 350310, 664000, 351100, 108710, 219990, 451340, 342860, 245280, 237990, 237990]'},\n",
              " {76561198056998585: '[236090, 236090, 455820, 368340, 236090, 236090]'},\n",
              " {76561198058191878: '[666140]'},\n",
              " {76561198058278300: '[269770]'},\n",
              " {76561198058528820: '[645630]'},\n",
              " {76561198059199001: '[754530, 15320]'},\n",
              " {76561198059375326: '[816090]'},\n",
              " {76561198059970942: '[435150]'},\n",
              " {76561198060707639: '[794260]'},\n",
              " {76561198060721962: '[415030, 666140, 225260, 322500]'},\n",
              " {76561198061477291: '[711750]'},\n",
              " {76561198061693153: '[435150]'},\n",
              " {76561198062285744: '[780290, 424370]'},\n",
              " {76561198063236085: '[113200, 108710, 264580]'},\n",
              " {76561198063368112: '[435150]'},\n",
              " {76561198063426694: '[94590, 94590, 94590, 94590, 31290, 20900, 108710]'},\n",
              " {76561198064070669: '[553310, 528230]'},\n",
              " {76561198064700523: '[435150, 397540]'},\n",
              " {76561198064709957: '[330390]'},\n",
              " {76561198064762906: '[1072420, 535930]'},\n",
              " {76561198065454939: '[32370]'},\n",
              " {76561198065806226: '[645630]'},\n",
              " {76561198065903414: '[200710, 424370, 613410]'},\n",
              " {76561198065929949: '[597220, 597220, 544750, 597220, 597220]'},\n",
              " {76561198065936230: '[113200]'},\n",
              " {76561198066899573: '[435150]'},\n",
              " {76561198067554193: '[219990]'},\n",
              " {76561198067725186: '[558420, 558420, 250520, 250520, 558420, 558420, 464360, 552620, 435150, 237430, 445190, 362960, 250520, 250520]'},\n",
              " {76561198068819095: '[858210, 394220]'},\n",
              " {76561198069074250: '[613100, 1172380]'},\n",
              " {76561198069188054: '[200710]'},\n",
              " {76561198069595224: '[829110]'},\n",
              " {76561198071158222: '[666140, 400940, 733990]'},\n",
              " {76561198071369667: '[527230]'},\n",
              " {76561198072779952: '[559910, 559910, 559910, 559910, 25900, 435150, 339200, 219990, 535930, 610500, 382050, 363600]'},\n",
              " {76561198074556502: '[284160, 645630, 10180]'},\n",
              " {76561198075088539: '[24010]'},\n",
              " {76561198075260954: '[248630, 984560, 435150, 924980, 685950]'},\n",
              " {76561198076468872: '[250520, 250520, 832610, 424370, 263280, 351100, 219990, 451340, 711750, 333100, 250520, 250520]'},\n",
              " {76561198076741130: '[553640, 368340]'},\n",
              " {76561198077180025: '[546430, 546430, 522210, 522210, 546430, 546430, 522210, 522210, 19200, 640820, 39200, 113200, 345180, 111600, 271570, 286120, 266230]'},\n",
              " {76561198077515189: '[284160, 645630, 365160]'},\n",
              " {76561198077839381: '[588210]'},\n",
              " {76561198078134648: '[24010, 530070]'},\n",
              " {76561198078759773: '[113200]'},\n",
              " {76561198078881014: '[435150]'},\n",
              " {76561198079429204: '[263060, 362490]'},\n",
              " {76561198079814246: '[284160, 204340]'},\n",
              " {76561198079960379: '[435150]'},\n",
              " {76561198080838810: '[397340]'},\n",
              " {76561198081322398: '[733790, 650570, 362960, 245280]'},\n",
              " {76561198081827606: '[527230, 320040]'},\n",
              " {76561198081848944: '[774351, 362960]'},\n",
              " {76561198082052049: '[441680, 256290, 252570, 252570, 252570, 252570, 378830]'},\n",
              " {76561198082120467: '[435150]'},\n",
              " {76561198082714419: '[20900]'},\n",
              " {76561198083237215: '[595140, 595140, 33520, 200710, 368340, 595140, 595140]'},\n",
              " {76561198083370167: '[113200]'},\n",
              " {76561198085545266: '[466300]'},\n",
              " {76561198086411699: '[200710]'},\n",
              " {76561198087957224: '[346940]'},\n",
              " {76561198088305612: '[475150]'},\n",
              " {76561198089540669: '[20900, 640820, 445190, 257350, 362960]'},\n",
              " {76561198089597902: '[435150, 338390]'},\n",
              " {76561198090323431: '[253150, 253150, 237990, 237990, 40720, 20900, 281640, 113200, 115100, 316790, 253150, 253150, 237990, 237990]'},\n",
              " {76561198090341616: '[552620, 1093320]'},\n",
              " {76561198090601569: '[200710]'},\n",
              " {76561198091207117: '[113200]'},\n",
              " {76561198092244881: '[200710]'},\n",
              " {76561198092695090: '[239820]'},\n",
              " {76561198093497066: '[219990]'},\n",
              " {76561198094565390: '[269210]'},\n",
              " {76561198097460390: '[239820]'},\n",
              " {76561198097552836: '[48705, 39680, 321300]'},\n",
              " {76561198099302411: '[424370, 219990]'},\n",
              " {76561198101796789: '[794260]'},\n",
              " {76561198102213541: '[219990]'},\n",
              " {76561198103865685: '[434030, 1145360, 424370, 649600, 307960]'},\n",
              " {76561198107021718: '[794260]'},\n",
              " {76561198107762496: '[435150]'},\n",
              " {76561198109728425: '[22320, 1072150, 774811, 263280, 553310, 331870, 322290]'},\n",
              " {76561198110091807: '[645630, 451340]'},\n",
              " {76561198112349305: '[200230, 200230, 200230, 200230, 24010, 284160]'},\n",
              " {76561198112961455: '[433530]'},\n",
              " {76561198114198258: '[32370, 569860]'},\n",
              " {76561198114660563: '[397540, 318130]'},\n",
              " {76561198114927582: '[666140]'},\n",
              " {76561198114946288: '[215530]'},\n",
              " {76561198115829784: '[234390, 234390, 435150, 46510, 574720, 219990, 535930, 839870, 466630, 528230, 770390, 361550, 306760, 269690, 259910, 234390, 234390]'},\n",
              " {76561198116066177: '[397340, 337320]'},\n",
              " {76561198117583282: '[113200]'},\n",
              " {76561198118708516: '[397340, 15320]'},\n",
              " {76561198120364736: '[411300, 666140]'},\n",
              " {76561198120789761: '[520010, 368340, 1004770]'},\n",
              " {76561198121377370: '[213610]'},\n",
              " {76561198122848085: '[493340]'},\n",
              " {76561198123321011: '[1151340, 1172380]'},\n",
              " {76561198126397879: '[22320, 394160, 435150, 10180, 285330]'},\n",
              " {76561198126492801: '[794260]'},\n",
              " {76561198128634577: '[284160]'},\n",
              " {76561198128915496: '[640820, 269210, 1112790]'},\n",
              " {76561198129154306: '[645630]'},\n",
              " {76561198131275805: '[633230, 322500]'},\n",
              " {76561198131514696: '[666140]'},\n",
              " {76561198131876565: '[213610]'},\n",
              " {76561198132218926: '[113200]'},\n",
              " {76561198133876352: '[200710]'},\n",
              " {76561198136332748: '[17390]'},\n",
              " {76561198137625922: '[431180]'},\n",
              " {76561198138686687: '[368340]'},\n",
              " {76561198139291762: '[435150]'},\n",
              " {76561198139673737: '[284160, 537340, 270570, 1142500, 311770]'},\n",
              " {76561198139743119: '[616560, 322500]'},\n",
              " {76561198140097409: '[289950, 283620]'},\n",
              " {76561198140287237: '[787860, 626610, 16900]'},\n",
              " {76561198140450354: '[10190]'},\n",
              " {76561198141848320: '[239820]'},\n",
              " {76561198142174983: '[493340, 428690, 239820, 319780]'},\n",
              " {76561198142971528: '[435150]'},\n",
              " {76561198143314136: '[31290, 284160, 581630, 728240]'},\n",
              " {76561198143381210: '[357670, 17390, 747910, 733990]'},\n",
              " {76561198146521800: '[747200, 934780]'},\n",
              " {76561198147151225: '[666140]'},\n",
              " {76561198148170818: '[24010, 397340, 214790, 214790, 214790, 214790]'},\n",
              " {76561198150566451: '[24010]'},\n",
              " {76561198150821363: '[435150]'},\n",
              " {76561198150966566: '[435150]'},\n",
              " {76561198153491019: '[787860]'},\n",
              " {76561198154094082: '[219990, 383270, 804010]'},\n",
              " {76561198159663143: '[368340, 633360]'},\n",
              " {76561198159822294: '[1151340, 239820]'},\n",
              " {76561198160931998: '[17390, 545050]'},\n",
              " {76561198162701540: '[515650, 884260]'},\n",
              " {76561198162925950: '[552620]'},\n",
              " {76561198163740758: '[284160]'},\n",
              " {76561198166490950: '[640820, 1145360, 462770]'},\n",
              " {76561198166521600: '[435150]'},\n",
              " {76561198168939724: '[515180]'},\n",
              " {76561198170146505: '[431180]'},\n",
              " {76561198170563005: '[228280]'},\n",
              " {76561198173056714: '[702110]'},\n",
              " {76561198178477191: '[666140]'},\n",
              " {76561198183883401: '[613100]'},\n",
              " {76561198191246728: '[32370, 46510, 649600]'},\n",
              " {76561198191331802: '[363600]'},\n",
              " {76561198194620650: '[666140, 855640]'},\n",
              " {76561198195937437: '[1167450, 955050, 738530]'},\n",
              " {76561198198700934: '[302080, 403070, 363890, 400110]'},\n",
              " {76561198201512918: '[284160]'},\n",
              " {76561198206314236: '[263280, 375180]'},\n",
              " {76561198211294380: '[527230, 435150]'},\n",
              " {76561198212169601: '[3700]'},\n",
              " {76561198212465124: '[787860, 621060]'},\n",
              " {76561198216365016: '[403940]'},\n",
              " {76561198220511537: '[435150]'},\n",
              " {76561198223351844: '[493340]'},\n",
              " {76561198233185980: '[435150, 219990]'},\n",
              " {76561198238182162: '[645630]'},\n",
              " {76561198246405756: '[451340]'},\n",
              " {76561198254339671: '[287840, 32370]'},\n",
              " {76561198269201622: '[1100600, 544750]'},\n",
              " {76561198273809510: '[397340]'},\n",
              " {76561198277608762: '[435150, 666140]'},\n",
              " {76561198281697263: '[645630]'},\n",
              " {76561198283506052: '[493340]'},\n",
              " {76561198283691272: '[431180]'},\n",
              " {76561198313449632: '[219990, 368340]'},\n",
              " {76561198318438410: '[645630]'},\n",
              " {76561198322173945: '[475150]'},\n",
              " {76561198329960696: '[678900]'},\n",
              " {76561198330481327: '[263280]'},\n",
              " {76561198330739602: '[22320]'},\n",
              " {76561198333079302: '[794260]'},\n",
              " {76561198339184695: '[397540, 410110]'},\n",
              " {76561198341851450: '[435150]'},\n",
              " {76561198341865927: '[411300, 640820]'},\n",
              " {76561198353937737: '[285330]'},\n",
              " {76561198356486384: '[435150]'},\n",
              " {76561198358218558: '[1121560]'},\n",
              " {76561198361021859: '[493340]'},\n",
              " {76561198361824696: '[335620, 567080]'},\n",
              " {76561198368051973: '[428690]'},\n",
              " {76561198375573262: '[369290, 445770, 787860, 1251000, 1053680]'},\n",
              " {76561198376836824: '[252050, 252050, 252050, 252050, 403430, 24010, 289950, 263280]'},\n",
              " {76561198388355515: '[613390]'},\n",
              " {76561198395440867: '[399070, 1065100]'},\n",
              " {76561198404348138: '[448290]'},\n",
              " {76561198406592125: '[493340, 397340, 563840]'},\n",
              " {76561198453084731: '[435150]'},\n",
              " {76561198801809559: '[613100]'},\n",
              " {76561198823862976: '[20900]'},\n",
              " {76561198847604262: '[688420]'},\n",
              " {76561198867110140: '[1172380]'},\n",
              " {76561198968973598: '[368340]'},\n",
              " {76561198983499912: '[535930]'},\n",
              " {76561197960266375: '[435150]'},\n",
              " {76561197960284805: '[221810, 221810, 221810, 221810, 404680, 569860, 108710, 433550, 846470, 306760]'},\n",
              " {76561197960409054: '[2870]'},\n",
              " {76561197961193457: '[25900, 790850, 688420]'},\n",
              " {76561197961446399: '[57400, 246900, 113200]'},\n",
              " {76561197961539134: '[271260, 1172380]'},\n",
              " {76561197961663762: '[1145360, 219990]'},\n",
              " {76561197963455896: '[794260, 816090, 323220, 237990, 237990, 237990, 237990]'},\n",
              " {76561197964120751: '[386620, 15130, 15130, 15130, 15130, 246900, 615120, 239820, 234650, 346940, 535930, 200410, 200410, 200410, 200410, 294140, 764790, 658850, 846470, 362960, 566860, 566860, 566860, 566860, 476530]'},\n",
              " {76561197964351915: '[632470, 281640, 302610]'},\n",
              " {76561197964914027: '[435150]'},\n",
              " {76561197965056179: '[535930, 322500, 237990, 237990, 237990, 237990]'},\n",
              " {76561197965585057: '[214970, 92300, 92300, 92300, 92300, 39160, 19200, 212050, 200710, 202750, 493200, 204060, 1145360, 237850, 203750, 113200, 416600, 256290, 22200, 238530, 238530, 238530, 238530, 202730, 202730, 229580, 202730, 202730, 298400, 265950, 241910, 241910, 512790, 512790, 241910, 241910, 512790, 512790]'},\n",
              " {76561197966364900: '[396750]'},\n",
              " {76561197967355304: '[691830]'},\n",
              " {76561197968227802: '[386620, 20900, 794260, 249990, 1172380, 535930, 375440, 551730, 551730, 551730, 551730]'},\n",
              " {76561197970389918: '[99300, 99300, 99300, 99300, 219990]'},\n",
              " {76561197970545119: '[41900, 246900]'},\n",
              " {76561197970604398: '[24010]'},\n",
              " {76561197970674174: '[200710, 897670, 424370, 219990, 375480]'},\n",
              " {76561197970732012: '[566090, 663380]'},\n",
              " {76561197971088699: '[219990]'},\n",
              " {76561197971125820: '[640820]'},\n",
              " {76561197971707641: '[547860]'},\n",
              " {76561197972297697: '[225260, 1172380]'},\n",
              " {76561197972340622: '[640820]'},\n",
              " {76561197972411833: '[435150]'},\n",
              " {76561197973061816: '[435150, 474960]'},\n",
              " {76561197974729809: '[754530, 1076160, 400110, 314660, 234940, 234940, 234940, 234940]'},\n",
              " {76561197976928457: '[219990]'},\n",
              " {76561197977314513: '[271260]'},\n",
              " {76561197978238689: '[219990]'},\n",
              " {76561197979458160: '[613100]'},\n",
              " {76561197980320608: '[108710, 257350, 535930, 362960]'},\n",
              " {76561197981465959: '[10180]'},\n",
              " {76561197981846916: '[527100, 219990, 312650]'},\n",
              " {76561197983469595: '[632470]'},\n",
              " {76561197984080647: '[527100, 322500, 411300]'},\n",
              " {76561197984663158: '[640820]'},\n",
              " {76561197985157930: '[435150]'},\n",
              " {76561197986324837: '[39500, 396750]'},\n",
              " {76561197986346468: '[640820]'},\n",
              " {76561197988276685: '[39680]'},\n",
              " {76561197988566726: '[237990, 237990, 418440, 20900, 234650, 104100, 104100, 104100, 104100, 362490, 237990, 237990]'},\n",
              " {76561197989563668: '[640820, 435150]'},\n",
              " {76561197989632215: '[40390, 39160, 200710, 32370, 219990]'},\n",
              " {76561197989670516: '[435150, 239820, 1172380, 715950, 380150]'},\n",
              " {76561197990152763: '[236090, 236090, 115120, 115120, 115120, 115120, 45750, 41740, 246900, 932850, 113200, 847370, 108710, 676820, 236090, 236090]'},\n",
              " {76561197990474312: '[424370, 899770, 219990]'},\n",
              " {76561197990819294: '[315660]'},\n",
              " {76561197990910075: '[592374, 592374, 322500, 638070, 528230, 878465, 636100, 592374, 592374]'},\n",
              " {76561197991761495: '[645630]'},\n",
              " {76561197992371075: '[589360, 203350]'},\n",
              " {76561197992376798: '[284160]'},\n",
              " {76561197992641590: '[113200]'},\n",
              " {76561197993238839: '[271260]'},\n",
              " {76561197993780871: '[435150, 544750, 347290]'},\n",
              " {76561197994007641: '[233350, 233350, 20900, 200710, 339200, 232750, 108710, 589360, 462770, 349790, 233350, 233350]'},\n",
              " {76561197994099247: '[371970]'},\n",
              " {76561197994243856: '[215530, 2870]'},\n",
              " {76561197995151689: '[237990, 237990, 435150, 237990, 237990]'},\n",
              " {76561197995181899: '[452060]'},\n",
              " {76561197995335515: '[1185560, 424370, 686200, 219990, 433550]'},\n",
              " {76561197995661875: '[475150, 219990, 272470]'},\n",
              " {76561197996508309: '[435150]'},\n",
              " {76561197997010761: '[237990, 237990, 640820, 730310, 237990, 237990]'},\n",
              " {76561197997251094: '[22100, 445980]'},\n",
              " {76561197998082524: '[200710, 219990]'},\n",
              " {76561197998196302: '[22320, 20900, 435150, 632470, 32370, 225260, 219990]'},\n",
              " {76561197998470298: '[787860, 792990, 365160, 297450]'},\n",
              " {76561197998510232: '[505730, 257350, 368390, 272600]'},\n",
              " {76561197999307874: '[475150, 712730]'},\n",
              " {76561197999803734: '[435150]'},\n",
              " {76561198000167250: '[314650, 1066780]'},\n",
              " {76561198000244942: '[237990, 237990, 239820, 225260, 237990, 237990]'},\n",
              " {76561198000361169: '[306760, 299400]'},\n",
              " {76561198000462676: '[397540, 733990, 355520]'},\n",
              " {76561198001042133: '[640820, 1172380]'},\n",
              " {76561198002916357: '[258220, 258220, 209730, 209730, 99300, 99300, 209730, 209730, 99300, 99300, 249650, 345180, 219990, 302010, 635060, 359310, 350970, 264300, 258220, 258220]'},\n",
              " {76561198003505609: '[435150, 397540]'},\n",
              " {76561198003675192: '[794260, 495420, 32370, 1172380]'},\n",
              " {76561198004232018: '[250520, 250520, 250520, 250520]'},\n",
              " {76561198004806475: '[613100, 237850]'},\n",
              " {76561198005473678: '[711750]'},\n",
              " {76561198005813918: '[666140]'},\n",
              " {76561198006009637: '[1172380]'},\n",
              " {76561198006578795: '[640820]'},\n",
              " {76561198006677747: '[17390]'},\n",
              " {76561198007171515: '[1172380]'},\n",
              " {76561198007557456: '[250520, 250520, 424250, 566090, 435150, 699170, 250520, 250520]'},\n",
              " {76561198008952378: '[640820]'},\n",
              " {76561198009017479: '[219990]'},\n",
              " {76561198009059337: '[655780]'},\n",
              " {76561198009268795: '[576770, 576770, 396660, 640820, 362960, 289520, 576770, 576770]'},\n",
              " {76561198009563932: '[57400, 20900, 212050, 632470, 613100, 363930]'},\n",
              " {76561198009752238: '[200190, 200190, 200190, 200190, 404680, 435150, 455820, 635320, 368340, 563190, 462770, 398030, 764790, 847360]'},\n",
              " {76561198009934872: '[17440]'},\n",
              " {76561198011327441: '[364640]'},\n",
              " {76561198011575712: '[816090]'},\n",
              " {76561198011635974: '[630030, 640820, 435150, 249650, 766630, 362960, 320820, 261760]'},\n",
              " {76561198012200874: '[113200, 108710, 462770]'},\n",
              " {76561198012450297: '[219990]'},\n",
              " {76561198013085054: '[411300, 435150, 230230]'},\n",
              " {76561198013143420: '[435150, 924980, 230230]'},\n",
              " {76561198013356273: '[113200]'},\n",
              " {76561198013707326: '[411300]'},\n",
              " {76561198013938176: '[219990]'},\n",
              " {76561198014130933: '[435150]'},\n",
              " {76561198014992725: '[435150, 1172380]'},\n",
              " {76561198015146313: '[899770, 219990, 375480]'},\n",
              " {76561198015316951: '[39680]'},\n",
              " {76561198016157372: '[435150]'},\n",
              " {76561198016713318: '[858210, 6310]'},\n",
              " {76561198016835866: '[435150]'},\n",
              " {76561198016997891: '[234160, 234160, 234160, 234160, 234160, 234160, 761910, 362490, 234160, 234160, 234160]'},\n",
              " {76561198017223587: '[236090, 236090, 426290, 231740, 231740, 231740, 231740, 204060, 219990, 236090, 236090]'},\n",
              " {76561198017979468: '[435150, 807120, 219990]'},\n",
              " {76561198018065636: '[411300, 435150]'},\n",
              " {76561198018098019: '[1172380, 338390]'},\n",
              " {76561198018128679: '[589360]'},\n",
              " {76561198018763413: '[248550, 115120, 115120, 115120, 115120, 39160, 396750, 215530, 345180, 359900, 272470, 244710]'},\n",
              " {76561198020051451: '[424370, 219990]'},\n",
              " {76561198020166259: '[640820]'},\n",
              " {76561198020264388: '[236090, 236090, 403290, 278360, 251730, 421740, 256290, 274310, 236090, 236090]'},\n",
              " {76561198020822205: '[464360, 427910, 422810, 939990, 239820, 271260, 321270]'},\n",
              " {76561198020898916: '[248550, 236090, 236090, 234190, 234190, 234190, 234190, 234190, 234190, 402060, 80300, 359100, 263140, 435150, 955050, 430210, 278460, 346940, 912570, 274230, 229580, 201570, 828740, 657200, 236090, 236090, 234190, 234190, 234190]'},\n",
              " {76561198021468634: '[699170]'},\n",
              " {76561198021611058: '[219990]'},\n",
              " {76561198022218699: '[263280]'},\n",
              " {76561198022988900: '[558245, 531131, 531131, 531131, 531131, 411300, 388470, 227310, 65600, 41500, 39680, 39500, 39510, 787860, 992910, 284160, 2700, 616560, 475150, 635330, 304214, 266930, 258760]'},\n",
              " {76561198023290319: '[640820, 435150, 666140]'},\n",
              " {76561198023373866: '[42170, 424370]'},\n",
              " {76561198023461929: '[24010]'},\n",
              " {76561198023792903: '[571310, 571310, 571310, 571310, 489140, 1172380, 1166290, 322500, 269770]'},\n",
              " {76561198023808899: '[1151340, 1145360, 462770]'},\n",
              " {76561198024503980: '[256190, 256190, 234940, 234940, 475090, 19200, 581270, 278360, 352520, 513480, 256190, 256190, 234940, 234940]'},\n",
              " {76561198024953074: '[542340, 542340, 503480, 503480, 502910, 502910, 250580, 250580, 249870, 249870, 234940, 234940, 542340, 542340, 503480, 503480, 502910, 502910, 463110, 415030, 22320, 15740, 15740, 15740, 15740, 246900, 204630, 730620, 397540, 371970, 516110, 525040, 799500, 244710, 358030, 343820, 323341, 314660, 301910, 289090, 263360, 259620, 250580, 250580, 249870, 249870, 234940, 234940]'},\n",
              " {76561198025206104: '[503770]'},\n",
              " {76561198025297329: '[411300]'},\n",
              " {76561198025940837: '[2700, 285330]'},\n",
              " {76561198026180299: '[250520, 250520, 362490, 250520, 250520]'},\n",
              " {76561198026705133: '[284160]'},\n",
              " {76561198027115795: '[420610, 24010, 493340]'},\n",
              " {76561198027894958: '[435150]'},\n",
              " {76561198027957908: '[566090, 238750, 360270, 360280]'},\n",
              " {76561198028372840: '[237550, 237550, 22320, 640820, 237550, 237550]'},\n",
              " {76561198029008889: '[666140, 790850, 807120, 621070, 362960]'},\n",
              " {76561198029786988: '[666140]'},\n",
              " {76561198030283393: '[787860, 284160]'},\n",
              " {76561198031242202: '[253150, 253150, 402160, 362960, 253150, 253150]'},\n",
              " {76561198032076895: '[464360, 219990, 1241510]'},\n",
              " {76561198032087390: '[794260, 527100, 324740]'},\n",
              " {76561198032409901: '[493340]'},\n",
              " {76561198034248057: '[237990, 237990, 439190, 73010, 41500, 200710, 455820, 613100, 493340, 563840, 108710, 329860, 237990, 237990]'},\n",
              " {76561198034417208: '[22100]'},\n",
              " {76561198035344965: '[238630, 238630, 41500, 1110100, 115100, 544750, 448290, 281940, 238630, 238630]'},\n",
              " {76561198035470413: '[250520, 250520, 250520, 250520]'},\n",
              " {76561198035568468: '[493200, 640820, 435150, 351920, 955050]'},\n",
              " {76561198036183501: '[513370, 527230, 452060]'},\n",
              " {76561198036483765: '[645630]'},\n",
              " {76561198037001575: '[41900, 202750, 463720, 301910]'},\n",
              " {76561198037368743: '[346940]'},\n",
              " {76561198037529853: '[236090, 236090, 234390, 234390, 112100, 1104660, 681110, 1145360, 790060, 224820, 773740, 1067720, 1127680, 264220, 811870, 940680, 263560, 236090, 236090, 234390, 234390]'},\n",
              " {76561198038080161: '[435150]'},\n",
              " {76561198038150424: '[396750]'},\n",
              " {76561198038467332: '[385970, 640820, 228280]'},\n",
              " {76561198039149488: '[575820, 794260, 336440]'},\n",
              " {76561198040301381: '[237850]'},\n",
              " {76561198041374402: '[493340]'},\n",
              " {76561198041445825: '[430094, 640820, 1151340, 475150, 274310, 321300]'},\n",
              " {76561198041645047: '[228280]'},\n",
              " {76561198041775441: '[234650]'},\n",
              " {76561198042069229: '[571310, 571310, 236090, 236090, 603400, 603400, 600990, 600990, 571310, 571310, 492180, 474960, 452540, 18050, 406970, 493200, 455820, 353700, 534550, 805660, 228360, 368080, 274310, 265830, 865670, 847360, 838310, 680390, 609320, 340000, 322210, 314660, 281200, 281220, 245280, 236090, 236090, 603400, 603400, 600990, 600990, 587180]'},\n",
              " {76561198042135416: '[113200, 239820]'},\n",
              " {76561198042941548: '[297120]'},\n",
              " {76561198044054639: '[435150]'},\n",
              " {76561198044452724: '[794260]'},\n",
              " {76561198044596819: '[20900, 632470]'},\n",
              " {76561198045697175: '[435150, 445980]'},\n",
              " {76561198045867527: '[434030]'},\n",
              " {76561198046477994: '[632470, 1172380]'},\n",
              " {76561198047393503: '[113200]'},\n",
              " {76561198047898856: '[431620, 32370, 219990, 368340]'},\n",
              " {76561198048033090: '[254300, 254300, 729530, 254300, 254300]'},\n",
              " {76561198048798533: '[794260, 640820]'},\n",
              " {76561198048834187: '[450812, 640820, 435150, 807120]'},\n",
              " {76561198049433935: '[493340]'},\n",
              " {76561198050318083: '[113200]'},\n",
              " {76561198051605158: '[361320]'},\n",
              " {76561198052278843: '[94590, 94590, 94590, 94590, 33110, 22320, 466300, 537340, 228280, 383270, 265830, 523780, 523780, 523780, 523780, 444220, 321800, 281200]'},\n",
              " {76561198052330158: '[1151340, 219990]'},\n",
              " {76561198052658745: '[435150]'},\n",
              " {76561198053802714: '[435150, 10180]'},\n",
              " {76561198054690449: '[397240, 269670, 115100, 395140, 382920, 368730, 340390, 322080, 290040, 274310, 246960, 838310, 368830, 365120, 295910, 293440, 263520]'},\n",
              " {76561198054757693: '[493340]'},\n",
              " {76561198055516304: '[574980, 688420]'},\n",
              " {76561198056387337: '[351920, 368340]'},\n",
              " {76561198056812753: '[632470, 445190]'},\n",
              " {76561198056863324: '[435150, 666140, 493340, 535930]'},\n",
              " {76561198057607059: '[32370]'},\n",
              " {76561198058172409: '[10180, 22200]'},\n",
              " {76561198058553376: '[758190]'},\n",
              " {76561198060167219: '[22320]'},\n",
              " {76561198061736839: '[435150]'},\n",
              " {76561198063044152: '[435150, 493340]'},\n",
              " {76561198063559560: '[924980, 1121560]'},\n",
              " {76561198064014069: '[284160, 239820]'},\n",
              " {76561198064416012: '[588110, 904780]'},\n",
              " {76561198065302614: '[435150]'},\n",
              " {76561198065487246: '[219990]'},\n",
              " {76561198065573956: '[289950, 1112790]'},\n",
              " {76561198066188434: '[108710, 758330]'},\n",
              " {76561198066782729: '[200710, 113200]'},\n",
              " {76561198068065140: '[439190, 924980, 239820, 265000, 424370, 589360, 987720, 219990, 228280, 257350, 544750, 450700, 636570, 346420, 303790, 301910]'},\n",
              " {76561198068871662: '[435150, 475150, 363130]'},\n",
              " {76561198069181164: '[493340]'},\n",
              " {76561198069205842: '[435150]'},\n",
              " {76561198069644041: '[435150]'},\n",
              " {76561198071531076: '[250520, 250520, 505330, 278360, 270010, 290320, 269330, 250520, 250520]'},\n",
              " {76561198071900585: '[236090, 236090, 466300, 200710, 228280, 330390, 236090, 236090]'},\n",
              " {76561198072113131: '[633460, 2420, 10180, 337320, 530760]'},\n",
              " {76561198072185622: '[17390]'},\n",
              " {76561198072749092: '[269210, 323220]'},\n",
              " {76561198073064689: '[493340]'},\n",
              " {76561198073974479: '[200710]'},\n",
              " {76561198074521513: '[666140, 10180]'},\n",
              " {76561198074530948: '[816090, 10180]'},\n",
              " {76561198074837462: '[621060]'},\n",
              " {76561198074925547: '[397540, 496340]'},\n",
              " {76561198077174896: '[640820]'},\n",
              " {76561198077442430: '[493340]'},\n",
              " {76561198077817772: '[40390, 34830, 35140, 385600, 203750, 352520, 270570, 232750, 108710, 308060, 262770, 412730, 305980, 299950, 284890]'},\n",
              " {76561198077986969: '[200710]'},\n",
              " {76561198078683800: '[794260, 435150, 230230]'},\n",
              " {76561198078793197: '[374040, 269770, 323220]'},\n",
              " {76561198079217173: '[1091980]'},\n",
              " {76561198079768000: '[219990, 621070, 362490, 285330]'},\n",
              " {76561198081001300: '[368340]'},\n",
              " {76561198083972381: '[697550]'},\n",
              " {76561198084077567: '[548680, 236090, 236090, 592390, 592390, 492600, 436560, 225640, 225640, 225640, 225640, 29800, 200710, 794260, 234650, 249990, 345180, 424370, 219990, 323220, 110630, 110630, 110630, 110630, 914080, 363130, 331440, 293440, 236090, 236090, 592390, 592390]'},\n",
              " {76561198084334531: '[493340, 329380]'},\n",
              " {76561198084389994: '[262830, 219990, 274230]'},\n",
              " {76561198085189433: '[493180, 301970, 682450, 706960, 360450, 359450, 312510, 294000, 292570, 668280, 362810, 345990, 340440]'},\n",
              " {76561198086307960: '[588210]'},\n",
              " {76561198087011803: '[263280]'},\n",
              " {76561198088438839: '[527710, 527710, 527710, 527710, 48705, 239820, 203350, 830400]'},\n",
              " {76561198089171695: '[435150, 445980, 416600, 269210]'},\n",
              " {76561198090845660: '[451340]'},\n",
              " {76561198090924529: '[363130]'},\n",
              " {76561198092100436: '[645630, 315660]'},\n",
              " {76561198092638112: '[20900, 401680, 10180, 805940, 504770]'},\n",
              " {76561198092997899: '[284160, 263280]'},\n",
              " {76561198093636016: '[249680, 231330, 560430, 567060]'},\n",
              " {76561198094341549: '[200710, 1016800, 1071290, 1145360, 320040, 428660]'},\n",
              " {76561198094580007: '[411300, 794260, 435150, 733990]'},\n",
              " {76561198095273598: '[640820, 435150]'},\n",
              " {76561198095509978: '[263280]'},\n",
              " {76561198095585975: '[435150]'},\n",
              " {76561198095717771: '[677180]'},\n",
              " {76561198096891857: '[280180]'},\n",
              " {76561198097262717: '[435150]'},\n",
              " {76561198098792999: '[613100, 838630, 834280, 657200]'},\n",
              " {76561198099229002: '[219990]'},\n",
              " {76561198099277402: '[640820, 435150]'},\n",
              " {76561198101896645: '[394600, 284160, 593700, 593700, 593700, 593700, 574980, 322290]'},\n",
              " {76561198102417742: '[633230]'},\n",
              " {76561198102656979: '[527230, 960690, 323220]'},\n",
              " {76561198105554959: '[253390, 253390, 41500, 350740, 463150, 330180, 209060, 348460, 253390, 253390]'},\n",
              " {76561198106679790: '[435150]'},\n",
              " {76561198106729629: '[518620, 518620, 513032, 513032, 256190, 256190, 248530, 518620, 518620, 513032, 513032, 474763, 474764, 474765, 396930, 395150, 393610, 359100, 372250, 382160, 404680, 474766, 35130, 489140, 619780, 231330, 339200, 686200, 216910, 280180, 326720, 274230, 595920, 595920, 533010, 533010, 595920, 595920, 533010, 533010, 244710, 934780, 654430, 822094, 372960, 364720, 336940, 331440, 322210, 316890, 278620, 256190, 256190]'},\n",
              " {76561198107529465: '[439190, 214170, 214170, 214170, 214170, 366440, 108710, 528230, 315860]'},\n",
              " {76561198107789400: '[24010, 1069640]'},\n",
              " {76561198110023102: '[435150, 321300]'},\n",
              " {76561198110707734: '[1172380, 657200]'},\n",
              " {76561198110862694: '[20900, 585450, 345180, 256290, 289520]'},\n",
              " {76561198111504145: '[613100]'},\n",
              " {76561198111550177: '[10180, 337320, 225260]'},\n",
              " {76561198113002146: '[225640, 225640, 225640, 225640, 1100600]'},\n",
              " {76561198114590848: '[239820, 445190]'},\n",
              " {76561198115585221: '[666140]'},\n",
              " {76561198117696010: '[539470, 321300, 260930]'},\n",
              " {76561198118950602: '[481190, 527100]'},\n",
              " {76561198119652039: '[237990, 237990, 281640, 290770, 237990, 237990]'},\n",
              " {76561198120062923: '[613100, 493340]'},\n",
              " {76561198120135745: '[640820, 666140]'},\n",
              " {76561198120281530: '[787860]'},\n",
              " {76561198122204487: '[20900, 475150]'},\n",
              " {76561198123353482: '[555150, 555150, 555150, 555150, 666140, 616560, 320040, 605920, 1066780, 368340, 266170]'},\n",
              " {76561198123900718: '[269770]'},\n",
              " {76561198124395788: '[758190]'},\n",
              " {76561198124544458: '[22320]'},\n",
              " {76561198126243590: '[1071290]'},\n",
              " {76561198126746216: '[284160]'},\n",
              " {76561198128433900: '[302610]'},\n",
              " {76561198129866385: '[758330]'},\n",
              " {76561198130273096: '[330390]'},\n",
              " {76561198132357030: '[374040, 371970, 323220]'},\n",
              " {76561198133934536: '[24010]'},\n",
              " {76561198137578306: '[256290, 228280]'},\n",
              " {76561198137816258: '[219990]'},\n",
              " {76561198139962073: '[581630, 793350, 697010]'},\n",
              " {76561198140860695: '[666140]'},\n",
              " {76561198144068511: '[246900]'},\n",
              " {76561198144557993: '[20900]'},\n",
              " {76561198145987013: '[397340]'},\n",
              " {76561198147590184: '[529760, 529760, 529760, 529760, 284160, 645630, 434250, 344130]'},\n",
              " {76561198149374353: '[263280]'},\n",
              " {76561198151819542: '[410110, 1172380, 274230]'},\n",
              " {76561198154705893: '[435150]'},\n",
              " {76561198154996171: '[435150]'},\n",
              " {76561198156016568: '[794260]'},\n",
              " {76561198156576943: '[319250]'},\n",
              " {76561198157106673: '[428690]'},\n",
              " {76561198158618992: '[823610, 251730, 329040, 317370]'},\n",
              " {76561198160047664: '[666140]'},\n",
              " {76561198161349373: '[595140, 595140, 435150, 595140, 595140]'},\n",
              " {76561198161782414: '[113200]'},\n",
              " {76561198161785138: '[284160]'},\n",
              " {76561198162553073: '[234940, 234940, 214170, 214170, 214170, 214170, 350640, 322020, 234940, 234940]'},\n",
              " {76561198162890832: '[666140]'},\n",
              " {76561198163834595: '[538810, 538810, 538810, 538810, 500810, 492870, 424250, 387010, 20900, 989770, 621060, 645630, 239820, 616560, 371520, 383790, 868360, 959520, 293160]'},\n",
              " {76561198163920549: '[337320, 368860]'},\n",
              " {76561198164306900: '[527750, 527750, 503140, 503140, 527750, 527750, 503140, 503140, 471380, 448380, 384500, 564230, 204630, 582270, 771810, 350740, 337880, 250500, 250500, 250500, 250500, 461480, 597230, 373750, 359310, 356070]'},\n",
              " {76561198166179067: '[22320]'},\n",
              " {76561198166916905: '[2700]'},\n",
              " {76561198170720634: '[17390]'},\n",
              " {76561198172449234: '[39500]'},\n",
              " {76561198176299431: '[666140]'},\n",
              " {76561198178448077: '[226720, 226720, 226720, 226720, 493340, 494840]'},\n",
              " {76561198184675587: '[794260, 612720]'},\n",
              " {76561198186791983: '[666140]'},\n",
              " {76561198187102199: '[493340]'},\n",
              " {76561198192577807: '[859570, 495420]'},\n",
              " {76561198194711709: '[526540, 219990]'},\n",
              " {76561198200188929: '[666140, 724970]'},\n",
              " {76561198204016252: '[374040, 378030]'},\n",
              " {76561198210359535: '[807120, 219990]'},\n",
              " {76561198211666024: '[24010, 263060, 555750, 657200]'},\n",
              " {76561198217116651: '[22100]'},\n",
              " {76561198218623111: '[39200, 544750]'},\n",
              " {76561198222769968: '[794260, 435150]'},\n",
              " {76561198224115936: '[807120, 284160, 646270, 339440]'},\n",
              " {76561198224988136: '[17390]'},\n",
              " {76561198235966624: '[537110, 537110, 537110, 537110, 666140]'},\n",
              " {76561198242762528: '[269770]'},\n",
              " {76561198247612546: '[282560]'},\n",
              " {76561198256583846: '[733990]'},\n",
              " {76561198258792635: '[666140]'},\n",
              " {76561198261119377: '[20900]'},\n",
              " {76561198270990213: '[368340]'},\n",
              " {76561198271980318: '[439540, 528230]'},\n",
              " {76561198273532324: '[2700]'},\n",
              " {76561198275155078: '[428690]'},\n",
              " {76561198276541566: '[397340]'},\n",
              " {76561198281697275: '[269670]'},\n",
              " {76561198281853287: '[239820, 574720]'},\n",
              " {76561198283066051: '[363930]'},\n",
              " {76561198284221231: '[557340, 337320, 430210]'},\n",
              " {76561198285500508: '[241910, 241910, 464080, 402390, 17390, 581270, 493200, 105000, 215530, 243200, 345180, 756880, 359900, 272470, 709410, 457680, 789740, 758090, 925440, 241910, 241910]'},\n",
              " {76561198286652027: '[3710, 219990]'},\n",
              " {76561198299845082: '[263280]'},\n",
              " {76561198300309203: '[666140]'},\n",
              " {76561198301378372: '[633230, 322500]'},\n",
              " {76561198306229021: '[32370, 581630, 597170]'},\n",
              " {76561198307907169: '[493340, 239820]'},\n",
              " {76561198310142328: '[284160, 657240, 269770]'},\n",
              " {76561198313344679: '[1094780]'},\n",
              " {76561198318202088: '[493340]'},\n",
              " {76561198327768210: '[433530]'},\n",
              " {76561198335259031: '[20900, 202750, 108710]'},\n",
              " {76561198336770238: '[597220, 597220, 435150, 960690, 557340, 323220, 462770, 597220, 597220]'},\n",
              " {76561198346051998: '[475150]'},\n",
              " {76561198348176200: '[440650]'},\n",
              " {76561198348732359: '[386620, 239820]'},\n",
              " {76561198379266485: '[435150]'},\n",
              " {76561198380950041: '[263280]'},\n",
              " {76561198385014075: '[847370]'},\n",
              " {76561198389819761: '[368340]'},\n",
              " {76561198394142275: '[645630]'},\n",
              " {76561198401254225: '[645630]'},\n",
              " {76561198405560120: '[787860, 1172380, 16900]'},\n",
              " {76561198405923964: '[397540, 219990, 1172380, 544750]'},\n",
              " {76561198417819579: '[200710]'},\n",
              " {76561198418005451: '[200710, 424370]'},\n",
              " {76561198419055412: '[565670, 240500, 240500, 485240, 477270, 434030, 591790, 862390, 741430, 240500, 240500]'},\n",
              " {76561198429368178: '[374040]'},\n",
              " {76561198450823840: '[553310]'},\n",
              " {76561198732173290: '[219990]'},\n",
              " {76561198802717827: '[493340]'},\n",
              " {76561198815295364: '[284160, 645630, 274900]'},\n",
              " {76561198816271429: '[640820]'},\n",
              " {76561198839469700: '[621060, 488550, 982590]'},\n",
              " {76561198842210389: '[466300, 228280]'},\n",
              " {76561198845704358: '[493340]'},\n",
              " {76561198853859092: '[613100]'},\n",
              " {76561198859383746: '[20900, 632470, 32370, 847370, 108710]'},\n",
              " {76561198860020526: '[557340, 847370, 597170, 671620]'},\n",
              " {76561198874900791: '[15320]'},\n",
              " {76561198910505899: '[435150, 632470]'},\n",
              " {76561197960507024: '[435150]'},\n",
              " {76561197960738156: '[621060, 493340, 1133000]'},\n",
              " {76561197960857319: '[200710, 32370, 366440]'},\n",
              " {76561197961098939: '[666140, 246090, 236090, 236090, 593530, 593530, 580320, 580320, 236090, 236090, 593530, 593530, 580320, 580320]'},\n",
              " {76561197962412119: '[402120, 222640, 222640, 222640, 222640, 699170, 424370, 280180, 975680, 261490, 595140, 595140, 595140, 595140]'},\n",
              " {76561197962497595: '[452060, 535930]'},\n",
              " {76561197963749182: '[203750, 1168880]'},\n",
              " {76561197963837146: '[33770, 20900, 435150, 632470, 234650, 230230]'},\n",
              " {76561197963953952: '[643830]'},\n",
              " {76561197965127215: '[22100, 20900, 215530]'},\n",
              " {76561197965340976: '[27330, 219990, 362490]'},\n",
              " {76561197966579618: '[269210, 219990]'},\n",
              " {76561197968129461: '[269210]'},\n",
              " {76561197968936563: '[35140, 219990, 697550]'},\n",
              " {76561197969270637: '[219990]'},\n",
              " {76561197969491000: '[794260, 272470]'},\n",
              " {76561197969653270: '[234650, 219990, 368390]'},\n",
              " {76561197970288304: '[475150, 219990]'},\n",
              " {76561197970624854: '[640820, 1172380]'},\n",
              " {76561197970681816: '[520010, 475190]'},\n",
              " {76561197970973195: '[219990]'},\n",
              " {76561197970980327: '[396750, 527230, 435150, 445980, 269210, 952890, 269770, 323220]'},\n",
              " {76561197971263608: '[200710, 352520]'},\n",
              " {76561197971732015: '[640820]'},\n",
              " {76561197972020308: '[396750, 816090, 528230]'},\n",
              " {76561197972812146: '[228280]'},\n",
              " {76561197973373512: '[435150, 638000]'},\n",
              " {76561197974315887: '[331810, 435150, 230230, 362490]'},\n",
              " {76561197974346723: '[787860, 477270]'},\n",
              " {76561197975041106: '[219990]'},\n",
              " {76561197975523241: '[621060]'},\n",
              " {76561197978886906: '[632470, 1145360]'},\n",
              " {76561197979276478: '[200710, 435150]'},\n",
              " {76561197980022536: '[219990]'},\n",
              " {76561197980533101: '[371520]'},\n",
              " {76561197980999516: '[346940]'},\n",
              " {76561197981329841: '[435150, 113200, 314790, 494430]'},\n",
              " {76561197981373715: '[257350]'},\n",
              " {76561197981518383: '[200710]'},\n",
              " {76561197982704567: '[352520, 569860, 411300]'},\n",
              " {76561197983082375: '[368340, 523780, 523780, 523780, 523780]'},\n",
              " {76561197983225082: '[388477, 227310, 225640, 225640, 223430, 223430, 208630, 208630, 94300, 94300, 225640, 225640, 223430, 223430, 208630, 208630, 94300, 94300, 42170, 33120, 388471, 374040, 264540, 24010, 204630, 397340, 105000, 113200, 215530, 897670, 243200, 345180, 475150, 269210, 219990, 638000, 352360, 317950, 219190, 219190, 219190, 219190, 372930, 372940, 359310, 359140, 344030, 313470, 311480, 304214, 302080, 286540, 284890, 277870, 264580, 264300, 258760, 255870, 255870, 237550, 237550, 236090, 236090, 234920, 234920, 597220, 597220, 560740, 560740, 558245, 531131, 531131, 255870, 255870, 237550, 237550, 236090, 236090, 234920, 234920, 597220, 597220, 560740, 560740, 531131, 531131, 464360, 458480, 455400]'},\n",
              " {76561197983889958: '[397150, 374040, 335620, 640820]'},\n",
              " {76561197984752913: '[794260, 435150]'},\n",
              " {76561197984892336: '[22320]'},\n",
              " {76561197986483347: '[645630, 337180]'},\n",
              " {76561197986936933: '[219990]'},\n",
              " {76561197989109086: '[435150]'},\n",
              " {76561197989763893: '[284160]'},\n",
              " {76561197990324550: '[219990]'},\n",
              " {76561197990616697: '[200710, 230230]'},\n",
              " {76561197990814751: '[94590, 94590, 94590, 94590, 434650, 350640, 345180, 108710, 535930]'},\n",
              " {76561197990943410: '[640820, 493340, 228280, 257350, 380150]'},\n",
              " {76561197991126395: '[284160, 397340]'},\n",
              " {76561197991256815: '[424370, 230230, 219990]'},\n",
              " {76561197991944157: '[427930, 1038810, 377530, 987720, 351100, 219990, 658790, 621070, 607820, 556740, 556740, 556740, 556740, 458730, 427030]'},\n",
              " {76561197992840106: '[401680, 844590, 516110, 234190, 234190, 234190, 234190, 234190, 234190, 234190, 234190, 234190]'},\n",
              " {76561197992840272: '[219990]'},\n",
              " {76561197993641045: '[632470, 219990, 1172380, 609320]'},\n",
              " {76561197993663344: '[515180, 530070, 1172380, 824190]'},\n",
              " {76561197993814722: '[753420, 272620, 204340, 304530, 227780]'},\n",
              " {76561197993943958: '[204630, 32370]'},\n",
              " {76561197994546826: '[435150]'},\n",
              " {76561197994992384: '[435150, 1066780, 801670]'},\n",
              " {76561197995252451: '[916840, 368340, 922100]'},\n",
              " {76561197995741415: '[435150, 24010, 493340, 494840, 346940, 535930, 306760]'},\n",
              " {76561197997008067: '[99300, 99300, 99300, 99300, 4470, 10270, 338390, 236090, 236090, 236090, 236090]'},\n",
              " {76561197997151480: '[257350]'},\n",
              " {76561197998013220: '[113200, 853550, 464620]'},\n",
              " {76561197998531985: '[842100, 108710, 474960]'},\n",
              " {76561197998685955: '[493340]'},\n",
              " {76561197998954904: '[392260, 566090, 613100, 666140, 238750, 840010, 362960]'},\n",
              " {76561198000325175: '[435150, 632470, 400630]'},\n",
              " {76561198003022435: '[390560, 574980, 595140, 595140, 547590, 547590, 595140, 595140, 547590, 547590]'},\n",
              " {76561198003174259: '[222640, 222640, 214170, 214170, 222640, 222640, 214170, 214170, 396750, 335620, 200710, 435150, 1151340, 807120, 493340, 589360, 230230, 617480, 2870, 271260, 1172380, 535930, 328740, 928390, 758190, 366910, 242530, 242530, 236090, 236090, 574090, 242530, 242530, 236090, 236090, 603940]'},\n",
              " {76561198003306421: '[363890]'},\n",
              " {76561198003400422: '[251230, 1145360, 445980, 897670, 345180, 424370, 219990, 1068260, 362490, 462780, 436560, 411300]'},\n",
              " {76561198003423756: '[435150, 847370]'},\n",
              " {76561198003519198: '[435150]'},\n",
              " {76561198003929098: '[2700]'},\n",
              " {76561198005185089: '[1151340, 1172380]'},\n",
              " {76561198005553552: '[963930]'},\n",
              " {76561198005819539: '[230230, 368340]'},\n",
              " {76561198006321617: '[666140, 699170, 310060, 289090, 267750, 239120, 239120, 239120, 239120, 458480, 431840]'},\n",
              " {76561198006364182: '[308270]'},\n",
              " {76561198006612056: '[493340, 535930, 289930]'},\n",
              " {76561198006742187: '[632470, 397540, 230230]'},\n",
              " {76561198006767291: '[666140]'},\n",
              " {76561198006920960: '[682990, 445190, 1069640]'},\n",
              " {76561198007444818: '[573600, 1151340, 1142500]'},\n",
              " {76561198007706576: '[113200]'},\n",
              " {76561198007851254: '[699170]'},\n",
              " {76561198009459586: '[371970, 556050]'},\n",
              " {76561198009922047: '[219950, 20900, 1038810, 310060, 256290, 354740, 292570, 262770, 524850, 524850, 524850, 524850, 416380, 444220, 838310, 375520, 352440, 331440, 329860, 322290, 303790, 270330, 587310, 587310, 587310, 587310, 427680]'},\n",
              " {76561198010429902: '[108110, 108110, 108110, 108110, 640820, 215530, 249650, 219990, 274310, 609320, 424250]'},\n",
              " {76561198010736559: '[363930]'},\n",
              " {76561198011112416: '[22320, 10180]'},\n",
              " {76561198011352484: '[403270, 435150]'},\n",
              " {76561198011375670: '[435150]'},\n",
              " {76561198011445153: '[435150, 924980, 304530, 871200]'},\n",
              " {76561198012038591: '[57400, 35140]'},\n",
              " {76561198012064253: '[435150]'},\n",
              " {76561198012352930: '[219990]'},\n",
              " {76561198012877402: '[356430]'},\n",
              " {76561198012952660: '[640820, 237430, 32370, 230230, 219990, 421630, 237990, 237990, 237990, 237990, 446330, 446310]'},\n",
              " {76561198013079469: '[640820, 435150]'},\n",
              " {76561198013425548: '[764790]'},\n",
              " {76561198014183307: '[588030, 834280]'},\n",
              " {76561198014892584: '[640820]'},\n",
              " {76561198015201251: '[219990]'},\n",
              " {76561198015885711: '[435150, 493340, 2700, 113200, 249990]'},\n",
              " {76561198015890137: '[435150]'},\n",
              " {76561198015997620: '[817540, 640820, 230230, 1058130]'},\n",
              " {76561198016432821: '[1082710]'},\n",
              " {76561198016636379: '[113200]'},\n",
              " {76561198016884377: '[640820, 1145360, 368340]'},\n",
              " {76561198017156083: '[632470, 1145360, 256290, 462770]'},\n",
              " {76561198018064895: '[435150]'},\n",
              " {76561198018531345: '[10180]'},\n",
              " {76561198019131479: '[424370, 219990]'},\n",
              " {76561198019694347: '[466300, 640820]'},\n",
              " {76561198020920466: '[666140, 645630, 679900]'},\n",
              " {76561198021148435: '[535930]'},\n",
              " {76561198021457458: '[535930]'},\n",
              " {76561198021607566: '[39160]'},\n",
              " {76561198022399127: '[435150]'},\n",
              " {76561198022550964: '[435150]'},\n",
              " {76561198022653911: '[330390]'},\n",
              " {76561198023055866: '[396750, 213610, 256290, 32350, 312650, 236090, 236090, 234160, 234160, 234160, 236090, 236090, 234160, 234160, 234160, 234160, 234160, 234160]'},\n",
              " {76561198023457792: '[239820]'},\n",
              " {76561198024349855: '[24720, 17390, 246090, 613390, 346420]'},\n",
              " {76561198024439666: '[346830, 285740]'},\n",
              " {76561198025582907: '[246900, 434650, 323220, 1076280, 336940, 315840]'},\n",
              " {76561198025997191: '[22320, 289090]'},\n",
              " {76561198026088595: '[39680, 20900]'},\n",
              " {76561198026638635: '[17390]'},\n",
              " {76561198026653936: '[200710]'},\n",
              " {76561198026876096: '[10180, 113200]'},\n",
              " {76561198026996027: '[219990]'},\n",
              " {76561198027360986: '[351920, 758190]'},\n",
              " {76561198027945378: '[632470, 844590]'},\n",
              " {76561198028306564: '[640820, 230230]'},\n",
              " {76561198028384296: '[794260, 435150]'},\n",
              " {76561198028481018: '[246900, 1051690, 337350, 368730, 113204, 113204, 113204, 113204]'},\n",
              " {76561198029015930: '[435150, 1145360]'},\n",
              " {76561198031219770: '[435150]'},\n",
              " {76561198031617490: '[640820, 435150]'},\n",
              " {76561198031869631: '[22320, 238750, 228280, 10270, 590610, 590610, 590610, 590610]'},\n",
              " {76561198032791443: '[22320, 435150, 115100, 280140, 337980, 277470, 236090, 236090, 236090, 236090]'},\n",
              " {76561198033280849: '[248550]'},\n",
              " {76561198033353849: '[666140, 230230, 505730]'},\n",
              " {76561198033677926: '[375480]'},\n",
              " {76561198034508352: '[35140, 204060, 115100]'},\n",
              " {76561198034736794: '[435150]'},\n",
              " {76561198034881656: '[585450, 1145360, 256290, 503560, 368340, 462770]'},\n",
              " {76561198035248212: '[435150]'},\n",
              " {76561198035266400: '[666140, 1172380]'},\n",
              " {76561198035579912: '[787860, 730620]'},\n",
              " {76561198035748682: '[219990]'},\n",
              " {76561198036146589: '[113200]'},\n",
              " {76561198036215660: '[435150, 230230]'},\n",
              " {76561198036316719: '[640820, 632470]'},\n",
              " {76561198037184970: '[239820]'},\n",
              " {76561198037519657: '[475150]'},\n",
              " {76561198038173522: '[435150]'},\n",
              " {76561198038194340: '[494840, 307960]'},\n",
              " {76561198038329997: '[17390, 335620, 807120, 234650, 346940, 321800, 265210, 521920, 521920, 521920, 521920]'},\n",
              " {76561198038378284: '[41050, 227780]'},\n",
              " {76561198038398537: '[374040, 368340, 623640, 422810]'},\n",
              " {76561198038655989: '[1226470, 544750]'},\n",
              " {76561198039450082: '[1172380]'},\n",
              " {76561198039847500: '[32370, 603870]'},\n",
              " {76561198039987043: '[400450, 72200, 41900, 22320, 20530, 112100, 640820, 351920, 310060, 239820, 230230, 363530, 269210, 366640, 316790, 1058020, 272470, 322500, 63910, 523780, 523780, 523780, 523780, 201570, 15560, 623940, 359310, 337980, 281200, 262940, 258090, 258090, 236090, 236090, 557680, 557680, 555150, 555150, 522210, 522210, 258090, 258090, 236090, 236090, 557680, 557680, 555150, 555150, 522210, 522210, 474960]'},\n",
              " {76561198040359300: '[451340]'},\n",
              " {76561198040375092: '[22320, 807120, 32370, 569860]'},\n",
              " {76561198040603814: '[924980, 267750]'},\n",
              " {76561198040958128: '[435150]'},\n",
              " {76561198041001544: '[24720, 239820]'},\n",
              " {76561198041100696: '[840010]'},\n",
              " {76561198041423412: '[632470, 1145360]'},\n",
              " {76561198042005845: '[397540, 322500]'},\n",
              " {76561198042018586: '[527230]'},\n",
              " {76561198042429525: '[1100600]'},\n",
              " {76561198042682267: '[263280]'},\n",
              " {76561198042810291: '[794260, 1172380]'},\n",
              " {76561198042854970: '[435150]'},\n",
              " {76561198043599820: '[345180, 219990, 362810]'},\n",
              " {76561198044083919: '[424370, 219990, 911550]'},\n",
              " {76561198045186939: '[404680, 666140]'},\n",
              " {76561198046709923: '[249650, 219990]'},\n",
              " {76561198047366198: '[22320, 12810, 12810, 12810, 12810, 35140, 435150, 3710, 32370, 10180, 1172380, 224820]'},\n",
              " {76561198047587429: '[204340, 113200, 528230]'},\n",
              " {76561198049840096: '[22320, 435150, 495420, 530760, 617830]'},\n",
              " {76561198049904353: '[435150]'},\n",
              " {76561198049937602: '[640820]'},\n",
              " {76561198050021269: '[738540, 239120, 239120, 239120, 239120]'},\n",
              " {76561198050038391: '[24010]'},\n",
              " {76561198051192827: '[20900]'},\n",
              " ...]"
            ]
          },
          "metadata": {
            "tags": []
          },
          "execution_count": 7
        }
      ]
    },
    {
      "cell_type": "code",
      "metadata": {
        "id": "bJ_N-OGCNx2W",
        "colab_type": "code",
        "colab": {}
      },
      "source": [
        "# create function to get user's game list by SteamID\n",
        "def userGames(UserID):\n",
        "  for i in range(len(df_dict)):\n",
        "    for key, values in df_dict[i].items():\n",
        "      if key==UserID:\n",
        "        userA_games = df_dict[i][UserID]\n",
        "  return userA_games"
      ],
      "execution_count": 0,
      "outputs": []
    },
    {
      "cell_type": "markdown",
      "metadata": {
        "colab_type": "text",
        "id": "5ValuStjmM0p"
      },
      "source": [
        "### User similarity: Euclidean Distance"
      ]
    },
    {
      "cell_type": "markdown",
      "metadata": {
        "id": "IN2gcBu-BCsS",
        "colab_type": "text"
      },
      "source": [
        "#### Cluster 1: Devoters' distance (active & inactive)"
      ]
    },
    {
      "cell_type": "code",
      "metadata": {
        "id": "oyrN7wOMAxM3",
        "colab_type": "code",
        "colab": {}
      },
      "source": [
        "# load user profiles\n",
        "active_devoter = spark.read.csv(\"/content/drive/My Drive/steam/Jun4th analysis/active_devoter.csv\", \n",
        "                         inferSchema = True, header = True)\n",
        "\n",
        "inactive_devoter = spark.read.csv(\"/content/drive/My Drive/steam/Jun4th analysis/inactive_devoter.csv\", \n",
        "                         inferSchema = True, header = True)\n",
        "\n",
        "df1,df2 = inactive_devoter.randomSplit([0.1, 0.9],seed=1234)"
      ],
      "execution_count": 0,
      "outputs": []
    },
    {
      "cell_type": "code",
      "metadata": {
        "id": "f_ay1BQq3Mwu",
        "colab_type": "code",
        "colab": {}
      },
      "source": [
        "# vector transformation for active devoter \n",
        "activeDevoterAssembler = VectorAssembler(inputCols=[\"NumGamesOwned_Scaled\", \"NumReviewsGiven_Scaled\",\n",
        "                          \"Action-Adventure\", \"RPG\", \"Simulation\", \"RecommendedPercent\", \n",
        "                          \"SteamAgeProxy_Scaled\", \"topic_0\", \"topic_1\", \"topic_2\", \n",
        "                          \"topic_3\", \"topic_4\", \"topic_5\"], outputCol=\"features\")\n",
        "activeDevoterOutput = activeDevoterAssembler.transform(active_devoter)\n",
        "\n",
        "# vector transformation for inactive devoter\n",
        "inactiveDevoterAssembler = VectorAssembler(inputCols=[\"NumGamesOwned_Scaled\", \"NumReviewsGiven_Scaled\",\n",
        "                          \"Action-Adventure\", \"RPG\", \"Simulation\", \"RecommendedPercent\", \n",
        "                          \"SteamAgeProxy_Scaled\", \"topic_0\", \"topic_1\", \"topic_2\", \n",
        "                          \"topic_3\", \"topic_4\", \"topic_5\"], outputCol=\"features\")\n",
        "inactiveDevoterOutput = inactiveDevoterAssembler.transform(df1)"
      ],
      "execution_count": 0,
      "outputs": []
    },
    {
      "cell_type": "code",
      "metadata": {
        "id": "3L4YLyN511Gw",
        "colab_type": "code",
        "colab": {}
      },
      "source": [
        "from pyspark.ml.feature import BucketedRandomProjectionLSH\n",
        "\n",
        "brp1 = BucketedRandomProjectionLSH(\n",
        "    inputCol=\"features\", outputCol=\"hashes\", seed=123, bucketLength=1.0\n",
        ")\n",
        "\n",
        "similarity_model1 = brp1.fit(activeDevoterOutput)\n",
        "df_similarity1 = similarity_model1.approxSimilarityJoin(inactiveDevoterOutput, \n",
        "                                  activeDevoterOutput, 3.0, distCol=\"EuclideanDistance\")"
      ],
      "execution_count": 0,
      "outputs": []
    },
    {
      "cell_type": "code",
      "metadata": {
        "id": "T9p-AX_X16em",
        "colab_type": "code",
        "outputId": "15e45e59-0640-4785-951f-59b92d9bf6bf",
        "colab": {
          "base_uri": "https://localhost:8080/",
          "height": 440
        }
      },
      "source": [
        "devoter_EulideanDis_tbl = df_similarity1.select(col(\"datasetA.SteamID\").alias(\"UserA\"), \n",
        "         col(\"datasetB.SteamID\").alias(\"UserB\"), \n",
        "         col(\"EuclideanDistance\")).distinct()\n",
        "\n",
        "devoter_EulideanDis_tbl.show()"
      ],
      "execution_count": 0,
      "outputs": [
        {
          "output_type": "stream",
          "text": [
            "+-----------------+-----------------+------------------+\n",
            "|            UserA|            UserB| EuclideanDistance|\n",
            "+-----------------+-----------------+------------------+\n",
            "|76561197960295032|76561197960280818| 1.248838260144203|\n",
            "|76561197960295032|76561197960283776| 2.977727153383936|\n",
            "|76561197960295032|76561197960298812|1.6960462847457909|\n",
            "|76561197960295032|76561197960346125|1.9093268447282672|\n",
            "|76561197960295032|76561197960364583|1.6301171737025533|\n",
            "|76561197960295032|76561197960400654|1.2936228198358284|\n",
            "|76561197960295032|76561197960420417| 2.016042410268197|\n",
            "|76561197960295032|76561197960421566|2.0634589891732764|\n",
            "|76561197960295032|76561197960459248|1.9158697763679033|\n",
            "|76561197960295032|76561197960522768|1.7820235688677073|\n",
            "|76561197960295032|76561197960553379|1.6049847351299014|\n",
            "|76561197960295032|76561197960559801| 2.428085871628102|\n",
            "|76561197960295032|76561197960614640|1.6789094674817935|\n",
            "|76561197960295032|76561197960629784|1.3797133760314133|\n",
            "|76561197960295032|76561197960691134|2.2698334740680868|\n",
            "|76561197960295032|76561197960702643| 2.329432978215943|\n",
            "|76561197960295032|76561197960724803| 2.230926713274105|\n",
            "|76561197960295032|76561197960730346|2.8476332277875955|\n",
            "|76561197960295032|76561197960753308|2.5528871890469427|\n",
            "|76561197960295032|76561197960772088|2.3486517408930596|\n",
            "+-----------------+-----------------+------------------+\n",
            "only showing top 20 rows\n",
            "\n"
          ],
          "name": "stdout"
        }
      ]
    },
    {
      "cell_type": "code",
      "metadata": {
        "id": "b1ixn-g0JSFo",
        "colab_type": "code",
        "outputId": "b7e8ff78-9ea9-43b1-b1db-f733550d1f0d",
        "colab": {
          "base_uri": "https://localhost:8080/",
          "height": 277
        }
      },
      "source": [
        "inactive_pair = devoter_EulideanDis_tbl.groupBy(\"UserA\")\\\n",
        "                       .agg(F.min('EuclideanDistance').alias('EuclideanDistance'))\\\n",
        "                       .select(\"*\")\n",
        "\n",
        "inactive_pair = inactive_pair.join(devoter_EulideanDis_tbl, on=[\"UserA\", \"EuclideanDistance\"])\\\n",
        "                              .select(\"userA\", \"UserB\", \n",
        "                                      \"EuclideanDistance\").distinct()\n",
        "\n",
        "inactive_pair.show(10)"
      ],
      "execution_count": 17,
      "outputs": [
        {
          "output_type": "stream",
          "text": [
            "+-----------------+-----------------+-------------------+\n",
            "|            userA|            UserB|  EuclideanDistance|\n",
            "+-----------------+-----------------+-------------------+\n",
            "|76561197960295032|76561198031486715|0.41524330217355704|\n",
            "|76561197960303585|76561197968382911|0.31588763825132504|\n",
            "|76561197960306905|76561198043299317|0.18422811946062956|\n",
            "|76561197960324748|76561197970634617| 0.0710281634283191|\n",
            "|76561197960335466|76561198089686836|0.08296987405076615|\n",
            "|76561197960349958|76561198099844738| 0.2025685069303716|\n",
            "|76561197960360151|76561198085450333| 0.2668239119719221|\n",
            "|76561197960363688|76561198025527119| 0.3286152765773376|\n",
            "|76561197960366574|76561198039484980|0.09577577981932593|\n",
            "|76561197960402429|76561198055506171|0.09954396013822235|\n",
            "+-----------------+-----------------+-------------------+\n",
            "only showing top 10 rows\n",
            "\n"
          ],
          "name": "stdout"
        }
      ]
    },
    {
      "cell_type": "code",
      "metadata": {
        "id": "zctINfce4Lw7",
        "colab_type": "code",
        "colab": {}
      },
      "source": [
        "inactive_pair.toPandas().to_csv(\"/content/drive/My Drive/steam/Jun4th analysis/short_inactive_pair.csv\", index=False)"
      ],
      "execution_count": 0,
      "outputs": []
    },
    {
      "cell_type": "code",
      "metadata": {
        "id": "LzmiBdcXmDLX",
        "colab_type": "code",
        "outputId": "f4531162-28f5-43a9-f62b-8a7ffef371f7",
        "colab": {
          "base_uri": "https://localhost:8080/",
          "height": 50
        }
      },
      "source": [
        "# inactive explorer: user 76561197960295032\n",
        "print(userGames(76561197960295032)) # Hero Siege RPG\n",
        "\n",
        "# his paired active explorer with shorest distance: user 76561198031486715\n",
        "print(userGames(76561198031486715)) # Wolcen: Lords of Mayhem: RPG; Man O' War: Corsair: Ation-Adventure"
      ],
      "execution_count": 0,
      "outputs": [
        {
          "output_type": "stream",
          "text": [
            "[269210]\n",
            "[424370, 344240]\n"
          ],
          "name": "stdout"
        }
      ]
    },
    {
      "cell_type": "code",
      "metadata": {
        "id": "ki_jKd2wmZPB",
        "colab_type": "code",
        "outputId": "87ad8b6f-24e0-4404-89ab-613c28b4d1ea",
        "colab": {
          "base_uri": "https://localhost:8080/",
          "height": 50
        }
      },
      "source": [
        "# inactive explorer: user 76561197960303585\n",
        "print(userGames(76561197960303585)) # Grim Dawn: Ation-Adventure\n",
        "\n",
        "# his paired active explorer with shorest distance: user 76561197968382911\n",
        "print(userGames(76561197968382911)) # She Sees Red: Ation-Adventure; LEGO¬Æ Pirates of the Caribbean The Video Game\n",
        "                                    # Draugen: Ation-Adventure"
      ],
      "execution_count": 0,
      "outputs": [
        {
          "output_type": "stream",
          "text": [
            "[219990]\n",
            "[1081510, 311770, 770390]\n"
          ],
          "name": "stdout"
        }
      ]
    },
    {
      "cell_type": "markdown",
      "metadata": {
        "id": "abVm0d_yBRw6",
        "colab_type": "text"
      },
      "source": [
        "#### Cluster 2: Explorers' distance (active & inactive)"
      ]
    },
    {
      "cell_type": "code",
      "metadata": {
        "id": "NoismWqYBShe",
        "colab_type": "code",
        "colab": {}
      },
      "source": [
        "active_explorer = spark.read.csv(\"/content/drive/My Drive/steam/Jun4th analysis/active_explorer.csv\", \n",
        "                         inferSchema = True, header = True)\n",
        "\n",
        "inactive_explorer = spark.read.csv(\"/content/drive/My Drive/steam/Jun4th analysis/inactive_explorer.csv\", \n",
        "                         inferSchema = True, header = True)\n",
        "\n",
        "# vector transformation for active devoter \n",
        "activeExplorerAssembler = VectorAssembler(inputCols=[\"NumGamesOwned_Scaled\", \"NumReviewsGiven_Scaled\",\n",
        "                          \"Action-Adventure\", \"RPG\", \"Simulation\", \"RecommendedPercent\", \n",
        "                          \"SteamAgeProxy_Scaled\", \"topic_0\", \"topic_1\", \"topic_2\", \n",
        "                          \"topic_3\", \"topic_4\", \"topic_5\"], outputCol=\"features\")\n",
        "activeExplorerOutput = activeExplorerAssembler.transform(active_explorer)\n",
        "\n",
        "# vector transformation for inactive devoter\n",
        "inactiveExplorerAssembler = VectorAssembler(inputCols=[\"NumGamesOwned_Scaled\", \"NumReviewsGiven_Scaled\",\n",
        "                          \"Action-Adventure\", \"RPG\", \"Simulation\", \"RecommendedPercent\", \n",
        "                          \"SteamAgeProxy_Scaled\", \"topic_0\", \"topic_1\", \"topic_2\", \n",
        "                          \"topic_3\", \"topic_4\", \"topic_5\"], outputCol=\"features\")\n",
        "inactiveExplorerOutput = inactiveExplorerAssembler.transform(inactive_explorer)"
      ],
      "execution_count": 0,
      "outputs": []
    },
    {
      "cell_type": "code",
      "metadata": {
        "id": "wu5lh-G54evQ",
        "colab_type": "code",
        "colab": {}
      },
      "source": [
        "from pyspark.ml.feature import BucketedRandomProjectionLSH\n",
        "brp2 = BucketedRandomProjectionLSH(\n",
        "    inputCol=\"features\", outputCol=\"hashes\", seed=123, bucketLength=1.0\n",
        ")\n",
        "\n",
        "similarity_model2 = brp2.fit(inactiveExplorerOutput)\n",
        "df_similarity2 = similarity_model2.approxSimilarityJoin(inactiveExplorerOutput, \n",
        "                                  activeExplorerOutput, 3.0, distCol=\"EuclideanDistance\")"
      ],
      "execution_count": 0,
      "outputs": []
    },
    {
      "cell_type": "code",
      "metadata": {
        "id": "90nCnZQ640sa",
        "colab_type": "code",
        "outputId": "d275989a-0f40-4095-89b8-159d9a954dba",
        "colab": {
          "base_uri": "https://localhost:8080/",
          "height": 277
        }
      },
      "source": [
        "# get user pairs and euclidean distance \n",
        "explorer_EulideanDis_tbl = df_similarity2.select(col(\"datasetA.SteamID\").alias(\"UserA\"), \n",
        "         col(\"datasetB.SteamID\").alias(\"UserB\"), \n",
        "         col(\"EuclideanDistance\")).distinct()\n",
        "\n",
        "explorer_EulideanDis_tbl.show(10)"
      ],
      "execution_count": 0,
      "outputs": [
        {
          "output_type": "stream",
          "text": [
            "+-----------------+-----------------+------------------+\n",
            "|            UserA|            UserB| EuclideanDistance|\n",
            "+-----------------+-----------------+------------------+\n",
            "|76561197960272871|76561197961349661|1.9661490279223501|\n",
            "|76561197960272871|76561197961909747|2.9565488326763694|\n",
            "|76561197960272871|76561197964167727|2.6376908461758743|\n",
            "|76561197960272871|76561197965486585|1.6097844576215792|\n",
            "|76561197960272871|76561197966167786| 2.281532818085245|\n",
            "|76561197960272871|76561197966167786|2.6184732192634703|\n",
            "|76561197960272871|76561197970774806|2.1129798863216855|\n",
            "|76561197960272871|76561197970774806|  2.17100529709165|\n",
            "|76561197960272871|76561197975373553|1.5403850168058641|\n",
            "|76561197960272871|76561197975373553| 1.636805119737839|\n",
            "+-----------------+-----------------+------------------+\n",
            "only showing top 10 rows\n",
            "\n"
          ],
          "name": "stdout"
        }
      ]
    },
    {
      "cell_type": "code",
      "metadata": {
        "id": "Wf65AZbak9NC",
        "colab_type": "code",
        "outputId": "ab5b4ea9-b74f-4a6d-8a6d-70bbc39e0a65",
        "colab": {
          "base_uri": "https://localhost:8080/",
          "height": 277
        }
      },
      "source": [
        "# group by inactive user and filter out his min distance association\n",
        "inactive_pair_explorer = explorer_EulideanDis_tbl.groupBy(\"UserA\")\\\n",
        "                       .agg(F.min('EuclideanDistance').alias('EuclideanDistance'))\\\n",
        "                       .select(\"*\")\n",
        "\n",
        "inactive_pair_explorer = inactive_pair_explorer.join(explorer_EulideanDis_tbl, on=[\"UserA\", \"EuclideanDistance\"])\\\n",
        "                              .select(\"userA\", \"UserB\", \n",
        "                                      \"EuclideanDistance\").distinct()\n",
        "\n",
        "inactive_pair_explorer.show(10)"
      ],
      "execution_count": 0,
      "outputs": [
        {
          "output_type": "stream",
          "text": [
            "+-----------------+-----------------+-------------------+\n",
            "|            userA|            UserB|  EuclideanDistance|\n",
            "+-----------------+-----------------+-------------------+\n",
            "|76561197960272871|76561197994196598| 0.9847116329159517|\n",
            "|76561197960273224|76561198122630095|0.36578682316343764|\n",
            "|76561197960279601|76561197986244861|0.42141309898957824|\n",
            "|76561197960282791|76561198001991343|0.47750602090444894|\n",
            "|76561197960299916|76561198158266806| 0.9089257395409152|\n",
            "|76561197960304690|76561198046169390|0.08966047066572867|\n",
            "|76561197960377283|76561198049736417| 1.0958343852973402|\n",
            "|76561197960388703|76561197968367937|0.18251575274479728|\n",
            "|76561197960390240|76561198036386377| 0.2589652486338657|\n",
            "|76561197960390524|76561198014454061|0.40704422364160875|\n",
            "+-----------------+-----------------+-------------------+\n",
            "only showing top 10 rows\n",
            "\n"
          ],
          "name": "stdout"
        }
      ]
    },
    {
      "cell_type": "code",
      "metadata": {
        "id": "5io0YAFR47N9",
        "colab_type": "code",
        "colab": {}
      },
      "source": [
        "inactive_pair_explorer.toPandas().to_csv(\"/content/drive/My Drive/steam/Jun4th analysis/inactive_pair_explorer.csv\", index=False)"
      ],
      "execution_count": 0,
      "outputs": []
    },
    {
      "cell_type": "code",
      "metadata": {
        "id": "4kDsE-DnoZo9",
        "colab_type": "code",
        "outputId": "6ed3c50b-b3c4-4a79-b379-52547cbe90a8",
        "colab": {
          "base_uri": "https://localhost:8080/",
          "height": 70
        }
      },
      "source": [
        "# inactive explorer: user 76561197960272871\n",
        "print(userGames(76561197960272871))\n",
        "\n",
        "# his paired active explorer with shorest distance: user 76561197994196598\n",
        "print(userGames(76561197994196598))"
      ],
      "execution_count": 0,
      "outputs": [
        {
          "output_type": "stream",
          "text": [
            "[45750, 251230, 374040, 200710, 816090, 249990, 475150, 366440, 950050, 382050, 245280, 546350]\n",
            "[231740, 231740, 208400, 208400, 231740, 231740, 208400, 208400, 20900, 113200, 215530, 363930, 250460, 269210, 214830, 292570, 265670, 15560, 331440, 236090, 236090, 234390, 234390, 232950, 232950, 588950, 588950, 236090, 236090, 234390, 234390, 232950, 232950, 588950, 588950, 513370, 455400, 423900]\n"
          ],
          "name": "stdout"
        }
      ]
    },
    {
      "cell_type": "code",
      "metadata": {
        "id": "lLrnty3NqRs6",
        "colab_type": "code",
        "outputId": "b65814ff-351d-4b1a-c45b-dfa6b16294be",
        "colab": {
          "base_uri": "https://localhost:8080/",
          "height": 50
        }
      },
      "source": [
        "# inactive explorer: user 76561197960273224\n",
        "print(userGames(76561197960273224))\n",
        "\n",
        "# his paired active explorer with shorest distance: user 76561198122630095\n",
        "print(userGames(76561198122630095))"
      ],
      "execution_count": 0,
      "outputs": [
        {
          "output_type": "stream",
          "text": [
            "[39680, 335620, 695600, 932850, 552620, 881420, 606800, 346940, 285110, 488550, 680480, 627620, 1058430]\n",
            "[411300, 40390, 846030, 448370, 362490, 290770]\n"
          ],
          "name": "stdout"
        }
      ]
    },
    {
      "cell_type": "markdown",
      "metadata": {
        "id": "uHiD_ts6h5Qz",
        "colab_type": "text"
      },
      "source": [
        "### User similarity - Cosine similarity"
      ]
    },
    {
      "cell_type": "markdown",
      "metadata": {
        "id": "3TD99PWnklv2",
        "colab_type": "text"
      },
      "source": [
        "#### Cluster 1: Devoter's cosine similarity (active & inactive)"
      ]
    },
    {
      "cell_type": "code",
      "metadata": {
        "id": "UfXrnV0FqbMe",
        "colab_type": "code",
        "colab": {}
      },
      "source": [
        "# udf to calculate user cosine similarity\n",
        "cosine_similarity_udf = F.udf(lambda x,y: float(1 - x.dot(y)/(x.norm(2)*y.norm(2))), DoubleType())"
      ],
      "execution_count": 0,
      "outputs": []
    },
    {
      "cell_type": "code",
      "metadata": {
        "id": "YpXlBB93Y5pB",
        "colab_type": "code",
        "outputId": "9d4766da-7055-45a5-bf8f-60067e834bbe",
        "colab": {
          "base_uri": "https://localhost:8080/",
          "height": 440
        }
      },
      "source": [
        "devoter_CosineSim_tbl = inactiveDevoterOutput.alias(\"i\").join(activeDevoterOutput.alias(\"j\"), \n",
        "                                                      F.col(\"i.SteamID\") < F.col(\"j.SteamID\"))\\\n",
        "                      .select(\n",
        "                          F.col(\"i.SteamID\").alias(\"UserA\"), \n",
        "                          F.col(\"j.SteamID\").alias(\"UserB\"), \n",
        "                          cosine_similarity_udf(\"i.features\", \"j.features\").alias(\"CosineSimilarity\"))\\\n",
        "                      .sort(\"UserA\", \"UserB\")\n",
        "\n",
        "devoter_CosineSim_tbl.show(10)"
      ],
      "execution_count": 0,
      "outputs": [
        {
          "output_type": "stream",
          "text": [
            "+-----------------+-----------------+------------------+\n",
            "|            UserA|            UserB|  CosineSimilarity|\n",
            "+-----------------+-----------------+------------------+\n",
            "|76561197960295032|76561197960298812|0.5917112825332798|\n",
            "|76561197960295032|76561197960310385|0.7206291933369796|\n",
            "|76561197960295032|76561197960315445|0.6731554437833029|\n",
            "|76561197960295032|76561197960317608|0.8040170585020128|\n",
            "|76561197960295032|76561197960346125|0.5027252378874162|\n",
            "|76561197960295032|76561197960364583|0.5141188398476442|\n",
            "|76561197960295032|76561197960366142|0.3732076462274818|\n",
            "|76561197960295032|76561197960377915|0.8812669868951745|\n",
            "|76561197960295032|76561197960387556|0.5449605516692642|\n",
            "|76561197960295032|76561197960392584|  0.58201475364335|\n",
            "|76561197960295032|76561197960394475|0.6403922248692153|\n",
            "|76561197960295032|76561197960395066|0.6411915006420801|\n",
            "|76561197960295032|76561197960400654|0.3026439191991368|\n",
            "|76561197960295032|76561197960403904|0.5265209491715273|\n",
            "|76561197960295032|76561197960412770|0.8726761382260542|\n",
            "|76561197960295032|76561197960420417|0.8286742328613037|\n",
            "|76561197960295032|76561197960421566|0.8284323950051945|\n",
            "|76561197960295032|76561197960441606|0.5946591529532617|\n",
            "|76561197960295032|76561197960459248|0.5583569596716051|\n",
            "|76561197960295032|76561197960467192|0.3048818452848254|\n",
            "+-----------------+-----------------+------------------+\n",
            "only showing top 20 rows\n",
            "\n"
          ],
          "name": "stdout"
        }
      ]
    },
    {
      "cell_type": "code",
      "metadata": {
        "id": "QaBP5k-DkhWl",
        "colab_type": "code",
        "colab": {
          "base_uri": "https://localhost:8080/",
          "height": 277
        },
        "outputId": "6bfea8a6-b436-46e8-f40a-47b2bd30aecc"
      },
      "source": [
        "inactive_cs_devoter = devoter_CosineSim_tbl.groupBy(\"UserA\")\\\n",
        "                       .agg(F.max('CosineSimilarity').alias('CosineSimilarity'))\\\n",
        "                       .select(\"*\")\n",
        "\n",
        "inactive_cs_devoter = inactive_cs_devoter.join(devoter_CosineSim_tbl, on=[\"UserA\", \"CosineSimilarity\"])\\\n",
        "                              .select(\"userA\", \"UserB\", \n",
        "                                      \"CosineSimilarity\").distinct()\n",
        "\n",
        "inactive_cs_devoter.show(10)"
      ],
      "execution_count": 18,
      "outputs": [
        {
          "output_type": "stream",
          "text": [
            "+-----------------+-----------------+------------------+\n",
            "|            userA|            UserB|  CosineSimilarity|\n",
            "+-----------------+-----------------+------------------+\n",
            "|76561198092430347|76561198118093128|0.9843282227350117|\n",
            "|76561198041865216|76561198290510958|0.9735762340958451|\n",
            "|76561197961688758|76561198032286541|0.9977976001515108|\n",
            "|76561198249267864|76561198290510958|0.9866101200983295|\n",
            "|76561198029600725|76561198956936258|0.9979504682151957|\n",
            "|76561198014006144|76561198290510958|0.9981684696872873|\n",
            "|76561197987316518|76561198012450648|0.9912988867840512|\n",
            "|76561198283787785|76561198956936258|0.9882205608548136|\n",
            "|76561198068976482|76561198087140419|0.9828901729525669|\n",
            "|76561198046020759|76561198907876551|0.9855637875697699|\n",
            "+-----------------+-----------------+------------------+\n",
            "only showing top 10 rows\n",
            "\n"
          ],
          "name": "stdout"
        }
      ]
    },
    {
      "cell_type": "code",
      "metadata": {
        "id": "J4N7hlzekWOV",
        "colab_type": "code",
        "colab": {}
      },
      "source": [
        "inactive_cs_devoter.toPandas().to_csv(\"/content/drive/My Drive/steam/Jun4th analysis/inactive_cs_devoter.csv\", index=False)"
      ],
      "execution_count": 0,
      "outputs": []
    },
    {
      "cell_type": "code",
      "metadata": {
        "id": "_NNk1q6O0HK0",
        "colab_type": "code",
        "colab": {
          "base_uri": "https://localhost:8080/",
          "height": 50
        },
        "outputId": "d81cf551-5c22-4842-fa33-4fe48d3d2c7a"
      },
      "source": [
        "# sample \n",
        "# inactive devoter:\n",
        "print(userGames(76561198092430347))\n",
        "\n",
        "# active devoter having highest cosine score with user 76561198092430347\n",
        "print(userGames(76561198118093128))"
      ],
      "execution_count": 20,
      "outputs": [
        {
          "output_type": "stream",
          "text": [
            "[787860]\n",
            "[794260, 633230]\n"
          ],
          "name": "stdout"
        }
      ]
    },
    {
      "cell_type": "markdown",
      "metadata": {
        "id": "tln2poNLkvmg",
        "colab_type": "text"
      },
      "source": [
        "#### Cluster 2: Explorer's cosine similarity (active & inactive)"
      ]
    },
    {
      "cell_type": "code",
      "metadata": {
        "id": "Qwurcfj0iASV",
        "colab_type": "code",
        "outputId": "a38b9b19-c4a2-4bdb-e9e8-3bca97f350c3",
        "colab": {
          "base_uri": "https://localhost:8080/",
          "height": 277
        }
      },
      "source": [
        "explorer_CosineSim_tbl = inactiveExplorerOutput.alias(\"i\").join(activeExplorerOutput.alias(\"j\"), \n",
        "                                                      F.col(\"i.SteamID\") < F.col(\"j.SteamID\"))\\\n",
        "                      .select(\n",
        "                          F.col(\"i.SteamID\").alias(\"UserA\"), \n",
        "                          F.col(\"j.SteamID\").alias(\"UserB\"), \n",
        "                          cosine_similarity_udf(\"i.features\", \"j.features\").alias(\"CosineSimilarity\"))\\\n",
        "                      .sort(\"UserA\", \"UserB\")\n",
        "\n",
        "explorer_CosineSim_tbl.show(10)"
      ],
      "execution_count": 12,
      "outputs": [
        {
          "output_type": "stream",
          "text": [
            "+-----------------+-----------------+--------------------+\n",
            "|            UserA|            UserB|    CosineSimilarity|\n",
            "+-----------------+-----------------+--------------------+\n",
            "|76561197960272871|76561197960335200|  0.4157896245469941|\n",
            "|76561197960272871|76561197960364583| 0.33141243608975224|\n",
            "|76561197960272871|76561197960407758|0.036135225675244964|\n",
            "|76561197960272871|76561197960410177| 0.19666842936816675|\n",
            "|76561197960272871|76561197960437534|  0.2372200805351724|\n",
            "|76561197960272871|76561197960478145| 0.07958900081987152|\n",
            "|76561197960272871|76561197960555282| 0.16144506700218886|\n",
            "|76561197960272871|76561197960577758|  0.6572344827506205|\n",
            "|76561197960272871|76561197960577758|  0.6819640847222268|\n",
            "|76561197960272871|76561197960616516| 0.14952854571462926|\n",
            "+-----------------+-----------------+--------------------+\n",
            "only showing top 10 rows\n",
            "\n"
          ],
          "name": "stdout"
        }
      ]
    },
    {
      "cell_type": "code",
      "metadata": {
        "id": "m0RJV49Xm8sz",
        "colab_type": "code",
        "outputId": "3f7ec0f6-045a-4128-8a98-c920a603b98d",
        "colab": {
          "base_uri": "https://localhost:8080/",
          "height": 277
        }
      },
      "source": [
        "inactive_cs_explorer = explorer_CosineSim_tbl.groupBy(\"UserA\")\\\n",
        "                       .agg(F.max('CosineSimilarity').alias('CosineSimilarity'))\\\n",
        "                       .select(\"*\")\n",
        "\n",
        "inactive_cs_explorer = inactive_cs_explorer.join(explorer_CosineSim_tbl, on=[\"UserA\", \"CosineSimilarity\"])\\\n",
        "                              .select(\"userA\", \"UserB\", \n",
        "                                      \"CosineSimilarity\").distinct()\n",
        "\n",
        "inactive_cs_explorer.show(10)"
      ],
      "execution_count": 13,
      "outputs": [
        {
          "output_type": "stream",
          "text": [
            "+-----------------+-----------------+------------------+\n",
            "|            userA|            UserB|  CosineSimilarity|\n",
            "+-----------------+-----------------+------------------+\n",
            "|76561198008718852|76561198075424014|0.8026008697612763|\n",
            "|76561198162521541|76561198284759191|0.7144364921214936|\n",
            "|76561198271768560|76561198284759191|0.8837483615978284|\n",
            "|76561198008276226|76561198088633709|0.7805697893309586|\n",
            "|76561198075550282|76561198088633709|0.8208440374679861|\n",
            "|76561198059731474|76561198088633709|0.8215786455468204|\n",
            "|76561197983132128|76561198031442261|0.9031135920129615|\n",
            "|76561198046820214|76561198067579208|0.9047614968554467|\n",
            "|76561198037859628|76561198088633709|0.7892379179692017|\n",
            "|76561198250080938|76561198365125081|0.8457843050521361|\n",
            "+-----------------+-----------------+------------------+\n",
            "only showing top 10 rows\n",
            "\n"
          ],
          "name": "stdout"
        }
      ]
    },
    {
      "cell_type": "code",
      "metadata": {
        "id": "hZ98Go0l0JJs",
        "colab_type": "code",
        "colab": {
          "base_uri": "https://localhost:8080/",
          "height": 50
        },
        "outputId": "7f4e3660-ebfa-4b48-bcbb-551af955cd35"
      },
      "source": [
        "print(userGames(76561198008718852))\n",
        "print(userGames(76561198075424014))"
      ],
      "execution_count": 21,
      "outputs": [
        {
          "output_type": "stream",
          "text": [
            "[435150, 666140, 1145360, 656350, 368340, 598980]\n",
            "[347990, 284160, 250460, 293760]\n"
          ],
          "name": "stdout"
        }
      ]
    },
    {
      "cell_type": "code",
      "metadata": {
        "id": "mpPzVy85m84I",
        "colab_type": "code",
        "colab": {}
      },
      "source": [
        "inactive_cs_explorer.toPandas().to_csv(\"/content/drive/My Drive/steam/Jun4th analysis/inactive_cs_explorer.csv\", index=False)"
      ],
      "execution_count": 0,
      "outputs": []
    },
    {
      "cell_type": "markdown",
      "metadata": {
        "colab_type": "text",
        "id": "DwZEPj3pnTj-"
      },
      "source": [
        "### Collaborative filtering"
      ]
    },
    {
      "cell_type": "code",
      "metadata": {
        "colab_type": "code",
        "id": "POcCDQS-nUSn",
        "outputId": "2d9ca20a-7ac1-4365-bc8e-c8c8825cd6ae",
        "colab": {
          "base_uri": "https://localhost:8080/",
          "height": 456
        }
      },
      "source": [
        "# from pyspark.ml.evaluation import RegressionEvaluator\n",
        "# from pyspark.ml.recommendation import ALS\n",
        "# from pyspark.sql import Row\n",
        "\n",
        "# df_reviews_nonull.createOrReplaceTempView(\"df_reviews_nonull\")\n",
        "\n",
        "# user_game_pair = df_reviews_nonull.select(df_reviews_nonull.SteamID.cast('string').alias('SteamID'), \"GameID\", \n",
        "#                                           df_reviews_nonull.Recommended.cast('int').alias('Recommended')).distinct()\n",
        "\n",
        "# user_game_pair = user_game_pair.filter(user_game_pair.Recommended.isNotNull())\n",
        "# print(user_game_pair.count())\n",
        "# user_game_pair.show()"
      ],
      "execution_count": 0,
      "outputs": [
        {
          "output_type": "stream",
          "text": [
            "1654950\n",
            "+-----------------+-------+-----------+\n",
            "|          SteamID| GameID|Recommended|\n",
            "+-----------------+-------+-----------+\n",
            "|76561198031939499| 916730|          1|\n",
            "|76561198200201326| 916730|          1|\n",
            "|76561198039498630| 916730|          1|\n",
            "|76561198073275692| 916730|          1|\n",
            "|76561197970741715| 916730|          1|\n",
            "|76561198056629116| 905340|          1|\n",
            "|76561198027259194| 905340|          1|\n",
            "|76561197993431481| 905340|          0|\n",
            "|76561197990725997| 899960|          0|\n",
            "|76561198353863346| 889170|          1|\n",
            "|76561197995669628| 874040|          1|\n",
            "|76561198227149804| 846850|          1|\n",
            "|76561198040578523| 834580|          1|\n",
            "|76561198117720210|1017580|          1|\n",
            "|76561197970725190|1013040|          0|\n",
            "|76561198840151392|1008510|          1|\n",
            "|76561198044581244| 987190|          1|\n",
            "|76561197973918967| 929850|          1|\n",
            "|76561198136865344| 676820|          1|\n",
            "|76561197970425141| 676820|          1|\n",
            "+-----------------+-------+-----------+\n",
            "only showing top 20 rows\n",
            "\n"
          ],
          "name": "stdout"
        }
      ]
    },
    {
      "cell_type": "code",
      "metadata": {
        "colab_type": "code",
        "id": "5TAh9ukttPo8",
        "outputId": "1ab55741-da71-4a9e-f4ee-745e9a1c50a3",
        "colab": {
          "base_uri": "https://localhost:8080/",
          "height": 196
        }
      },
      "source": [
        "# from pyspark.ml.feature import StringIndexer\n",
        "# from pyspark.ml import Pipeline\n",
        "\n",
        "# UserIndexer = StringIndexer(inputCol='SteamID', outputCol =\"UserIndexer\")\n",
        "# pipeline = Pipeline(stages=[UserIndexer])\n",
        "# user_game_pair_transformed = pipeline.fit(user_game_pair).transform(user_game_pair)\n",
        "# user_game_pair_transformed.show(5)"
      ],
      "execution_count": 0,
      "outputs": [
        {
          "output_type": "stream",
          "text": [
            "+-----------------+------+-----------+-----------+\n",
            "|          SteamID|GameID|Recommended|UserIndexer|\n",
            "+-----------------+------+-----------+-----------+\n",
            "|76561198031939499|916730|          1|   145931.0|\n",
            "|76561198200201326|916730|          1|   881948.0|\n",
            "|76561198039498630|916730|          1|   498269.0|\n",
            "|76561198073275692|916730|          1|   645667.0|\n",
            "|76561197970741715|916730|          1|   264484.0|\n",
            "+-----------------+------+-----------+-----------+\n",
            "only showing top 5 rows\n",
            "\n"
          ],
          "name": "stdout"
        }
      ]
    },
    {
      "cell_type": "code",
      "metadata": {
        "ExecuteTime": {
          "end_time": "2020-06-04T18:31:54.510600Z",
          "start_time": "2020-06-04T18:28:59.743466Z"
        },
        "colab_type": "code",
        "id": "xk0TeEa1oX3_",
        "colab": {}
      },
      "source": [
        "# (train, test) = user_game_pair_transformed.randomSplit([0.7, 0.3])\n",
        "\n",
        "# Build the recommendation model using ALS on the training data\n",
        "# Note we set cold start strategy to 'drop' to ensure we don't get NaN evaluation metrics\n",
        "# als = ALS(maxIter=5, regParam=0.09, userCol=\"UserIndexer\", itemCol=\"GameID\", ratingCol=\"Recommended\",\n",
        "#           coldStartStrategy=\"drop\")\n",
        "\n",
        "# alsModel = als.fit(train)"
      ],
      "execution_count": 0,
      "outputs": []
    },
    {
      "cell_type": "code",
      "metadata": {
        "colab_type": "code",
        "id": "CaeAdOOWYrrD",
        "colab": {}
      },
      "source": [
        "# Evaluate the model by computing the RMSE on the test data\n",
        "# alsPredictions = alsModel.transform(test)\n",
        "# evaluator = RegressionEvaluator(metricName=\"rmse\", labelCol=\"Recommended\",\n",
        "#                                 predictionCol=\"prediction\")\n",
        "\n",
        "# rmse = evaluator.evaluate(alsPredictions)\n",
        "# print(\"Root-mean-square error = \" + str(rmse))\n",
        "\n",
        "# predictions.show(10)\n",
        "# alsPredictions.show()"
      ],
      "execution_count": 0,
      "outputs": []
    },
    {
      "cell_type": "code",
      "metadata": {
        "colab_type": "code",
        "id": "OuOf9g3KoYl-",
        "colab": {}
      },
      "source": [
        "# # Generate top 10 game recommendations for each user\n",
        "# userRecs = alsModel.recommendForAllUsers(10)\n",
        "# # Generate top 10 user recommendations for each movie\n",
        "# movieRecs = alsModel.recommendForAllItems(10)\n",
        "\n",
        "# # Generate top 10 game recommendations for a specified set of users\n",
        "# users = ratings.select(als.getUserCol()).distinct().limit(3)\n",
        "# userSubsetRecs = model.recommendForUserSubset(users, 10)\n",
        "# # Generate top 10 user recommendations for a specified set of games\n",
        "# games = ratings.select(als.getItemCol()).distinct().limit(3)\n",
        "# gameSubSetRecs = model.recommendForItemSubset(games, 10)"
      ],
      "execution_count": 0,
      "outputs": []
    },
    {
      "cell_type": "markdown",
      "metadata": {
        "colab_type": "text",
        "id": "t2kX_-GX1GmT"
      },
      "source": [
        "### K means clustering"
      ]
    },
    {
      "cell_type": "code",
      "metadata": {
        "colab_type": "code",
        "id": "ETPSoWcyyYE7",
        "colab": {}
      },
      "source": [
        "from pyspark.ml.clustering import KMeans\n",
        "from pyspark.ml.evaluation import ClusteringEvaluator\n",
        "from pyspark.ml.feature import VectorAssembler\n",
        "\n",
        "user_profile_scaled = spark.read.csv(\"/content/drive/My Drive/steam/final dataset/user_profile_scaled.csv\", \n",
        "                         inferSchema = True, header = True)\n",
        "dataset = user_profile_scaled\n",
        "\n",
        "KmeansAssembler = VectorAssembler(inputCols=[\"NumGamesOwned_Scaled\", \"NumReviewsGiven_Scaled\",\n",
        "                          \"Action-Adventure\", \"RPG\", \"Simulation\", \"RecommendedPercent\", \n",
        "                          \"SteamAgeProxy_Scaled\", \"topic_0\", \"topic_1\", \"topic_2\", \n",
        "                          \"topic_3\", \"topic_4\", \"topic_5\"], outputCol=\"features\")\n",
        "\n",
        "df_kmeans = KmeansAssembler.transform(dataset).select('SteamID', 'features')"
      ],
      "execution_count": 0,
      "outputs": []
    },
    {
      "cell_type": "code",
      "metadata": {
        "colab_type": "code",
        "id": "HQNsDdI9K9YY",
        "outputId": "cab4b7a7-3525-46c5-cab0-a876f429f19a",
        "colab": {
          "base_uri": "https://localhost:8080/",
          "height": 406
        }
      },
      "source": [
        "silhouette = np.zeros(10)\n",
        "for k in range(2,10):\n",
        "    kmeans = KMeans().setK(k).setSeed(123).setFeaturesCol(\"features\")\n",
        "    model = kmeans.fit(df_kmeans)\n",
        "    predictions = model.transform(df_kmeans)\n",
        "    evaluator = ClusteringEvaluator()\n",
        "    silhouette[k] = evaluator.evaluate(predictions)\n",
        "\n",
        "fig, ax = plt.subplots(1,1, figsize =(8,6))\n",
        "ax.plot(range(2,10),silhouette[2:10])\n",
        "ax.set_xlabel('k')\n",
        "ax.set_ylabel('silhouette')"
      ],
      "execution_count": 0,
      "outputs": [
        {
          "output_type": "execute_result",
          "data": {
            "text/plain": [
              "Text(0, 0.5, 'silhouette')"
            ]
          },
          "metadata": {
            "tags": []
          },
          "execution_count": 46
        },
        {
          "output_type": "display_data",
          "data": {
            "image/png": "[encoded data removed]",
            "text/plain": [
              "<Figure size 576x432 with 1 Axes>"
            ]
          },
          "metadata": {
            "tags": [],
            "needs_background": "light"
          }
        }
      ]
    },
    {
      "cell_type": "code",
      "metadata": {
        "colab_type": "code",
        "id": "BhuHeZBQxywe",
        "outputId": "ed84c39a-9e51-4a00-80bb-aaf456242f0d",
        "colab": {
          "base_uri": "https://localhost:8080/",
          "height": 212
        }
      },
      "source": [
        "# Trains a k-means model.\n",
        "kmeans = KMeans().setK(3).setSeed(1).setFeaturesCol(\"features\")\n",
        "model = kmeans.fit(df_kmeans)\n",
        "\n",
        "# Make predictions\n",
        "predictions = model.transform(df_kmeans)\n",
        "\n",
        "# Evaluate clustering by computing Silhouette score\n",
        "#The silhouette value measures how similar a point is to its own cluster (cohesion) compared to other clusters (separation)\n",
        "#The range of the Silhouette value is between +1 and -1. A high value is desirable and indicates that \n",
        "#the point is placed in the correct cluster. If many points have a negative Silhouette value, \n",
        "#it may indicate that we have created too many or too few clusters.\n",
        "evaluator = ClusteringEvaluator()\n",
        "\n",
        "silhouette = evaluator.evaluate(predictions)\n",
        "print(\"Silhouette with squared euclidean distance = \" + str(silhouette))\n",
        "\n",
        "# Shows the result\n",
        "centers = model.clusterCenters()\n",
        "print(\"Cluster Centers: \")\n",
        "for center in centers:\n",
        "    print(center)"
      ],
      "execution_count": 0,
      "outputs": [
        {
          "output_type": "stream",
          "text": [
            "Silhouette with squared euclidean distance = 0.7618125535740367\n",
            "Cluster Centers: \n",
            "[1.6127127  1.42526487 0.44354945 0.34006496 0.17741224 0.79872409\n",
            " 3.03860435 0.3188078  0.12646051 0.03934015 0.19110228 0.16064142\n",
            " 0.12585003]\n",
            "[7.20381091e+00 3.56098073e+01 4.59152727e-01 1.68160000e-01\n",
            " 9.63600000e-02 7.14098182e-01 2.67647273e+00 2.51210909e-01\n",
            " 1.18029091e-01 2.22800000e-02 1.39480000e-01 9.31527273e-02\n",
            " 1.03240000e-01]\n",
            "[0.42937133 0.28458435 0.44394407 0.27513905 0.2519602  0.84502336\n",
            " 0.08410037 0.39438051 0.09911767 0.05048843 0.15692369 0.19161504\n",
            " 0.10265169]\n"
          ],
          "name": "stdout"
        }
      ]
    },
    {
      "cell_type": "code",
      "metadata": {
        "colab_type": "code",
        "id": "-k416SODzQPQ",
        "colab": {}
      },
      "source": [
        "df_pred = predictions.select(\"SteamID\", \"prediction\").join(dataset, 'SteamID')\n",
        "pandas_kmeans = df_pred.toPandas().set_index('SteamID')"
      ],
      "execution_count": 0,
      "outputs": []
    },
    {
      "cell_type": "code",
      "metadata": {
        "colab_type": "code",
        "id": "JhYwly5pWtVO",
        "colab": {}
      },
      "source": [
        "df_pred.toPandas().to_csv(\"/content/drive/My Drive/steam/final dataset/kmeans_pred.csv\", index=False)"
      ],
      "execution_count": 0,
      "outputs": []
    },
    {
      "cell_type": "code",
      "metadata": {
        "colab_type": "code",
        "id": "Nn-rU2uK0GkN",
        "outputId": "f97d5f7b-7cc8-4abc-e6cf-c97e76e5f295",
        "colab": {
          "base_uri": "https://localhost:8080/",
          "height": 575
        }
      },
      "source": [
        "import matplotlib.pyplot as plt\n",
        "from mpl_toolkits.mplot3d import Axes3D\n",
        "\n",
        "threedee = plt.figure(figsize=(12,10)).gca(projection='3d')\n",
        "threedee.scatter(pandas_kmeans.SteamAgeProxy_Scaled, pandas_kmeans.NumGamesOwned_Scaled, \n",
        "                 pandas_kmeans.NumReviewsGiven_Scaled, c=pandas_kmeans.prediction)\n",
        "threedee.set_xlabel('x')\n",
        "threedee.set_ylabel('y')\n",
        "threedee.set_zlabel('z')\n",
        "plt.show()"
      ],
      "execution_count": 0,
      "outputs": [
        {
          "output_type": "display_data",
          "data": {
            "image/png": "[encoded data removed]",
            "text/plain": [
              "<Figure size 864x720 with 1 Axes>"
            ]
          },
          "metadata": {
            "tags": [],
            "needs_background": "light"
          }
        }
      ]
    }
  ]
}